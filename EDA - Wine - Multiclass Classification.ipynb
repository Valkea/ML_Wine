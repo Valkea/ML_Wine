{
 "cells": [
  {
   "cell_type": "markdown",
   "metadata": {},
   "source": [
    "# Red Wine Quality - Exploratory Data Analysis"
   ]
  },
  {
   "cell_type": "markdown",
   "metadata": {},
   "source": [
    "### Table of Contents\n",
    "\n",
    "* [1. Load & explore data](#P01)\n",
    "    * [Check the columns names & types](#P012)\n",
    "    * [Check the range of values](#P013)\n",
    "    * [Check the missing values](#P014)\n",
    "    * [Check the target variable](#P015)\n",
    "* [2. Feature selection](#P02)\n",
    "    * [Density plots](#P021)\n",
    "    * [Boxplots](#P022)\n",
    "    * [Correlation matrix](#P023)\n",
    "    * [Select columns](#P024)\n",
    "* [3. Split the dataset](#P03)\n",
    "* [4. Try various *classification* models](#P04)\n",
    "    * [Logistic Regression](#P04_logistic_regression)\n",
    "    * [Decision Tree](#P04_decision_tree)\n",
    "        * [Search best max_depth](#P04_decision_tree_max_d)\n",
    "        * [Search best min_samples_leaf](#P04_decision_tree_min_samples_leaf)\n",
    "    * [Random Forest](#P04_random_forest)\n",
    "        * [Search best n_estimators](#P04_random_forest_n_estimators)\n",
    "        * [Search best max_depth](#P04_random_forest_max_d)\n",
    "    * [XGBoost](#P04_xgboost)\n",
    "        * [Search best eta](#P04_xgboost_eta)\n",
    "        * [Search best max_depth](#P04_xgboost_max_depth)\n",
    "        * [Search best min_child_weight](#P04_xgboost_min_child_weight)\n",
    "    * [Model selection](#P04_result)\n",
    "* [5. Export the selected model](#P05)\n",
    "    * [Train the model](#P05_train)\n",
    "    * [Export the model](#P05_export)"
   ]
  },
  {
   "cell_type": "code",
   "execution_count": 1,
   "metadata": {},
   "outputs": [],
   "source": [
    "import pandas as pd\n",
    "import matplotlib.pyplot as plt\n",
    "import seaborn as sns\n",
    "import numpy as np\n",
    "\n",
    "from tqdm import tqdm, notebook"
   ]
  },
  {
   "cell_type": "markdown",
   "metadata": {},
   "source": [
    "# 1. Load & explore data <a class=\"anchor\" id=\"P01\"></a>"
   ]
  },
  {
   "cell_type": "code",
   "execution_count": 2,
   "metadata": {},
   "outputs": [
    {
     "data": {
      "text/html": [
       "<div>\n",
       "<style scoped>\n",
       "    .dataframe tbody tr th:only-of-type {\n",
       "        vertical-align: middle;\n",
       "    }\n",
       "\n",
       "    .dataframe tbody tr th {\n",
       "        vertical-align: top;\n",
       "    }\n",
       "\n",
       "    .dataframe thead th {\n",
       "        text-align: right;\n",
       "    }\n",
       "</style>\n",
       "<table border=\"1\" class=\"dataframe\">\n",
       "  <thead>\n",
       "    <tr style=\"text-align: right;\">\n",
       "      <th></th>\n",
       "      <th>fixed acidity</th>\n",
       "      <th>volatile acidity</th>\n",
       "      <th>citric acid</th>\n",
       "      <th>residual sugar</th>\n",
       "      <th>chlorides</th>\n",
       "      <th>free sulfur dioxide</th>\n",
       "      <th>total sulfur dioxide</th>\n",
       "      <th>density</th>\n",
       "      <th>pH</th>\n",
       "      <th>sulphates</th>\n",
       "      <th>alcohol</th>\n",
       "      <th>quality</th>\n",
       "    </tr>\n",
       "  </thead>\n",
       "  <tbody>\n",
       "    <tr>\n",
       "      <th>0</th>\n",
       "      <td>7.4</td>\n",
       "      <td>0.700</td>\n",
       "      <td>0.00</td>\n",
       "      <td>1.9</td>\n",
       "      <td>0.076</td>\n",
       "      <td>11.0</td>\n",
       "      <td>34.0</td>\n",
       "      <td>0.99780</td>\n",
       "      <td>3.51</td>\n",
       "      <td>0.56</td>\n",
       "      <td>9.4</td>\n",
       "      <td>5</td>\n",
       "    </tr>\n",
       "    <tr>\n",
       "      <th>1</th>\n",
       "      <td>7.8</td>\n",
       "      <td>0.880</td>\n",
       "      <td>0.00</td>\n",
       "      <td>2.6</td>\n",
       "      <td>0.098</td>\n",
       "      <td>25.0</td>\n",
       "      <td>67.0</td>\n",
       "      <td>0.99680</td>\n",
       "      <td>3.20</td>\n",
       "      <td>0.68</td>\n",
       "      <td>9.8</td>\n",
       "      <td>5</td>\n",
       "    </tr>\n",
       "    <tr>\n",
       "      <th>2</th>\n",
       "      <td>7.8</td>\n",
       "      <td>0.760</td>\n",
       "      <td>0.04</td>\n",
       "      <td>2.3</td>\n",
       "      <td>0.092</td>\n",
       "      <td>15.0</td>\n",
       "      <td>54.0</td>\n",
       "      <td>0.99700</td>\n",
       "      <td>3.26</td>\n",
       "      <td>0.65</td>\n",
       "      <td>9.8</td>\n",
       "      <td>5</td>\n",
       "    </tr>\n",
       "    <tr>\n",
       "      <th>3</th>\n",
       "      <td>11.2</td>\n",
       "      <td>0.280</td>\n",
       "      <td>0.56</td>\n",
       "      <td>1.9</td>\n",
       "      <td>0.075</td>\n",
       "      <td>17.0</td>\n",
       "      <td>60.0</td>\n",
       "      <td>0.99800</td>\n",
       "      <td>3.16</td>\n",
       "      <td>0.58</td>\n",
       "      <td>9.8</td>\n",
       "      <td>6</td>\n",
       "    </tr>\n",
       "    <tr>\n",
       "      <th>4</th>\n",
       "      <td>7.4</td>\n",
       "      <td>0.700</td>\n",
       "      <td>0.00</td>\n",
       "      <td>1.9</td>\n",
       "      <td>0.076</td>\n",
       "      <td>11.0</td>\n",
       "      <td>34.0</td>\n",
       "      <td>0.99780</td>\n",
       "      <td>3.51</td>\n",
       "      <td>0.56</td>\n",
       "      <td>9.4</td>\n",
       "      <td>5</td>\n",
       "    </tr>\n",
       "    <tr>\n",
       "      <th>...</th>\n",
       "      <td>...</td>\n",
       "      <td>...</td>\n",
       "      <td>...</td>\n",
       "      <td>...</td>\n",
       "      <td>...</td>\n",
       "      <td>...</td>\n",
       "      <td>...</td>\n",
       "      <td>...</td>\n",
       "      <td>...</td>\n",
       "      <td>...</td>\n",
       "      <td>...</td>\n",
       "      <td>...</td>\n",
       "    </tr>\n",
       "    <tr>\n",
       "      <th>1594</th>\n",
       "      <td>6.2</td>\n",
       "      <td>0.600</td>\n",
       "      <td>0.08</td>\n",
       "      <td>2.0</td>\n",
       "      <td>0.090</td>\n",
       "      <td>32.0</td>\n",
       "      <td>44.0</td>\n",
       "      <td>0.99490</td>\n",
       "      <td>3.45</td>\n",
       "      <td>0.58</td>\n",
       "      <td>10.5</td>\n",
       "      <td>5</td>\n",
       "    </tr>\n",
       "    <tr>\n",
       "      <th>1595</th>\n",
       "      <td>5.9</td>\n",
       "      <td>0.550</td>\n",
       "      <td>0.10</td>\n",
       "      <td>2.2</td>\n",
       "      <td>0.062</td>\n",
       "      <td>39.0</td>\n",
       "      <td>51.0</td>\n",
       "      <td>0.99512</td>\n",
       "      <td>3.52</td>\n",
       "      <td>0.76</td>\n",
       "      <td>11.2</td>\n",
       "      <td>6</td>\n",
       "    </tr>\n",
       "    <tr>\n",
       "      <th>1596</th>\n",
       "      <td>6.3</td>\n",
       "      <td>0.510</td>\n",
       "      <td>0.13</td>\n",
       "      <td>2.3</td>\n",
       "      <td>0.076</td>\n",
       "      <td>29.0</td>\n",
       "      <td>40.0</td>\n",
       "      <td>0.99574</td>\n",
       "      <td>3.42</td>\n",
       "      <td>0.75</td>\n",
       "      <td>11.0</td>\n",
       "      <td>6</td>\n",
       "    </tr>\n",
       "    <tr>\n",
       "      <th>1597</th>\n",
       "      <td>5.9</td>\n",
       "      <td>0.645</td>\n",
       "      <td>0.12</td>\n",
       "      <td>2.0</td>\n",
       "      <td>0.075</td>\n",
       "      <td>32.0</td>\n",
       "      <td>44.0</td>\n",
       "      <td>0.99547</td>\n",
       "      <td>3.57</td>\n",
       "      <td>0.71</td>\n",
       "      <td>10.2</td>\n",
       "      <td>5</td>\n",
       "    </tr>\n",
       "    <tr>\n",
       "      <th>1598</th>\n",
       "      <td>6.0</td>\n",
       "      <td>0.310</td>\n",
       "      <td>0.47</td>\n",
       "      <td>3.6</td>\n",
       "      <td>0.067</td>\n",
       "      <td>18.0</td>\n",
       "      <td>42.0</td>\n",
       "      <td>0.99549</td>\n",
       "      <td>3.39</td>\n",
       "      <td>0.66</td>\n",
       "      <td>11.0</td>\n",
       "      <td>6</td>\n",
       "    </tr>\n",
       "  </tbody>\n",
       "</table>\n",
       "<p>1599 rows × 12 columns</p>\n",
       "</div>"
      ],
      "text/plain": [
       "      fixed acidity  volatile acidity  citric acid  residual sugar  chlorides  \\\n",
       "0               7.4             0.700         0.00             1.9      0.076   \n",
       "1               7.8             0.880         0.00             2.6      0.098   \n",
       "2               7.8             0.760         0.04             2.3      0.092   \n",
       "3              11.2             0.280         0.56             1.9      0.075   \n",
       "4               7.4             0.700         0.00             1.9      0.076   \n",
       "...             ...               ...          ...             ...        ...   \n",
       "1594            6.2             0.600         0.08             2.0      0.090   \n",
       "1595            5.9             0.550         0.10             2.2      0.062   \n",
       "1596            6.3             0.510         0.13             2.3      0.076   \n",
       "1597            5.9             0.645         0.12             2.0      0.075   \n",
       "1598            6.0             0.310         0.47             3.6      0.067   \n",
       "\n",
       "      free sulfur dioxide  total sulfur dioxide  density    pH  sulphates  \\\n",
       "0                    11.0                  34.0  0.99780  3.51       0.56   \n",
       "1                    25.0                  67.0  0.99680  3.20       0.68   \n",
       "2                    15.0                  54.0  0.99700  3.26       0.65   \n",
       "3                    17.0                  60.0  0.99800  3.16       0.58   \n",
       "4                    11.0                  34.0  0.99780  3.51       0.56   \n",
       "...                   ...                   ...      ...   ...        ...   \n",
       "1594                 32.0                  44.0  0.99490  3.45       0.58   \n",
       "1595                 39.0                  51.0  0.99512  3.52       0.76   \n",
       "1596                 29.0                  40.0  0.99574  3.42       0.75   \n",
       "1597                 32.0                  44.0  0.99547  3.57       0.71   \n",
       "1598                 18.0                  42.0  0.99549  3.39       0.66   \n",
       "\n",
       "      alcohol  quality  \n",
       "0         9.4        5  \n",
       "1         9.8        5  \n",
       "2         9.8        5  \n",
       "3         9.8        6  \n",
       "4         9.4        5  \n",
       "...       ...      ...  \n",
       "1594     10.5        5  \n",
       "1595     11.2        6  \n",
       "1596     11.0        6  \n",
       "1597     10.2        5  \n",
       "1598     11.0        6  \n",
       "\n",
       "[1599 rows x 12 columns]"
      ]
     },
     "execution_count": 2,
     "metadata": {},
     "output_type": "execute_result"
    }
   ],
   "source": [
    "data = pd.read_csv('winequality-red.csv', sep=';', decimal='.')\n",
    "data"
   ]
  },
  {
   "cell_type": "markdown",
   "metadata": {},
   "source": [
    "### Rename the columns <a class=\"anchor\" id=\"P011\"></a>"
   ]
  },
  {
   "cell_type": "code",
   "execution_count": 3,
   "metadata": {},
   "outputs": [],
   "source": [
    "data.columns = data.columns.str.replace(' ', '_').str.lower()"
   ]
  },
  {
   "cell_type": "markdown",
   "metadata": {},
   "source": [
    "### Check the columns names & types <a class=\"anchor\" id=\"P012\"></a>"
   ]
  },
  {
   "cell_type": "code",
   "execution_count": 4,
   "metadata": {},
   "outputs": [
    {
     "name": "stdout",
     "output_type": "stream",
     "text": [
      "<class 'pandas.core.frame.DataFrame'>\n",
      "RangeIndex: 1599 entries, 0 to 1598\n",
      "Data columns (total 12 columns):\n",
      " #   Column                Non-Null Count  Dtype  \n",
      "---  ------                --------------  -----  \n",
      " 0   fixed_acidity         1599 non-null   float64\n",
      " 1   volatile_acidity      1599 non-null   float64\n",
      " 2   citric_acid           1599 non-null   float64\n",
      " 3   residual_sugar        1599 non-null   float64\n",
      " 4   chlorides             1599 non-null   float64\n",
      " 5   free_sulfur_dioxide   1599 non-null   float64\n",
      " 6   total_sulfur_dioxide  1599 non-null   float64\n",
      " 7   density               1599 non-null   float64\n",
      " 8   ph                    1599 non-null   float64\n",
      " 9   sulphates             1599 non-null   float64\n",
      " 10  alcohol               1599 non-null   float64\n",
      " 11  quality               1599 non-null   int64  \n",
      "dtypes: float64(11), int64(1)\n",
      "memory usage: 150.0 KB\n"
     ]
    }
   ],
   "source": [
    "data.info()"
   ]
  },
  {
   "cell_type": "markdown",
   "metadata": {},
   "source": [
    "### Check the ranges of values <a class=\"anchor\" id=\"P013\"></a>"
   ]
  },
  {
   "cell_type": "code",
   "execution_count": 5,
   "metadata": {},
   "outputs": [
    {
     "data": {
      "text/html": [
       "<div>\n",
       "<style scoped>\n",
       "    .dataframe tbody tr th:only-of-type {\n",
       "        vertical-align: middle;\n",
       "    }\n",
       "\n",
       "    .dataframe tbody tr th {\n",
       "        vertical-align: top;\n",
       "    }\n",
       "\n",
       "    .dataframe thead th {\n",
       "        text-align: right;\n",
       "    }\n",
       "</style>\n",
       "<table border=\"1\" class=\"dataframe\">\n",
       "  <thead>\n",
       "    <tr style=\"text-align: right;\">\n",
       "      <th></th>\n",
       "      <th>fixed_acidity</th>\n",
       "      <th>volatile_acidity</th>\n",
       "      <th>citric_acid</th>\n",
       "      <th>residual_sugar</th>\n",
       "      <th>chlorides</th>\n",
       "      <th>free_sulfur_dioxide</th>\n",
       "      <th>total_sulfur_dioxide</th>\n",
       "      <th>density</th>\n",
       "      <th>ph</th>\n",
       "      <th>sulphates</th>\n",
       "      <th>alcohol</th>\n",
       "      <th>quality</th>\n",
       "    </tr>\n",
       "  </thead>\n",
       "  <tbody>\n",
       "    <tr>\n",
       "      <th>count</th>\n",
       "      <td>1599.000000</td>\n",
       "      <td>1599.000000</td>\n",
       "      <td>1599.000000</td>\n",
       "      <td>1599.000000</td>\n",
       "      <td>1599.000000</td>\n",
       "      <td>1599.000000</td>\n",
       "      <td>1599.000000</td>\n",
       "      <td>1599.000000</td>\n",
       "      <td>1599.000000</td>\n",
       "      <td>1599.000000</td>\n",
       "      <td>1599.000000</td>\n",
       "      <td>1599.000000</td>\n",
       "    </tr>\n",
       "    <tr>\n",
       "      <th>mean</th>\n",
       "      <td>8.319637</td>\n",
       "      <td>0.527821</td>\n",
       "      <td>0.270976</td>\n",
       "      <td>2.538806</td>\n",
       "      <td>0.087467</td>\n",
       "      <td>15.874922</td>\n",
       "      <td>46.467792</td>\n",
       "      <td>0.996747</td>\n",
       "      <td>3.311113</td>\n",
       "      <td>0.658149</td>\n",
       "      <td>10.422983</td>\n",
       "      <td>5.636023</td>\n",
       "    </tr>\n",
       "    <tr>\n",
       "      <th>std</th>\n",
       "      <td>1.741096</td>\n",
       "      <td>0.179060</td>\n",
       "      <td>0.194801</td>\n",
       "      <td>1.409928</td>\n",
       "      <td>0.047065</td>\n",
       "      <td>10.460157</td>\n",
       "      <td>32.895324</td>\n",
       "      <td>0.001887</td>\n",
       "      <td>0.154386</td>\n",
       "      <td>0.169507</td>\n",
       "      <td>1.065668</td>\n",
       "      <td>0.807569</td>\n",
       "    </tr>\n",
       "    <tr>\n",
       "      <th>min</th>\n",
       "      <td>4.600000</td>\n",
       "      <td>0.120000</td>\n",
       "      <td>0.000000</td>\n",
       "      <td>0.900000</td>\n",
       "      <td>0.012000</td>\n",
       "      <td>1.000000</td>\n",
       "      <td>6.000000</td>\n",
       "      <td>0.990070</td>\n",
       "      <td>2.740000</td>\n",
       "      <td>0.330000</td>\n",
       "      <td>8.400000</td>\n",
       "      <td>3.000000</td>\n",
       "    </tr>\n",
       "    <tr>\n",
       "      <th>25%</th>\n",
       "      <td>7.100000</td>\n",
       "      <td>0.390000</td>\n",
       "      <td>0.090000</td>\n",
       "      <td>1.900000</td>\n",
       "      <td>0.070000</td>\n",
       "      <td>7.000000</td>\n",
       "      <td>22.000000</td>\n",
       "      <td>0.995600</td>\n",
       "      <td>3.210000</td>\n",
       "      <td>0.550000</td>\n",
       "      <td>9.500000</td>\n",
       "      <td>5.000000</td>\n",
       "    </tr>\n",
       "    <tr>\n",
       "      <th>50%</th>\n",
       "      <td>7.900000</td>\n",
       "      <td>0.520000</td>\n",
       "      <td>0.260000</td>\n",
       "      <td>2.200000</td>\n",
       "      <td>0.079000</td>\n",
       "      <td>14.000000</td>\n",
       "      <td>38.000000</td>\n",
       "      <td>0.996750</td>\n",
       "      <td>3.310000</td>\n",
       "      <td>0.620000</td>\n",
       "      <td>10.200000</td>\n",
       "      <td>6.000000</td>\n",
       "    </tr>\n",
       "    <tr>\n",
       "      <th>75%</th>\n",
       "      <td>9.200000</td>\n",
       "      <td>0.640000</td>\n",
       "      <td>0.420000</td>\n",
       "      <td>2.600000</td>\n",
       "      <td>0.090000</td>\n",
       "      <td>21.000000</td>\n",
       "      <td>62.000000</td>\n",
       "      <td>0.997835</td>\n",
       "      <td>3.400000</td>\n",
       "      <td>0.730000</td>\n",
       "      <td>11.100000</td>\n",
       "      <td>6.000000</td>\n",
       "    </tr>\n",
       "    <tr>\n",
       "      <th>max</th>\n",
       "      <td>15.900000</td>\n",
       "      <td>1.580000</td>\n",
       "      <td>1.000000</td>\n",
       "      <td>15.500000</td>\n",
       "      <td>0.611000</td>\n",
       "      <td>72.000000</td>\n",
       "      <td>289.000000</td>\n",
       "      <td>1.003690</td>\n",
       "      <td>4.010000</td>\n",
       "      <td>2.000000</td>\n",
       "      <td>14.900000</td>\n",
       "      <td>8.000000</td>\n",
       "    </tr>\n",
       "  </tbody>\n",
       "</table>\n",
       "</div>"
      ],
      "text/plain": [
       "       fixed_acidity  volatile_acidity  citric_acid  residual_sugar  \\\n",
       "count    1599.000000       1599.000000  1599.000000     1599.000000   \n",
       "mean        8.319637          0.527821     0.270976        2.538806   \n",
       "std         1.741096          0.179060     0.194801        1.409928   \n",
       "min         4.600000          0.120000     0.000000        0.900000   \n",
       "25%         7.100000          0.390000     0.090000        1.900000   \n",
       "50%         7.900000          0.520000     0.260000        2.200000   \n",
       "75%         9.200000          0.640000     0.420000        2.600000   \n",
       "max        15.900000          1.580000     1.000000       15.500000   \n",
       "\n",
       "         chlorides  free_sulfur_dioxide  total_sulfur_dioxide      density  \\\n",
       "count  1599.000000          1599.000000           1599.000000  1599.000000   \n",
       "mean      0.087467            15.874922             46.467792     0.996747   \n",
       "std       0.047065            10.460157             32.895324     0.001887   \n",
       "min       0.012000             1.000000              6.000000     0.990070   \n",
       "25%       0.070000             7.000000             22.000000     0.995600   \n",
       "50%       0.079000            14.000000             38.000000     0.996750   \n",
       "75%       0.090000            21.000000             62.000000     0.997835   \n",
       "max       0.611000            72.000000            289.000000     1.003690   \n",
       "\n",
       "                ph    sulphates      alcohol      quality  \n",
       "count  1599.000000  1599.000000  1599.000000  1599.000000  \n",
       "mean      3.311113     0.658149    10.422983     5.636023  \n",
       "std       0.154386     0.169507     1.065668     0.807569  \n",
       "min       2.740000     0.330000     8.400000     3.000000  \n",
       "25%       3.210000     0.550000     9.500000     5.000000  \n",
       "50%       3.310000     0.620000    10.200000     6.000000  \n",
       "75%       3.400000     0.730000    11.100000     6.000000  \n",
       "max       4.010000     2.000000    14.900000     8.000000  "
      ]
     },
     "execution_count": 5,
     "metadata": {},
     "output_type": "execute_result"
    }
   ],
   "source": [
    "data.describe(include='all')"
   ]
  },
  {
   "cell_type": "markdown",
   "metadata": {},
   "source": [
    "### Check the missing values <a class=\"anchor\" id=\"P014\"></a>"
   ]
  },
  {
   "cell_type": "code",
   "execution_count": 6,
   "metadata": {},
   "outputs": [
    {
     "data": {
      "text/plain": [
       "fixed_acidity           0\n",
       "volatile_acidity        0\n",
       "citric_acid             0\n",
       "residual_sugar          0\n",
       "chlorides               0\n",
       "free_sulfur_dioxide     0\n",
       "total_sulfur_dioxide    0\n",
       "density                 0\n",
       "ph                      0\n",
       "sulphates               0\n",
       "alcohol                 0\n",
       "quality                 0\n",
       "dtype: int64"
      ]
     },
     "execution_count": 6,
     "metadata": {},
     "output_type": "execute_result"
    }
   ],
   "source": [
    "data.isnull().sum()"
   ]
  },
  {
   "cell_type": "markdown",
   "metadata": {},
   "source": [
    "> There is no missing values, so we don't need to handle it this time."
   ]
  },
  {
   "cell_type": "markdown",
   "metadata": {},
   "source": [
    "### Check the target variable <a class=\"anchor\" id=\"P015\"></a>"
   ]
  },
  {
   "cell_type": "code",
   "execution_count": 7,
   "metadata": {},
   "outputs": [
    {
     "data": {
      "text/plain": [
       "count    1599.000000\n",
       "mean        5.636023\n",
       "std         0.807569\n",
       "min         3.000000\n",
       "25%         5.000000\n",
       "50%         6.000000\n",
       "75%         6.000000\n",
       "max         8.000000\n",
       "Name: quality, dtype: float64"
      ]
     },
     "execution_count": 7,
     "metadata": {},
     "output_type": "execute_result"
    }
   ],
   "source": [
    "data['quality'].describe()"
   ]
  },
  {
   "cell_type": "code",
   "execution_count": 8,
   "metadata": {},
   "outputs": [
    {
     "data": {
      "image/png": "[encoded data removed]",
      "text/plain": [
       "<Figure size 1080x360 with 2 Axes>"
      ]
     },
     "metadata": {
      "needs_background": "light"
     },
     "output_type": "display_data"
    },
    {
     "data": {
      "text/plain": [
       "5    681\n",
       "6    638\n",
       "7    199\n",
       "4     53\n",
       "8     18\n",
       "3     10\n",
       "Name: quality, dtype: int64"
      ]
     },
     "execution_count": 8,
     "metadata": {},
     "output_type": "execute_result"
    }
   ],
   "source": [
    "fig = plt.figure(figsize=[15,5])\n",
    "\n",
    "plt.subplot(1,2,2)\n",
    "sns.histplot(data['quality'])\n",
    "\n",
    "plt.subplot(1,2,1)\n",
    "check = data['quality'].value_counts()\n",
    "plt.pie(list(check), labels=check.keys())\n",
    "\n",
    "plt.show()\n",
    "check"
   ]
  },
  {
   "cell_type": "markdown",
   "metadata": {},
   "source": [
    "> The dataset is imbalanced toward the middle scores (5,6)... So we will need to use an appropriate metric.\n",
    ">\n",
    "> However there is no longtail to consider as the values are restricted to 10"
   ]
  },
  {
   "cell_type": "markdown",
   "metadata": {},
   "source": [
    "# 2. Feature selection <a class=\"anchor\" id=\"P02\"></a>"
   ]
  },
  {
   "cell_type": "raw",
   "metadata": {},
   "source": [
    "from sklearn.feature_extraction import DictVectorizer"
   ]
  },
  {
   "cell_type": "raw",
   "metadata": {},
   "source": [
    "dv = DictVectorizer(sparse=False)"
   ]
  },
  {
   "cell_type": "raw",
   "metadata": {},
   "source": [
    "full_dict = data.to_dict(orient='records')\n",
    "X_full = dv.fit_transform(full_dict)"
   ]
  },
  {
   "cell_type": "raw",
   "metadata": {},
   "source": [
    "dv.feature_names_"
   ]
  },
  {
   "cell_type": "raw",
   "metadata": {},
   "source": [
    "from sklearn.feature_selection import VarianceThreshold"
   ]
  },
  {
   "cell_type": "raw",
   "metadata": {},
   "source": [
    "def variance_threshold_selector(data, threshold=0.5):\n",
    "    selector = VarianceThreshold(threshold)\n",
    "    selector.fit(data)\n",
    "    return data[data.columns[selector.get_support(indices=True)]]"
   ]
  },
  {
   "cell_type": "raw",
   "metadata": {},
   "source": [
    "df_sel = variance_threshold_selector(data, (.9 * (1 - .9)))\n",
    "df_sel"
   ]
  },
  {
   "cell_type": "markdown",
   "metadata": {},
   "source": [
    "### Density plots <a class=\"anchor\" id=\"P021\"></a>"
   ]
  },
  {
   "cell_type": "code",
   "execution_count": 9,
   "metadata": {},
   "outputs": [
    {
     "data": {
      "image/png": "[encoded data removed]",
      "text/plain": [
       "<Figure size 1080x1080 with 11 Axes>"
      ]
     },
     "metadata": {
      "needs_background": "light"
     },
     "output_type": "display_data"
    }
   ],
   "source": [
    "figure = plt.figure(figsize=[15,15])\n",
    "\n",
    "for i,c in enumerate(data.columns[:-1]):\n",
    "    plt.subplot(4,3,i+1)\n",
    "    #plt.hist(data[c], bins=50, alpha=.75)\n",
    "    #plt.plot(data[c])\n",
    "    sns.kdeplot(data[c])\n",
    "    plt.ylabel(\"Number of samples\")\n",
    "    plt.xlabel(c)\n",
    "\n",
    "plt.show()"
   ]
  },
  {
   "cell_type": "markdown",
   "metadata": {},
   "source": [
    "### Boxplots <a class=\"anchor\" id=\"P022\"></a>"
   ]
  },
  {
   "cell_type": "code",
   "execution_count": 10,
   "metadata": {
    "scrolled": false
   },
   "outputs": [
    {
     "data": {
      "image/png": "[encoded data removed]",
      "text/plain": [
       "<Figure size 1080x1080 with 11 Axes>"
      ]
     },
     "metadata": {
      "needs_background": "light"
     },
     "output_type": "display_data"
    }
   ],
   "source": [
    "figure = plt.figure(figsize=[15,15])\n",
    "\n",
    "for i,c in enumerate(data.columns[:-1]):\n",
    "    plt.subplot(4,3,i+1)\n",
    "    sns.boxplot(x='quality', y=c, notch=False, data=data)\n",
    "    plt.ylabel(c)\n",
    "    plt.xlabel('quality')\n",
    "\n",
    "plt.show()"
   ]
  },
  {
   "cell_type": "markdown",
   "metadata": {},
   "source": [
    "### **----- Comment -----**\n",
    "\n",
    "> `volatile_acidity`, `density` and maybe `pH` seems negatively correlated.\n",
    ">\n",
    "> `citric_acid`, `alcohol`, `sulphates` and maybe `fixed_acicity` seems positively correlated.\n",
    ">\n",
    "> Let's confirm this with a correlation matrix."
   ]
  },
  {
   "cell_type": "markdown",
   "metadata": {},
   "source": [
    "### Correlation Matrix <a class=\"anchor\" id=\"P023\"></a>"
   ]
  },
  {
   "cell_type": "code",
   "execution_count": 11,
   "metadata": {},
   "outputs": [
    {
     "data": {
      "image/png": "[encoded data removed]",
      "text/plain": [
       "<Figure size 1368x1080 with 2 Axes>"
      ]
     },
     "metadata": {
      "needs_background": "light"
     },
     "output_type": "display_data"
    }
   ],
   "source": [
    "f = plt.figure(figsize=(19, 15))\n",
    "\n",
    "plt.matshow(data.corr(), fignum=f.number)\n",
    "\n",
    "plt.xticks(range(data.select_dtypes(['number']).shape[1]), data.select_dtypes(['number']).columns, fontsize=14, rotation=45)\n",
    "plt.yticks(range(data.select_dtypes(['number']).shape[1]), data.select_dtypes(['number']).columns, fontsize=14)\n",
    "\n",
    "cb = plt.colorbar()\n",
    "cb.ax.tick_params(labelsize=14)\n",
    "\n",
    "for (i, j), z in np.ndenumerate(data.corr()):\n",
    "    plt.text(j, i, f\"{z:0.3f}\", ha='center', va='center', fontweight='demibold')\n",
    "\n",
    "plt.title('Correlation Matrix', fontsize=16);"
   ]
  },
  {
   "cell_type": "code",
   "execution_count": 12,
   "metadata": {},
   "outputs": [
    {
     "data": {
      "text/plain": [
       "quality                 1.000000\n",
       "alcohol                 0.476166\n",
       "volatile_acidity        0.390558\n",
       "sulphates               0.251397\n",
       "citric_acid             0.226373\n",
       "total_sulfur_dioxide    0.185100\n",
       "density                 0.174919\n",
       "chlorides               0.128907\n",
       "fixed_acidity           0.124052\n",
       "ph                      0.057731\n",
       "free_sulfur_dioxide     0.050656\n",
       "residual_sugar          0.013732\n",
       "dtype: float64"
      ]
     },
     "execution_count": 12,
     "metadata": {},
     "output_type": "execute_result"
    }
   ],
   "source": [
    "selection = data.corrwith(data['quality']).agg('abs').sort_values(ascending=False)\n",
    "selection"
   ]
  },
  {
   "cell_type": "markdown",
   "metadata": {},
   "source": [
    "### Select columns with correlation > 0.1 <a class=\"anchor\" id=\"P024\"></a>"
   ]
  },
  {
   "cell_type": "code",
   "execution_count": 13,
   "metadata": {},
   "outputs": [
    {
     "data": {
      "text/plain": [
       "Index(['quality', 'alcohol', 'volatile_acidity', 'sulphates', 'citric_acid',\n",
       "       'total_sulfur_dioxide', 'density'],\n",
       "      dtype='object')"
      ]
     },
     "execution_count": 13,
     "metadata": {},
     "output_type": "execute_result"
    }
   ],
   "source": [
    "selected_columns = selection.index[selection > 0.15]\n",
    "#selected_columns = selected_columns.drop(['quality'])\n",
    "selected_columns"
   ]
  },
  {
   "cell_type": "code",
   "execution_count": 14,
   "metadata": {},
   "outputs": [
    {
     "data": {
      "text/html": [
       "<div>\n",
       "<style scoped>\n",
       "    .dataframe tbody tr th:only-of-type {\n",
       "        vertical-align: middle;\n",
       "    }\n",
       "\n",
       "    .dataframe tbody tr th {\n",
       "        vertical-align: top;\n",
       "    }\n",
       "\n",
       "    .dataframe thead th {\n",
       "        text-align: right;\n",
       "    }\n",
       "</style>\n",
       "<table border=\"1\" class=\"dataframe\">\n",
       "  <thead>\n",
       "    <tr style=\"text-align: right;\">\n",
       "      <th></th>\n",
       "      <th>quality</th>\n",
       "      <th>alcohol</th>\n",
       "      <th>volatile_acidity</th>\n",
       "      <th>sulphates</th>\n",
       "      <th>citric_acid</th>\n",
       "      <th>total_sulfur_dioxide</th>\n",
       "      <th>density</th>\n",
       "    </tr>\n",
       "  </thead>\n",
       "  <tbody>\n",
       "    <tr>\n",
       "      <th>0</th>\n",
       "      <td>5</td>\n",
       "      <td>9.4</td>\n",
       "      <td>0.700</td>\n",
       "      <td>0.56</td>\n",
       "      <td>0.00</td>\n",
       "      <td>34.0</td>\n",
       "      <td>0.99780</td>\n",
       "    </tr>\n",
       "    <tr>\n",
       "      <th>1</th>\n",
       "      <td>5</td>\n",
       "      <td>9.8</td>\n",
       "      <td>0.880</td>\n",
       "      <td>0.68</td>\n",
       "      <td>0.00</td>\n",
       "      <td>67.0</td>\n",
       "      <td>0.99680</td>\n",
       "    </tr>\n",
       "    <tr>\n",
       "      <th>2</th>\n",
       "      <td>5</td>\n",
       "      <td>9.8</td>\n",
       "      <td>0.760</td>\n",
       "      <td>0.65</td>\n",
       "      <td>0.04</td>\n",
       "      <td>54.0</td>\n",
       "      <td>0.99700</td>\n",
       "    </tr>\n",
       "    <tr>\n",
       "      <th>3</th>\n",
       "      <td>6</td>\n",
       "      <td>9.8</td>\n",
       "      <td>0.280</td>\n",
       "      <td>0.58</td>\n",
       "      <td>0.56</td>\n",
       "      <td>60.0</td>\n",
       "      <td>0.99800</td>\n",
       "    </tr>\n",
       "    <tr>\n",
       "      <th>4</th>\n",
       "      <td>5</td>\n",
       "      <td>9.4</td>\n",
       "      <td>0.700</td>\n",
       "      <td>0.56</td>\n",
       "      <td>0.00</td>\n",
       "      <td>34.0</td>\n",
       "      <td>0.99780</td>\n",
       "    </tr>\n",
       "    <tr>\n",
       "      <th>...</th>\n",
       "      <td>...</td>\n",
       "      <td>...</td>\n",
       "      <td>...</td>\n",
       "      <td>...</td>\n",
       "      <td>...</td>\n",
       "      <td>...</td>\n",
       "      <td>...</td>\n",
       "    </tr>\n",
       "    <tr>\n",
       "      <th>1594</th>\n",
       "      <td>5</td>\n",
       "      <td>10.5</td>\n",
       "      <td>0.600</td>\n",
       "      <td>0.58</td>\n",
       "      <td>0.08</td>\n",
       "      <td>44.0</td>\n",
       "      <td>0.99490</td>\n",
       "    </tr>\n",
       "    <tr>\n",
       "      <th>1595</th>\n",
       "      <td>6</td>\n",
       "      <td>11.2</td>\n",
       "      <td>0.550</td>\n",
       "      <td>0.76</td>\n",
       "      <td>0.10</td>\n",
       "      <td>51.0</td>\n",
       "      <td>0.99512</td>\n",
       "    </tr>\n",
       "    <tr>\n",
       "      <th>1596</th>\n",
       "      <td>6</td>\n",
       "      <td>11.0</td>\n",
       "      <td>0.510</td>\n",
       "      <td>0.75</td>\n",
       "      <td>0.13</td>\n",
       "      <td>40.0</td>\n",
       "      <td>0.99574</td>\n",
       "    </tr>\n",
       "    <tr>\n",
       "      <th>1597</th>\n",
       "      <td>5</td>\n",
       "      <td>10.2</td>\n",
       "      <td>0.645</td>\n",
       "      <td>0.71</td>\n",
       "      <td>0.12</td>\n",
       "      <td>44.0</td>\n",
       "      <td>0.99547</td>\n",
       "    </tr>\n",
       "    <tr>\n",
       "      <th>1598</th>\n",
       "      <td>6</td>\n",
       "      <td>11.0</td>\n",
       "      <td>0.310</td>\n",
       "      <td>0.66</td>\n",
       "      <td>0.47</td>\n",
       "      <td>42.0</td>\n",
       "      <td>0.99549</td>\n",
       "    </tr>\n",
       "  </tbody>\n",
       "</table>\n",
       "<p>1599 rows × 7 columns</p>\n",
       "</div>"
      ],
      "text/plain": [
       "      quality  alcohol  volatile_acidity  sulphates  citric_acid  \\\n",
       "0           5      9.4             0.700       0.56         0.00   \n",
       "1           5      9.8             0.880       0.68         0.00   \n",
       "2           5      9.8             0.760       0.65         0.04   \n",
       "3           6      9.8             0.280       0.58         0.56   \n",
       "4           5      9.4             0.700       0.56         0.00   \n",
       "...       ...      ...               ...        ...          ...   \n",
       "1594        5     10.5             0.600       0.58         0.08   \n",
       "1595        6     11.2             0.550       0.76         0.10   \n",
       "1596        6     11.0             0.510       0.75         0.13   \n",
       "1597        5     10.2             0.645       0.71         0.12   \n",
       "1598        6     11.0             0.310       0.66         0.47   \n",
       "\n",
       "      total_sulfur_dioxide  density  \n",
       "0                     34.0  0.99780  \n",
       "1                     67.0  0.99680  \n",
       "2                     54.0  0.99700  \n",
       "3                     60.0  0.99800  \n",
       "4                     34.0  0.99780  \n",
       "...                    ...      ...  \n",
       "1594                  44.0  0.99490  \n",
       "1595                  51.0  0.99512  \n",
       "1596                  40.0  0.99574  \n",
       "1597                  44.0  0.99547  \n",
       "1598                  42.0  0.99549  \n",
       "\n",
       "[1599 rows x 7 columns]"
      ]
     },
     "execution_count": 14,
     "metadata": {},
     "output_type": "execute_result"
    }
   ],
   "source": [
    "df = data[selected_columns]\n",
    "df"
   ]
  },
  {
   "cell_type": "markdown",
   "metadata": {},
   "source": [
    "# 3. Split the dataset <a class=\"anchor\" id=\"P03\"></a>"
   ]
  },
  {
   "cell_type": "markdown",
   "metadata": {},
   "source": [
    "### Split the predictors and the target "
   ]
  },
  {
   "cell_type": "code",
   "execution_count": 15,
   "metadata": {},
   "outputs": [
    {
     "data": {
      "text/plain": [
       "0    5\n",
       "1    5\n",
       "Name: quality, dtype: int64"
      ]
     },
     "execution_count": 15,
     "metadata": {},
     "output_type": "execute_result"
    }
   ],
   "source": [
    "y_full = df['quality']\n",
    "y_full.head(2)"
   ]
  },
  {
   "cell_type": "code",
   "execution_count": 16,
   "metadata": {},
   "outputs": [
    {
     "data": {
      "text/html": [
       "<div>\n",
       "<style scoped>\n",
       "    .dataframe tbody tr th:only-of-type {\n",
       "        vertical-align: middle;\n",
       "    }\n",
       "\n",
       "    .dataframe tbody tr th {\n",
       "        vertical-align: top;\n",
       "    }\n",
       "\n",
       "    .dataframe thead th {\n",
       "        text-align: right;\n",
       "    }\n",
       "</style>\n",
       "<table border=\"1\" class=\"dataframe\">\n",
       "  <thead>\n",
       "    <tr style=\"text-align: right;\">\n",
       "      <th></th>\n",
       "      <th>alcohol</th>\n",
       "      <th>volatile_acidity</th>\n",
       "      <th>sulphates</th>\n",
       "      <th>citric_acid</th>\n",
       "      <th>total_sulfur_dioxide</th>\n",
       "      <th>density</th>\n",
       "    </tr>\n",
       "  </thead>\n",
       "  <tbody>\n",
       "    <tr>\n",
       "      <th>0</th>\n",
       "      <td>9.4</td>\n",
       "      <td>0.70</td>\n",
       "      <td>0.56</td>\n",
       "      <td>0.0</td>\n",
       "      <td>34.0</td>\n",
       "      <td>0.9978</td>\n",
       "    </tr>\n",
       "    <tr>\n",
       "      <th>1</th>\n",
       "      <td>9.8</td>\n",
       "      <td>0.88</td>\n",
       "      <td>0.68</td>\n",
       "      <td>0.0</td>\n",
       "      <td>67.0</td>\n",
       "      <td>0.9968</td>\n",
       "    </tr>\n",
       "  </tbody>\n",
       "</table>\n",
       "</div>"
      ],
      "text/plain": [
       "   alcohol  volatile_acidity  sulphates  citric_acid  total_sulfur_dioxide  \\\n",
       "0      9.4              0.70       0.56          0.0                  34.0   \n",
       "1      9.8              0.88       0.68          0.0                  67.0   \n",
       "\n",
       "   density  \n",
       "0   0.9978  \n",
       "1   0.9968  "
      ]
     },
     "execution_count": 16,
     "metadata": {},
     "output_type": "execute_result"
    }
   ],
   "source": [
    "dt_full = df.copy()\n",
    "dt_full = dt_full.drop(columns='quality')\n",
    "dt_full.head(2)"
   ]
  },
  {
   "cell_type": "markdown",
   "metadata": {},
   "source": [
    "### Create train, validation, test (& full_train) splits"
   ]
  },
  {
   "cell_type": "code",
   "execution_count": 17,
   "metadata": {},
   "outputs": [],
   "source": [
    "from sklearn.model_selection import train_test_split"
   ]
  },
  {
   "cell_type": "code",
   "execution_count": 18,
   "metadata": {},
   "outputs": [],
   "source": [
    "dt_train_full, dt_test, y_train_full, y_test = train_test_split(dt_full, y_full, test_size=0.2, random_state=42)\n",
    "dt_train, dt_valid, y_train, y_valid = train_test_split(dt_train_full, y_train_full, test_size=dt_test.shape[0], random_state=42)"
   ]
  },
  {
   "cell_type": "code",
   "execution_count": 19,
   "metadata": {},
   "outputs": [],
   "source": [
    "assert(dt_valid.shape[0] == dt_test.shape[0])"
   ]
  },
  {
   "cell_type": "code",
   "execution_count": 20,
   "metadata": {},
   "outputs": [],
   "source": [
    "assert(dt_full.shape[0] == dt_train.shape[0] + dt_valid.shape[0] + dt_test.shape[0])"
   ]
  },
  {
   "cell_type": "markdown",
   "metadata": {},
   "source": [
    "# 4. Try various *classification* models <a class=\"anchor\" id=\"P04\"></a>"
   ]
  },
  {
   "cell_type": "code",
   "execution_count": 21,
   "metadata": {},
   "outputs": [],
   "source": [
    "X_train = dt_train.values\n",
    "X_valid = dt_valid.values\n",
    "X_test = dt_test.values"
   ]
  },
  {
   "cell_type": "code",
   "execution_count": 205,
   "metadata": {},
   "outputs": [],
   "source": [
    "from sklearn.metrics import roc_auc_score, f1_score, accuracy_score, precision_score, recall_score\n",
    "\n",
    "def evaluate_classification(y_true, y_pred, y_pred_proba, multi_class='ovr'):\n",
    "    roc = roc_auc_score(y_true, y_pred_proba, multi_class=multi_class)\n",
    "    f1 = f1_score(y_true, y_pred, average='weighted')\n",
    "    accuracy = accuracy_score(y_true, y_pred)\n",
    "    precision = precision_score(y_true, y_pred, average='weighted', zero_division=False)\n",
    "    recall = recall_score(y_true, y_pred, average='weighted', zero_division=False)\n",
    "    print(f\"ROCAUC:{roc:6.3f} | F1:{f1:6.3f} (precision:{precision:6.3f} & recall:{recall:6.3f}) | Accuracy:{accuracy:6.3f}\")\n",
    "    return roc, f1"
   ]
  },
  {
   "cell_type": "markdown",
   "metadata": {},
   "source": [
    "## Logistic Regression  <a class=\"anchor\" id=\"P04_logistic_regression\"></a>"
   ]
  },
  {
   "cell_type": "code",
   "execution_count": 91,
   "metadata": {},
   "outputs": [],
   "source": [
    "from sklearn.linear_model import LogisticRegression"
   ]
  },
  {
   "cell_type": "code",
   "execution_count": 92,
   "metadata": {},
   "outputs": [],
   "source": [
    "logistic_model = LogisticRegression(n_jobs=-1).fit(X_train, y_train)"
   ]
  },
  {
   "cell_type": "code",
   "execution_count": 93,
   "metadata": {},
   "outputs": [],
   "source": [
    "y_pred = logistic_model.predict(X_valid)\n",
    "y_pred_proba = logistic_model.predict_proba(X_valid)"
   ]
  },
  {
   "cell_type": "code",
   "execution_count": 94,
   "metadata": {},
   "outputs": [
    {
     "name": "stdout",
     "output_type": "stream",
     "text": [
      "ROCAUC: 0.644 | F1: 0.525 (precision: 0.488 & recall: 0.572) | Accuracy: 0.572\n"
     ]
    },
    {
     "data": {
      "text/plain": [
       "(0.6438559520307191, 0.5251070055904961)"
      ]
     },
     "execution_count": 94,
     "metadata": {},
     "output_type": "execute_result"
    }
   ],
   "source": [
    "evaluate_classification(y_valid, y_pred, y_pred_proba)"
   ]
  },
  {
   "cell_type": "markdown",
   "metadata": {},
   "source": [
    "### **----- FINAL RESULT -----**\n",
    "\n",
    "> The best `ROC AUC score` for a basic **Logistic Regression** appears to be around `0.644`\n",
    "---"
   ]
  },
  {
   "cell_type": "markdown",
   "metadata": {},
   "source": [
    "## Decision Tree (regression) <a class=\"anchor\" id=\"P04_decision_tree\"></a>"
   ]
  },
  {
   "cell_type": "code",
   "execution_count": 95,
   "metadata": {},
   "outputs": [],
   "source": [
    "from sklearn.tree import DecisionTreeClassifier"
   ]
  },
  {
   "cell_type": "markdown",
   "metadata": {},
   "source": [
    "### Train a basic model"
   ]
  },
  {
   "cell_type": "code",
   "execution_count": 96,
   "metadata": {},
   "outputs": [],
   "source": [
    "dtree_model = DecisionTreeClassifier(random_state=1)"
   ]
  },
  {
   "cell_type": "code",
   "execution_count": 97,
   "metadata": {},
   "outputs": [
    {
     "data": {
      "text/plain": [
       "DecisionTreeClassifier(random_state=1)"
      ]
     },
     "execution_count": 97,
     "metadata": {},
     "output_type": "execute_result"
    }
   ],
   "source": [
    "dtree_model.fit(X_train, y_train)"
   ]
  },
  {
   "cell_type": "code",
   "execution_count": 98,
   "metadata": {},
   "outputs": [],
   "source": [
    "y_pred = dtree_model.predict(X_valid)\n",
    "y_pred_proba = dtree_model.predict_proba(X_valid)"
   ]
  },
  {
   "cell_type": "code",
   "execution_count": 99,
   "metadata": {},
   "outputs": [
    {
     "name": "stdout",
     "output_type": "stream",
     "text": [
      "ROCAUC: 0.632 | F1: 0.602 (precision: 0.615 & recall: 0.603) | Accuracy: 0.603\n"
     ]
    },
    {
     "data": {
      "text/plain": [
       "(0.6318049986333406, 0.601814675471555)"
      ]
     },
     "execution_count": 99,
     "metadata": {},
     "output_type": "execute_result"
    }
   ],
   "source": [
    "evaluate_classification(y_valid, y_pred, y_pred_proba)"
   ]
  },
  {
   "cell_type": "markdown",
   "metadata": {},
   "source": [
    "### **----- TMP RESULT -----**\n",
    "\n",
    "> The best `ROC AUC score` for the ***default* Decision Tree** appears to be around `0.632`\n",
    "---"
   ]
  },
  {
   "cell_type": "markdown",
   "metadata": {},
   "source": [
    "### Search best `max_depth`  <a class=\"anchor\" id=\"P04_decision_tree_max_d\"></a>"
   ]
  },
  {
   "cell_type": "code",
   "execution_count": 104,
   "metadata": {},
   "outputs": [
    {
     "data": {
      "application/vnd.jupyter.widget-view+json": {
       "model_id": "57dbbf310db1475e8aa9b93caac271a6",
       "version_major": 2,
       "version_minor": 0
      },
      "text/plain": [
       "  0%|          | 0/13 [00:00<?, ?it/s]"
      ]
     },
     "metadata": {},
     "output_type": "display_data"
    },
    {
     "name": "stdout",
     "output_type": "stream",
     "text": [
      "max_depth:  1  =>  ROCAUC: 0.665 | F1: 0.522 (precision: 0.478 & recall: 0.581) | Accuracy: 0.581\n",
      "max_depth:  2  =>  ROCAUC: 0.667 | F1: 0.522 (precision: 0.478 & recall: 0.581) | Accuracy: 0.581\n",
      "max_depth:  3  =>  ROCAUC: 0.735 | F1: 0.524 (precision: 0.542 & recall: 0.541) | Accuracy: 0.541\n",
      "max_depth:  4  =>  ROCAUC: 0.748 | F1: 0.588 (precision: 0.572 & recall: 0.613) | Accuracy: 0.613\n",
      "max_depth:  5  =>  ROCAUC: 0.765 | F1: 0.555 (precision: 0.545 & recall: 0.575) | Accuracy: 0.575\n",
      "max_depth:  6  =>  ROCAUC: 0.736 | F1: 0.543 (precision: 0.543 & recall: 0.559) | Accuracy: 0.559\n",
      "max_depth:  7  =>  ROCAUC: 0.749 | F1: 0.595 (precision: 0.600 & recall: 0.603) | Accuracy: 0.603\n",
      "max_depth:  8  =>  ROCAUC: 0.622 | F1: 0.596 (precision: 0.591 & recall: 0.606) | Accuracy: 0.606\n",
      "max_depth:  9  =>  ROCAUC: 0.624 | F1: 0.577 (precision: 0.578 & recall: 0.584) | Accuracy: 0.584\n",
      "max_depth: 10  =>  ROCAUC: 0.621 | F1: 0.591 (precision: 0.597 & recall: 0.594) | Accuracy: 0.594\n",
      "max_depth: 15  =>  ROCAUC: 0.645 | F1: 0.599 (precision: 0.615 & recall: 0.600) | Accuracy: 0.600\n",
      "max_depth: 20  =>  ROCAUC: 0.632 | F1: 0.602 (precision: 0.615 & recall: 0.603) | Accuracy: 0.603\n",
      "max_depth: 25  =>  ROCAUC: 0.632 | F1: 0.602 (precision: 0.615 & recall: 0.603) | Accuracy: 0.603\n"
     ]
    }
   ],
   "source": [
    "scores = {}\n",
    "values = values = [1,2,3,4,5,6,7,8,9,10,15,20,25]\n",
    "\n",
    "for v in notebook.tqdm(values):\n",
    "    dtree_model = DecisionTreeClassifier(max_depth=v, random_state=1)\n",
    "    dtree_model.fit(X_train, y_train)\n",
    "    y_pred = dtree_model.predict(X_valid)\n",
    "    y_pred_proba = dtree_model.predict_proba(X_valid)\n",
    "    print(f\"max_depth:{int(v):3}  =>  \", end=\"\")\n",
    "    scores[int(v)] = evaluate_classification(y_valid, y_pred, y_pred_proba)"
   ]
  },
  {
   "cell_type": "code",
   "execution_count": 106,
   "metadata": {},
   "outputs": [
    {
     "data": {
      "text/plain": [
       "Text(0.5, 0, 'max_depth')"
      ]
     },
     "execution_count": 106,
     "metadata": {},
     "output_type": "execute_result"
    },
    {
     "data": {
      "image/png": "[encoded data removed]",
      "text/plain": [
       "<Figure size 432x288 with 1 Axes>"
      ]
     },
     "metadata": {
      "needs_background": "light"
     },
     "output_type": "display_data"
    }
   ],
   "source": [
    "plt.plot(scores.keys(), scores.values(), label=['ROCAUC','F1'])\n",
    "plt.legend()\n",
    "plt.xlabel(\"max_depth\")"
   ]
  },
  {
   "cell_type": "markdown",
   "metadata": {},
   "source": [
    "### **----- TMP RESULT -----**\n",
    "\n",
    "> The best `ROC AUC score` for a Decision Tree appears to be around `0.673` with `max_depth=5`\n",
    "---"
   ]
  },
  {
   "cell_type": "markdown",
   "metadata": {},
   "source": [
    "### Search best `min_samples_leaf`  <a class=\"anchor\" id=\"P04_decision_tree_min_samples_leaf\"></a>"
   ]
  },
  {
   "cell_type": "code",
   "execution_count": 107,
   "metadata": {},
   "outputs": [
    {
     "data": {
      "application/vnd.jupyter.widget-view+json": {
       "model_id": "c079698b4cbc467ebe7f83ae5a6e60d6",
       "version_major": 2,
       "version_minor": 0
      },
      "text/plain": [
       "  0%|          | 0/13 [00:00<?, ?it/s]"
      ]
     },
     "metadata": {},
     "output_type": "display_data"
    },
    {
     "name": "stdout",
     "output_type": "stream",
     "text": [
      "min_samples_leaf:  1  =>  ROCAUC: 0.765 | F1: 0.555 (precision: 0.545 & recall: 0.575) | Accuracy: 0.575\n",
      "min_samples_leaf:  2  =>  ROCAUC: 0.766 | F1: 0.556 (precision: 0.548 & recall: 0.575) | Accuracy: 0.575\n",
      "min_samples_leaf:  3  =>  ROCAUC: 0.767 | F1: 0.561 (precision: 0.552 & recall: 0.581) | Accuracy: 0.581\n",
      "min_samples_leaf:  4  =>  ROCAUC: 0.766 | F1: 0.560 (precision: 0.550 & recall: 0.581) | Accuracy: 0.581\n",
      "min_samples_leaf:  5  =>  ROCAUC: 0.779 | F1: 0.549 (precision: 0.541 & recall: 0.569) | Accuracy: 0.569\n",
      "min_samples_leaf:  6  =>  ROCAUC: 0.780 | F1: 0.549 (precision: 0.541 & recall: 0.569) | Accuracy: 0.569\n",
      "min_samples_leaf:  7  =>  ROCAUC: 0.787 | F1: 0.555 (precision: 0.548 & recall: 0.575) | Accuracy: 0.575\n",
      "min_samples_leaf:  8  =>  ROCAUC: 0.787 | F1: 0.555 (precision: 0.548 & recall: 0.575) | Accuracy: 0.575\n",
      "min_samples_leaf:  9  =>  ROCAUC: 0.786 | F1: 0.555 (precision: 0.548 & recall: 0.575) | Accuracy: 0.575\n",
      "min_samples_leaf: 10  =>  ROCAUC: 0.784 | F1: 0.555 (precision: 0.549 & recall: 0.575) | Accuracy: 0.575\n",
      "min_samples_leaf: 15  =>  ROCAUC: 0.791 | F1: 0.564 (precision: 0.557 & recall: 0.584) | Accuracy: 0.584\n",
      "min_samples_leaf: 20  =>  ROCAUC: 0.774 | F1: 0.565 (precision: 0.561 & recall: 0.584) | Accuracy: 0.584\n",
      "min_samples_leaf: 25  =>  ROCAUC: 0.767 | F1: 0.571 (precision: 0.565 & recall: 0.588) | Accuracy: 0.588\n"
     ]
    }
   ],
   "source": [
    "scores = {}\n",
    "values = values = [1,2,3,4,5,6,7,8,9,10,15,20,25]\n",
    "max_d = 5\n",
    "\n",
    "for v in notebook.tqdm(values):\n",
    "    dtree_model = DecisionTreeClassifier(max_depth=max_d, min_samples_leaf=v, random_state=1)\n",
    "    dtree_model.fit(X_train, y_train)\n",
    "    y_pred = dtree_model.predict(X_valid)\n",
    "    y_pred_proba = dtree_model.predict_proba(X_valid)\n",
    "    print(f\"min_samples_leaf:{int(v):3}  =>  \", end=\"\")\n",
    "    scores[int(v)] = evaluate_classification(y_valid, y_pred, y_pred_proba)"
   ]
  },
  {
   "cell_type": "code",
   "execution_count": 108,
   "metadata": {},
   "outputs": [
    {
     "data": {
      "text/plain": [
       "Text(0.5, 0, 'min_samples_leaf')"
      ]
     },
     "execution_count": 108,
     "metadata": {},
     "output_type": "execute_result"
    },
    {
     "data": {
      "image/png": "[encoded data removed]",
      "text/plain": [
       "<Figure size 432x288 with 1 Axes>"
      ]
     },
     "metadata": {
      "needs_background": "light"
     },
     "output_type": "display_data"
    }
   ],
   "source": [
    "plt.plot(scores.keys(), scores.values(), label=['ROCAUC','F1'])\n",
    "plt.legend()\n",
    "plt.xlabel(\"min_samples_leaf\")"
   ]
  },
  {
   "cell_type": "markdown",
   "metadata": {},
   "source": [
    "### **----- FINAL RESULT -----**\n",
    "\n",
    "> The best `ROC AUC score` for a **Decision Tree** appears to be around `0.791` with `max_depth=5` and `min_samples_leaf=15`\n",
    ">\n",
    "> That doesn't seem promising, so we will stop here for now and see other methods.\n",
    "---"
   ]
  },
  {
   "cell_type": "markdown",
   "metadata": {},
   "source": [
    "## Random forest (regression) <a class=\"anchor\" id=\"P04_random_forest\"></a>"
   ]
  },
  {
   "cell_type": "code",
   "execution_count": 109,
   "metadata": {},
   "outputs": [],
   "source": [
    "from sklearn.ensemble import RandomForestClassifier"
   ]
  },
  {
   "cell_type": "markdown",
   "metadata": {},
   "source": [
    "### Train a basic model"
   ]
  },
  {
   "cell_type": "code",
   "execution_count": 110,
   "metadata": {},
   "outputs": [],
   "source": [
    "rforest_model = RandomForestClassifier(n_estimators=10, random_state=1, n_jobs=-1)"
   ]
  },
  {
   "cell_type": "code",
   "execution_count": 111,
   "metadata": {},
   "outputs": [
    {
     "data": {
      "text/plain": [
       "RandomForestClassifier(n_estimators=10, n_jobs=-1, random_state=1)"
      ]
     },
     "execution_count": 111,
     "metadata": {},
     "output_type": "execute_result"
    }
   ],
   "source": [
    "rforest_model.fit(X_train, y_train)"
   ]
  },
  {
   "cell_type": "code",
   "execution_count": 112,
   "metadata": {},
   "outputs": [],
   "source": [
    "y_pred = rforest_model.predict(X_valid)\n",
    "y_pred_proba = rforest_model.predict_proba(X_valid)"
   ]
  },
  {
   "cell_type": "code",
   "execution_count": 113,
   "metadata": {},
   "outputs": [
    {
     "name": "stdout",
     "output_type": "stream",
     "text": [
      "ROCAUC: 0.724 | F1: 0.632 (precision: 0.624 & recall: 0.647) | Accuracy: 0.647\n"
     ]
    },
    {
     "data": {
      "text/plain": [
       "(0.7242672495539278, 0.6319855808507218)"
      ]
     },
     "execution_count": 113,
     "metadata": {},
     "output_type": "execute_result"
    }
   ],
   "source": [
    "evaluate_classification(y_valid, y_pred, y_pred_proba)"
   ]
  },
  {
   "cell_type": "markdown",
   "metadata": {},
   "source": [
    "### **----- TMP RESULT -----**\n",
    "\n",
    "> The best `ROC AUC score` for the ***default* Random Forest** appears to be around `0.724`\n",
    "---"
   ]
  },
  {
   "cell_type": "markdown",
   "metadata": {},
   "source": [
    "### Search best `n_estimators`  <a class=\"anchor\" id=\"P04_random_forest_n_estimators\"></a>"
   ]
  },
  {
   "cell_type": "code",
   "execution_count": 114,
   "metadata": {},
   "outputs": [
    {
     "data": {
      "application/vnd.jupyter.widget-view+json": {
       "model_id": "3000081e05e24378a662f1a3791f1f65",
       "version_major": 2,
       "version_minor": 0
      },
      "text/plain": [
       "  0%|          | 0/60 [00:00<?, ?it/s]"
      ]
     },
     "metadata": {},
     "output_type": "display_data"
    },
    {
     "name": "stdout",
     "output_type": "stream",
     "text": [
      "n_estimators:  10  =>  ROCAUC: 0.724 | F1: 0.632 (precision: 0.624 & recall: 0.647) | Accuracy: 0.647\n",
      "n_estimators:  20  =>  ROCAUC: 0.734 | F1: 0.635 (precision: 0.628 & recall: 0.650) | Accuracy: 0.650\n",
      "n_estimators:  30  =>  ROCAUC: 0.750 | F1: 0.669 (precision: 0.661 & recall: 0.684) | Accuracy: 0.684\n",
      "n_estimators:  40  =>  ROCAUC: 0.769 | F1: 0.671 (precision: 0.665 & recall: 0.688) | Accuracy: 0.688\n",
      "n_estimators:  50  =>  ROCAUC: 0.763 | F1: 0.683 (precision: 0.674 & recall: 0.700) | Accuracy: 0.700\n",
      "n_estimators:  60  =>  ROCAUC: 0.767 | F1: 0.693 (precision: 0.685 & recall: 0.709) | Accuracy: 0.709\n",
      "n_estimators:  70  =>  ROCAUC: 0.761 | F1: 0.686 (precision: 0.677 & recall: 0.703) | Accuracy: 0.703\n",
      "n_estimators:  80  =>  ROCAUC: 0.767 | F1: 0.682 (precision: 0.674 & recall: 0.700) | Accuracy: 0.700\n",
      "n_estimators:  90  =>  ROCAUC: 0.762 | F1: 0.678 (precision: 0.672 & recall: 0.697) | Accuracy: 0.697\n",
      "n_estimators: 100  =>  ROCAUC: 0.761 | F1: 0.672 (precision: 0.666 & recall: 0.691) | Accuracy: 0.691\n",
      "n_estimators: 110  =>  ROCAUC: 0.758 | F1: 0.669 (precision: 0.662 & recall: 0.688) | Accuracy: 0.688\n",
      "n_estimators: 120  =>  ROCAUC: 0.756 | F1: 0.672 (precision: 0.664 & recall: 0.691) | Accuracy: 0.691\n",
      "n_estimators: 130  =>  ROCAUC: 0.756 | F1: 0.669 (precision: 0.661 & recall: 0.688) | Accuracy: 0.688\n",
      "n_estimators: 140  =>  ROCAUC: 0.755 | F1: 0.672 (precision: 0.664 & recall: 0.691) | Accuracy: 0.691\n",
      "n_estimators: 150  =>  ROCAUC: 0.755 | F1: 0.672 (precision: 0.664 & recall: 0.691) | Accuracy: 0.691\n",
      "n_estimators: 160  =>  ROCAUC: 0.755 | F1: 0.676 (precision: 0.667 & recall: 0.694) | Accuracy: 0.694\n",
      "n_estimators: 170  =>  ROCAUC: 0.755 | F1: 0.677 (precision: 0.668 & recall: 0.694) | Accuracy: 0.694\n",
      "n_estimators: 180  =>  ROCAUC: 0.753 | F1: 0.670 (precision: 0.663 & recall: 0.688) | Accuracy: 0.688\n",
      "n_estimators: 190  =>  ROCAUC: 0.750 | F1: 0.673 (precision: 0.665 & recall: 0.691) | Accuracy: 0.691\n",
      "n_estimators: 200  =>  ROCAUC: 0.751 | F1: 0.661 (precision: 0.652 & recall: 0.678) | Accuracy: 0.678\n",
      "n_estimators: 210  =>  ROCAUC: 0.749 | F1: 0.655 (precision: 0.647 & recall: 0.672) | Accuracy: 0.672\n",
      "n_estimators: 220  =>  ROCAUC: 0.747 | F1: 0.664 (precision: 0.656 & recall: 0.681) | Accuracy: 0.681\n",
      "n_estimators: 230  =>  ROCAUC: 0.750 | F1: 0.664 (precision: 0.656 & recall: 0.681) | Accuracy: 0.681\n",
      "n_estimators: 240  =>  ROCAUC: 0.750 | F1: 0.664 (precision: 0.656 & recall: 0.681) | Accuracy: 0.681\n",
      "n_estimators: 250  =>  ROCAUC: 0.751 | F1: 0.677 (precision: 0.668 & recall: 0.694) | Accuracy: 0.694\n",
      "n_estimators: 260  =>  ROCAUC: 0.750 | F1: 0.680 (precision: 0.671 & recall: 0.697) | Accuracy: 0.697\n",
      "n_estimators: 270  =>  ROCAUC: 0.751 | F1: 0.667 (precision: 0.657 & recall: 0.684) | Accuracy: 0.684\n",
      "n_estimators: 280  =>  ROCAUC: 0.752 | F1: 0.669 (precision: 0.660 & recall: 0.688) | Accuracy: 0.688\n",
      "n_estimators: 290  =>  ROCAUC: 0.817 | F1: 0.666 (precision: 0.656 & recall: 0.684) | Accuracy: 0.684\n",
      "n_estimators: 300  =>  ROCAUC: 0.819 | F1: 0.669 (precision: 0.660 & recall: 0.688) | Accuracy: 0.688\n",
      "n_estimators: 310  =>  ROCAUC: 0.817 | F1: 0.673 (precision: 0.663 & recall: 0.691) | Accuracy: 0.691\n",
      "n_estimators: 320  =>  ROCAUC: 0.817 | F1: 0.676 (precision: 0.667 & recall: 0.694) | Accuracy: 0.694\n",
      "n_estimators: 330  =>  ROCAUC: 0.816 | F1: 0.673 (precision: 0.665 & recall: 0.691) | Accuracy: 0.691\n",
      "n_estimators: 340  =>  ROCAUC: 0.817 | F1: 0.673 (precision: 0.665 & recall: 0.691) | Accuracy: 0.691\n",
      "n_estimators: 350  =>  ROCAUC: 0.817 | F1: 0.676 (precision: 0.668 & recall: 0.694) | Accuracy: 0.694\n",
      "n_estimators: 360  =>  ROCAUC: 0.816 | F1: 0.673 (precision: 0.665 & recall: 0.691) | Accuracy: 0.691\n",
      "n_estimators: 370  =>  ROCAUC: 0.815 | F1: 0.673 (precision: 0.665 & recall: 0.691) | Accuracy: 0.691\n",
      "n_estimators: 380  =>  ROCAUC: 0.832 | F1: 0.673 (precision: 0.664 & recall: 0.691) | Accuracy: 0.691\n",
      "n_estimators: 390  =>  ROCAUC: 0.842 | F1: 0.670 (precision: 0.661 & recall: 0.688) | Accuracy: 0.688\n",
      "n_estimators: 400  =>  ROCAUC: 0.841 | F1: 0.673 (precision: 0.665 & recall: 0.691) | Accuracy: 0.691\n",
      "n_estimators: 410  =>  ROCAUC: 0.840 | F1: 0.673 (precision: 0.665 & recall: 0.691) | Accuracy: 0.691\n",
      "n_estimators: 420  =>  ROCAUC: 0.838 | F1: 0.670 (precision: 0.662 & recall: 0.688) | Accuracy: 0.688\n",
      "n_estimators: 430  =>  ROCAUC: 0.838 | F1: 0.670 (precision: 0.662 & recall: 0.688) | Accuracy: 0.688\n",
      "n_estimators: 440  =>  ROCAUC: 0.838 | F1: 0.667 (precision: 0.659 & recall: 0.684) | Accuracy: 0.684\n",
      "n_estimators: 450  =>  ROCAUC: 0.839 | F1: 0.673 (precision: 0.665 & recall: 0.691) | Accuracy: 0.691\n",
      "n_estimators: 460  =>  ROCAUC: 0.838 | F1: 0.667 (precision: 0.659 & recall: 0.684) | Accuracy: 0.684\n",
      "n_estimators: 470  =>  ROCAUC: 0.838 | F1: 0.670 (precision: 0.662 & recall: 0.688) | Accuracy: 0.688\n",
      "n_estimators: 480  =>  ROCAUC: 0.837 | F1: 0.670 (precision: 0.661 & recall: 0.688) | Accuracy: 0.688\n",
      "n_estimators: 490  =>  ROCAUC: 0.837 | F1: 0.670 (precision: 0.661 & recall: 0.688) | Accuracy: 0.688\n",
      "n_estimators: 500  =>  ROCAUC: 0.843 | F1: 0.675 (precision: 0.667 & recall: 0.694) | Accuracy: 0.694\n",
      "n_estimators: 510  =>  ROCAUC: 0.843 | F1: 0.678 (precision: 0.671 & recall: 0.697) | Accuracy: 0.697\n",
      "n_estimators: 520  =>  ROCAUC: 0.843 | F1: 0.675 (precision: 0.667 & recall: 0.694) | Accuracy: 0.694\n",
      "n_estimators: 530  =>  ROCAUC: 0.842 | F1: 0.672 (precision: 0.664 & recall: 0.691) | Accuracy: 0.691\n",
      "n_estimators: 540  =>  ROCAUC: 0.842 | F1: 0.672 (precision: 0.664 & recall: 0.691) | Accuracy: 0.691\n",
      "n_estimators: 550  =>  ROCAUC: 0.842 | F1: 0.672 (precision: 0.664 & recall: 0.691) | Accuracy: 0.691\n",
      "n_estimators: 560  =>  ROCAUC: 0.842 | F1: 0.672 (precision: 0.664 & recall: 0.691) | Accuracy: 0.691\n",
      "n_estimators: 570  =>  ROCAUC: 0.842 | F1: 0.672 (precision: 0.664 & recall: 0.691) | Accuracy: 0.691\n",
      "n_estimators: 580  =>  ROCAUC: 0.842 | F1: 0.672 (precision: 0.664 & recall: 0.691) | Accuracy: 0.691\n",
      "n_estimators: 590  =>  ROCAUC: 0.841 | F1: 0.672 (precision: 0.664 & recall: 0.691) | Accuracy: 0.691\n",
      "n_estimators: 600  =>  ROCAUC: 0.841 | F1: 0.672 (precision: 0.664 & recall: 0.691) | Accuracy: 0.691\n"
     ]
    }
   ],
   "source": [
    "scores = {}\n",
    "values = np.linspace(10,600,60)\n",
    "\n",
    "for v in notebook.tqdm(values):\n",
    "    rforest_model = RandomForestClassifier(n_estimators=int(v), random_state=1, n_jobs=-1)\n",
    "    rforest_model.fit(X_train, y_train)\n",
    "    y_pred = rforest_model.predict(X_valid)\n",
    "    y_pred_proba = rforest_model.predict_proba(X_valid)\n",
    "    print(f\"n_estimators:{int(v):4}  =>  \", end=\"\")\n",
    "    scores[int(v)] = evaluate_classification(y_valid, y_pred, y_pred_proba)"
   ]
  },
  {
   "cell_type": "code",
   "execution_count": 115,
   "metadata": {},
   "outputs": [
    {
     "data": {
      "text/plain": [
       "Text(0.5, 0, 'n_estimators')"
      ]
     },
     "execution_count": 115,
     "metadata": {},
     "output_type": "execute_result"
    },
    {
     "data": {
      "image/png": "[encoded data removed]",
      "text/plain": [
       "<Figure size 432x288 with 1 Axes>"
      ]
     },
     "metadata": {
      "needs_background": "light"
     },
     "output_type": "display_data"
    }
   ],
   "source": [
    "plt.plot(scores.keys(), scores.values(), label=['ROCAUC','F1'])\n",
    "plt.legend()\n",
    "plt.xlabel(\"n_estimators\")"
   ]
  },
  {
   "cell_type": "code",
   "execution_count": 116,
   "metadata": {},
   "outputs": [
    {
     "name": "stdout",
     "output_type": "stream",
     "text": [
      "max ROCAUC:0.843  =>  n_estimators:500\n"
     ]
    }
   ],
   "source": [
    "keys = pd.Series([k for k,v in scores.items()])\n",
    "rocauc = pd.Series([v[0] for k,v in scores.items()])\n",
    "f1 = pd.Series([v[1] for k,v in scores.items()])\n",
    "\n",
    "print(f\"max ROCAUC:{rocauc.max():.3f}  =>  n_estimators:{keys[rocauc.idxmax()]:3}\")"
   ]
  },
  {
   "cell_type": "markdown",
   "metadata": {},
   "source": [
    "### **----- TMP RESULT -----**\n",
    "\n",
    "> The best `ROC AUC score` for a **Random Forest** appears to be around `0.843` with `n_estimarors=500`\n",
    "---"
   ]
  },
  {
   "cell_type": "markdown",
   "metadata": {},
   "source": [
    "### Search best `max_depth` / `n_estimators` combination <a class=\"anchor\" id=\"P04_random_forest_max_d\"></a>"
   ]
  },
  {
   "cell_type": "code",
   "execution_count": 120,
   "metadata": {
    "scrolled": true
   },
   "outputs": [
    {
     "data": {
      "application/vnd.jupyter.widget-view+json": {
       "model_id": "1c147f216eaa42d28404a0b42c139abd",
       "version_major": 2,
       "version_minor": 0
      },
      "text/plain": [
       "  0%|          | 0/4 [00:00<?, ?it/s]"
      ]
     },
     "metadata": {},
     "output_type": "display_data"
    },
    {
     "data": {
      "application/vnd.jupyter.widget-view+json": {
       "model_id": "0a9811876a20448aa046512a3af9810c",
       "version_major": 2,
       "version_minor": 0
      },
      "text/plain": [
       "  0%|          | 0/60 [00:00<?, ?it/s]"
      ]
     },
     "metadata": {},
     "output_type": "display_data"
    },
    {
     "name": "stdout",
     "output_type": "stream",
     "text": [
      "max_d: 10 - n_estimators:  10  =>  ROCAUC: 0.678 | F1: 0.611 (precision: 0.636 & recall: 0.625) | Accuracy: 0.625\n",
      "max_d: 10 - n_estimators:  20  =>  ROCAUC: 0.757 | F1: 0.637 (precision: 0.628 & recall: 0.659) | Accuracy: 0.659\n",
      "max_d: 10 - n_estimators:  30  =>  ROCAUC: 0.772 | F1: 0.643 (precision: 0.627 & recall: 0.666) | Accuracy: 0.666\n",
      "max_d: 10 - n_estimators:  40  =>  ROCAUC: 0.759 | F1: 0.660 (precision: 0.644 & recall: 0.684) | Accuracy: 0.684\n",
      "max_d: 10 - n_estimators:  50  =>  ROCAUC: 0.747 | F1: 0.655 (precision: 0.640 & recall: 0.678) | Accuracy: 0.678\n",
      "max_d: 10 - n_estimators:  60  =>  ROCAUC: 0.747 | F1: 0.660 (precision: 0.646 & recall: 0.684) | Accuracy: 0.684\n",
      "max_d: 10 - n_estimators:  70  =>  ROCAUC: 0.749 | F1: 0.670 (precision: 0.658 & recall: 0.694) | Accuracy: 0.694\n",
      "max_d: 10 - n_estimators:  80  =>  ROCAUC: 0.799 | F1: 0.663 (precision: 0.651 & recall: 0.688) | Accuracy: 0.688\n",
      "max_d: 10 - n_estimators:  90  =>  ROCAUC: 0.792 | F1: 0.665 (precision: 0.654 & recall: 0.691) | Accuracy: 0.691\n",
      "max_d: 10 - n_estimators: 100  =>  ROCAUC: 0.800 | F1: 0.656 (precision: 0.647 & recall: 0.681) | Accuracy: 0.681\n",
      "max_d: 10 - n_estimators: 110  =>  ROCAUC: 0.800 | F1: 0.663 (precision: 0.653 & recall: 0.688) | Accuracy: 0.688\n",
      "max_d: 10 - n_estimators: 120  =>  ROCAUC: 0.799 | F1: 0.660 (precision: 0.650 & recall: 0.684) | Accuracy: 0.684\n",
      "max_d: 10 - n_estimators: 130  =>  ROCAUC: 0.799 | F1: 0.663 (precision: 0.653 & recall: 0.688) | Accuracy: 0.688\n",
      "max_d: 10 - n_estimators: 140  =>  ROCAUC: 0.794 | F1: 0.663 (precision: 0.653 & recall: 0.688) | Accuracy: 0.688\n",
      "max_d: 10 - n_estimators: 150  =>  ROCAUC: 0.793 | F1: 0.660 (precision: 0.650 & recall: 0.684) | Accuracy: 0.684\n",
      "max_d: 10 - n_estimators: 160  =>  ROCAUC: 0.788 | F1: 0.657 (precision: 0.645 & recall: 0.681) | Accuracy: 0.681\n",
      "max_d: 10 - n_estimators: 170  =>  ROCAUC: 0.787 | F1: 0.657 (precision: 0.645 & recall: 0.681) | Accuracy: 0.681\n",
      "max_d: 10 - n_estimators: 180  =>  ROCAUC: 0.810 | F1: 0.657 (precision: 0.645 & recall: 0.681) | Accuracy: 0.681\n",
      "max_d: 10 - n_estimators: 190  =>  ROCAUC: 0.812 | F1: 0.660 (precision: 0.646 & recall: 0.684) | Accuracy: 0.684\n",
      "max_d: 10 - n_estimators: 200  =>  ROCAUC: 0.815 | F1: 0.660 (precision: 0.648 & recall: 0.684) | Accuracy: 0.684\n",
      "max_d: 10 - n_estimators: 210  =>  ROCAUC: 0.813 | F1: 0.663 (precision: 0.651 & recall: 0.688) | Accuracy: 0.688\n",
      "max_d: 10 - n_estimators: 220  =>  ROCAUC: 0.813 | F1: 0.660 (precision: 0.648 & recall: 0.684) | Accuracy: 0.684\n",
      "max_d: 10 - n_estimators: 230  =>  ROCAUC: 0.812 | F1: 0.660 (precision: 0.648 & recall: 0.684) | Accuracy: 0.684\n",
      "max_d: 10 - n_estimators: 240  =>  ROCAUC: 0.811 | F1: 0.660 (precision: 0.648 & recall: 0.684) | Accuracy: 0.684\n",
      "max_d: 10 - n_estimators: 250  =>  ROCAUC: 0.812 | F1: 0.660 (precision: 0.648 & recall: 0.684) | Accuracy: 0.684\n",
      "max_d: 10 - n_estimators: 260  =>  ROCAUC: 0.810 | F1: 0.663 (precision: 0.651 & recall: 0.688) | Accuracy: 0.688\n",
      "max_d: 10 - n_estimators: 270  =>  ROCAUC: 0.809 | F1: 0.663 (precision: 0.651 & recall: 0.688) | Accuracy: 0.688\n",
      "max_d: 10 - n_estimators: 280  =>  ROCAUC: 0.810 | F1: 0.663 (precision: 0.651 & recall: 0.688) | Accuracy: 0.688\n",
      "max_d: 10 - n_estimators: 290  =>  ROCAUC: 0.808 | F1: 0.660 (precision: 0.648 & recall: 0.684) | Accuracy: 0.684\n",
      "max_d: 10 - n_estimators: 300  =>  ROCAUC: 0.817 | F1: 0.660 (precision: 0.648 & recall: 0.684) | Accuracy: 0.684\n",
      "max_d: 10 - n_estimators: 310  =>  ROCAUC: 0.816 | F1: 0.663 (precision: 0.651 & recall: 0.688) | Accuracy: 0.688\n",
      "max_d: 10 - n_estimators: 320  =>  ROCAUC: 0.816 | F1: 0.660 (precision: 0.648 & recall: 0.684) | Accuracy: 0.684\n",
      "max_d: 10 - n_estimators: 330  =>  ROCAUC: 0.815 | F1: 0.663 (precision: 0.651 & recall: 0.688) | Accuracy: 0.688\n",
      "max_d: 10 - n_estimators: 340  =>  ROCAUC: 0.815 | F1: 0.656 (precision: 0.645 & recall: 0.681) | Accuracy: 0.681\n",
      "max_d: 10 - n_estimators: 350  =>  ROCAUC: 0.817 | F1: 0.656 (precision: 0.645 & recall: 0.681) | Accuracy: 0.681\n",
      "max_d: 10 - n_estimators: 360  =>  ROCAUC: 0.815 | F1: 0.660 (precision: 0.645 & recall: 0.684) | Accuracy: 0.684\n",
      "max_d: 10 - n_estimators: 370  =>  ROCAUC: 0.813 | F1: 0.658 (precision: 0.643 & recall: 0.681) | Accuracy: 0.681\n",
      "max_d: 10 - n_estimators: 380  =>  ROCAUC: 0.812 | F1: 0.658 (precision: 0.643 & recall: 0.681) | Accuracy: 0.681\n",
      "max_d: 10 - n_estimators: 390  =>  ROCAUC: 0.824 | F1: 0.658 (precision: 0.643 & recall: 0.681) | Accuracy: 0.681\n",
      "max_d: 10 - n_estimators: 400  =>  ROCAUC: 0.824 | F1: 0.658 (precision: 0.643 & recall: 0.681) | Accuracy: 0.681\n",
      "max_d: 10 - n_estimators: 410  =>  ROCAUC: 0.822 | F1: 0.658 (precision: 0.643 & recall: 0.681) | Accuracy: 0.681\n",
      "max_d: 10 - n_estimators: 420  =>  ROCAUC: 0.822 | F1: 0.658 (precision: 0.643 & recall: 0.681) | Accuracy: 0.681\n",
      "max_d: 10 - n_estimators: 430  =>  ROCAUC: 0.822 | F1: 0.660 (precision: 0.645 & recall: 0.684) | Accuracy: 0.684\n",
      "max_d: 10 - n_estimators: 440  =>  ROCAUC: 0.821 | F1: 0.660 (precision: 0.645 & recall: 0.684) | Accuracy: 0.684\n",
      "max_d: 10 - n_estimators: 450  =>  ROCAUC: 0.821 | F1: 0.663 (precision: 0.648 & recall: 0.688) | Accuracy: 0.688\n",
      "max_d: 10 - n_estimators: 460  =>  ROCAUC: 0.820 | F1: 0.661 (precision: 0.646 & recall: 0.684) | Accuracy: 0.684\n",
      "max_d: 10 - n_estimators: 470  =>  ROCAUC: 0.819 | F1: 0.661 (precision: 0.646 & recall: 0.684) | Accuracy: 0.684\n",
      "max_d: 10 - n_estimators: 480  =>  ROCAUC: 0.818 | F1: 0.661 (precision: 0.646 & recall: 0.684) | Accuracy: 0.684\n",
      "max_d: 10 - n_estimators: 490  =>  ROCAUC: 0.819 | F1: 0.658 (precision: 0.643 & recall: 0.681) | Accuracy: 0.681\n",
      "max_d: 10 - n_estimators: 500  =>  ROCAUC: 0.818 | F1: 0.663 (precision: 0.648 & recall: 0.688) | Accuracy: 0.688\n",
      "max_d: 10 - n_estimators: 510  =>  ROCAUC: 0.817 | F1: 0.663 (precision: 0.648 & recall: 0.688) | Accuracy: 0.688\n",
      "max_d: 10 - n_estimators: 520  =>  ROCAUC: 0.817 | F1: 0.663 (precision: 0.648 & recall: 0.688) | Accuracy: 0.688\n",
      "max_d: 10 - n_estimators: 530  =>  ROCAUC: 0.819 | F1: 0.663 (precision: 0.648 & recall: 0.688) | Accuracy: 0.688\n",
      "max_d: 10 - n_estimators: 540  =>  ROCAUC: 0.817 | F1: 0.661 (precision: 0.646 & recall: 0.684) | Accuracy: 0.684\n",
      "max_d: 10 - n_estimators: 550  =>  ROCAUC: 0.819 | F1: 0.663 (precision: 0.648 & recall: 0.688) | Accuracy: 0.688\n",
      "max_d: 10 - n_estimators: 560  =>  ROCAUC: 0.818 | F1: 0.660 (precision: 0.645 & recall: 0.684) | Accuracy: 0.684\n",
      "max_d: 10 - n_estimators: 570  =>  ROCAUC: 0.826 | F1: 0.660 (precision: 0.645 & recall: 0.684) | Accuracy: 0.684\n",
      "max_d: 10 - n_estimators: 580  =>  ROCAUC: 0.825 | F1: 0.660 (precision: 0.645 & recall: 0.684) | Accuracy: 0.684\n",
      "max_d: 10 - n_estimators: 590  =>  ROCAUC: 0.824 | F1: 0.660 (precision: 0.645 & recall: 0.684) | Accuracy: 0.684\n",
      "max_d: 10 - n_estimators: 600  =>  ROCAUC: 0.823 | F1: 0.660 (precision: 0.645 & recall: 0.684) | Accuracy: 0.684\n"
     ]
    },
    {
     "data": {
      "application/vnd.jupyter.widget-view+json": {
       "model_id": "24805315a8cf42069466c805b0405715",
       "version_major": 2,
       "version_minor": 0
      },
      "text/plain": [
       "  0%|          | 0/60 [00:00<?, ?it/s]"
      ]
     },
     "metadata": {},
     "output_type": "display_data"
    },
    {
     "name": "stdout",
     "output_type": "stream",
     "text": [
      "max_d: 15 - n_estimators:  10  =>  ROCAUC: 0.714 | F1: 0.632 (precision: 0.635 & recall: 0.641) | Accuracy: 0.641\n",
      "max_d: 15 - n_estimators:  20  =>  ROCAUC: 0.732 | F1: 0.665 (precision: 0.678 & recall: 0.675) | Accuracy: 0.675\n",
      "max_d: 15 - n_estimators:  30  =>  ROCAUC: 0.728 | F1: 0.660 (precision: 0.655 & recall: 0.675) | Accuracy: 0.675\n",
      "max_d: 15 - n_estimators:  40  =>  ROCAUC: 0.725 | F1: 0.682 (precision: 0.673 & recall: 0.700) | Accuracy: 0.700\n",
      "max_d: 15 - n_estimators:  50  =>  ROCAUC: 0.805 | F1: 0.681 (precision: 0.671 & recall: 0.700) | Accuracy: 0.700\n",
      "max_d: 15 - n_estimators:  60  =>  ROCAUC: 0.811 | F1: 0.685 (precision: 0.677 & recall: 0.703) | Accuracy: 0.703\n",
      "max_d: 15 - n_estimators:  70  =>  ROCAUC: 0.825 | F1: 0.679 (precision: 0.672 & recall: 0.697) | Accuracy: 0.697\n",
      "max_d: 15 - n_estimators:  80  =>  ROCAUC: 0.828 | F1: 0.688 (precision: 0.678 & recall: 0.706) | Accuracy: 0.706\n",
      "max_d: 15 - n_estimators:  90  =>  ROCAUC: 0.823 | F1: 0.690 (precision: 0.681 & recall: 0.709) | Accuracy: 0.709\n",
      "max_d: 15 - n_estimators: 100  =>  ROCAUC: 0.836 | F1: 0.687 (precision: 0.678 & recall: 0.706) | Accuracy: 0.706\n",
      "max_d: 15 - n_estimators: 110  =>  ROCAUC: 0.836 | F1: 0.678 (precision: 0.669 & recall: 0.697) | Accuracy: 0.697\n",
      "max_d: 15 - n_estimators: 120  =>  ROCAUC: 0.833 | F1: 0.683 (precision: 0.675 & recall: 0.703) | Accuracy: 0.703\n",
      "max_d: 15 - n_estimators: 130  =>  ROCAUC: 0.835 | F1: 0.680 (precision: 0.672 & recall: 0.700) | Accuracy: 0.700\n",
      "max_d: 15 - n_estimators: 140  =>  ROCAUC: 0.832 | F1: 0.678 (precision: 0.669 & recall: 0.697) | Accuracy: 0.697\n",
      "max_d: 15 - n_estimators: 150  =>  ROCAUC: 0.830 | F1: 0.684 (precision: 0.677 & recall: 0.703) | Accuracy: 0.703\n",
      "max_d: 15 - n_estimators: 160  =>  ROCAUC: 0.830 | F1: 0.681 (precision: 0.672 & recall: 0.700) | Accuracy: 0.700\n",
      "max_d: 15 - n_estimators: 170  =>  ROCAUC: 0.831 | F1: 0.678 (precision: 0.670 & recall: 0.697) | Accuracy: 0.697\n",
      "max_d: 15 - n_estimators: 180  =>  ROCAUC: 0.830 | F1: 0.675 (precision: 0.666 & recall: 0.694) | Accuracy: 0.694\n",
      "max_d: 15 - n_estimators: 190  =>  ROCAUC: 0.827 | F1: 0.681 (precision: 0.672 & recall: 0.700) | Accuracy: 0.700\n",
      "max_d: 15 - n_estimators: 200  =>  ROCAUC: 0.827 | F1: 0.678 (precision: 0.669 & recall: 0.697) | Accuracy: 0.697\n",
      "max_d: 15 - n_estimators: 210  =>  ROCAUC: 0.825 | F1: 0.684 (precision: 0.675 & recall: 0.703) | Accuracy: 0.703\n",
      "max_d: 15 - n_estimators: 220  =>  ROCAUC: 0.822 | F1: 0.681 (precision: 0.672 & recall: 0.700) | Accuracy: 0.700\n",
      "max_d: 15 - n_estimators: 230  =>  ROCAUC: 0.820 | F1: 0.681 (precision: 0.672 & recall: 0.700) | Accuracy: 0.700\n",
      "max_d: 15 - n_estimators: 240  =>  ROCAUC: 0.818 | F1: 0.682 (precision: 0.673 & recall: 0.700) | Accuracy: 0.700\n",
      "max_d: 15 - n_estimators: 250  =>  ROCAUC: 0.818 | F1: 0.682 (precision: 0.673 & recall: 0.700) | Accuracy: 0.700\n",
      "max_d: 15 - n_estimators: 260  =>  ROCAUC: 0.815 | F1: 0.682 (precision: 0.673 & recall: 0.700) | Accuracy: 0.700\n",
      "max_d: 15 - n_estimators: 270  =>  ROCAUC: 0.814 | F1: 0.682 (precision: 0.673 & recall: 0.700) | Accuracy: 0.700\n",
      "max_d: 15 - n_estimators: 280  =>  ROCAUC: 0.814 | F1: 0.675 (precision: 0.666 & recall: 0.694) | Accuracy: 0.694\n",
      "max_d: 15 - n_estimators: 290  =>  ROCAUC: 0.830 | F1: 0.673 (precision: 0.664 & recall: 0.691) | Accuracy: 0.691\n",
      "max_d: 15 - n_estimators: 300  =>  ROCAUC: 0.831 | F1: 0.673 (precision: 0.664 & recall: 0.691) | Accuracy: 0.691\n",
      "max_d: 15 - n_estimators: 310  =>  ROCAUC: 0.829 | F1: 0.673 (precision: 0.664 & recall: 0.691) | Accuracy: 0.691\n",
      "max_d: 15 - n_estimators: 320  =>  ROCAUC: 0.829 | F1: 0.673 (precision: 0.664 & recall: 0.691) | Accuracy: 0.691\n",
      "max_d: 15 - n_estimators: 330  =>  ROCAUC: 0.828 | F1: 0.673 (precision: 0.664 & recall: 0.691) | Accuracy: 0.691\n",
      "max_d: 15 - n_estimators: 340  =>  ROCAUC: 0.829 | F1: 0.669 (precision: 0.661 & recall: 0.688) | Accuracy: 0.688\n",
      "max_d: 15 - n_estimators: 350  =>  ROCAUC: 0.827 | F1: 0.675 (precision: 0.667 & recall: 0.694) | Accuracy: 0.694\n",
      "max_d: 15 - n_estimators: 360  =>  ROCAUC: 0.825 | F1: 0.672 (precision: 0.664 & recall: 0.691) | Accuracy: 0.691\n",
      "max_d: 15 - n_estimators: 370  =>  ROCAUC: 0.823 | F1: 0.669 (precision: 0.660 & recall: 0.688) | Accuracy: 0.688\n",
      "max_d: 15 - n_estimators: 380  =>  ROCAUC: 0.835 | F1: 0.669 (precision: 0.661 & recall: 0.688) | Accuracy: 0.688\n",
      "max_d: 15 - n_estimators: 390  =>  ROCAUC: 0.841 | F1: 0.669 (precision: 0.660 & recall: 0.688) | Accuracy: 0.688\n",
      "max_d: 15 - n_estimators: 400  =>  ROCAUC: 0.840 | F1: 0.669 (precision: 0.661 & recall: 0.688) | Accuracy: 0.688\n",
      "max_d: 15 - n_estimators: 410  =>  ROCAUC: 0.840 | F1: 0.663 (precision: 0.656 & recall: 0.681) | Accuracy: 0.681\n",
      "max_d: 15 - n_estimators: 420  =>  ROCAUC: 0.839 | F1: 0.666 (precision: 0.658 & recall: 0.684) | Accuracy: 0.684\n",
      "max_d: 15 - n_estimators: 430  =>  ROCAUC: 0.837 | F1: 0.663 (precision: 0.656 & recall: 0.681) | Accuracy: 0.681\n",
      "max_d: 15 - n_estimators: 440  =>  ROCAUC: 0.836 | F1: 0.667 (precision: 0.659 & recall: 0.684) | Accuracy: 0.684\n",
      "max_d: 15 - n_estimators: 450  =>  ROCAUC: 0.837 | F1: 0.669 (precision: 0.661 & recall: 0.688) | Accuracy: 0.688\n",
      "max_d: 15 - n_estimators: 460  =>  ROCAUC: 0.836 | F1: 0.666 (precision: 0.658 & recall: 0.684) | Accuracy: 0.684\n",
      "max_d: 15 - n_estimators: 470  =>  ROCAUC: 0.836 | F1: 0.663 (precision: 0.656 & recall: 0.681) | Accuracy: 0.681\n",
      "max_d: 15 - n_estimators: 480  =>  ROCAUC: 0.834 | F1: 0.663 (precision: 0.656 & recall: 0.681) | Accuracy: 0.681\n",
      "max_d: 15 - n_estimators: 490  =>  ROCAUC: 0.833 | F1: 0.663 (precision: 0.656 & recall: 0.681) | Accuracy: 0.681\n",
      "max_d: 15 - n_estimators: 500  =>  ROCAUC: 0.838 | F1: 0.666 (precision: 0.658 & recall: 0.684) | Accuracy: 0.684\n",
      "max_d: 15 - n_estimators: 510  =>  ROCAUC: 0.839 | F1: 0.669 (precision: 0.660 & recall: 0.688) | Accuracy: 0.688\n",
      "max_d: 15 - n_estimators: 520  =>  ROCAUC: 0.839 | F1: 0.669 (precision: 0.660 & recall: 0.688) | Accuracy: 0.688\n",
      "max_d: 15 - n_estimators: 530  =>  ROCAUC: 0.840 | F1: 0.672 (precision: 0.664 & recall: 0.691) | Accuracy: 0.691\n",
      "max_d: 15 - n_estimators: 540  =>  ROCAUC: 0.839 | F1: 0.672 (precision: 0.664 & recall: 0.691) | Accuracy: 0.691\n",
      "max_d: 15 - n_estimators: 550  =>  ROCAUC: 0.839 | F1: 0.672 (precision: 0.664 & recall: 0.691) | Accuracy: 0.691\n",
      "max_d: 15 - n_estimators: 560  =>  ROCAUC: 0.837 | F1: 0.675 (precision: 0.666 & recall: 0.694) | Accuracy: 0.694\n",
      "max_d: 15 - n_estimators: 570  =>  ROCAUC: 0.837 | F1: 0.675 (precision: 0.666 & recall: 0.694) | Accuracy: 0.694\n",
      "max_d: 15 - n_estimators: 580  =>  ROCAUC: 0.836 | F1: 0.672 (precision: 0.663 & recall: 0.691) | Accuracy: 0.691\n",
      "max_d: 15 - n_estimators: 590  =>  ROCAUC: 0.836 | F1: 0.675 (precision: 0.666 & recall: 0.694) | Accuracy: 0.694\n",
      "max_d: 15 - n_estimators: 600  =>  ROCAUC: 0.836 | F1: 0.672 (precision: 0.663 & recall: 0.691) | Accuracy: 0.691\n"
     ]
    },
    {
     "data": {
      "application/vnd.jupyter.widget-view+json": {
       "model_id": "54da550e56ab476dbd7c4e236b356490",
       "version_major": 2,
       "version_minor": 0
      },
      "text/plain": [
       "  0%|          | 0/60 [00:00<?, ?it/s]"
      ]
     },
     "metadata": {},
     "output_type": "display_data"
    },
    {
     "name": "stdout",
     "output_type": "stream",
     "text": [
      "max_d: 20 - n_estimators:  10  =>  ROCAUC: 0.724 | F1: 0.635 (precision: 0.627 & recall: 0.650) | Accuracy: 0.650\n",
      "max_d: 20 - n_estimators:  20  =>  ROCAUC: 0.735 | F1: 0.635 (precision: 0.628 & recall: 0.650) | Accuracy: 0.650\n",
      "max_d: 20 - n_estimators:  30  =>  ROCAUC: 0.746 | F1: 0.669 (precision: 0.661 & recall: 0.684) | Accuracy: 0.684\n",
      "max_d: 20 - n_estimators:  40  =>  ROCAUC: 0.769 | F1: 0.663 (precision: 0.658 & recall: 0.678) | Accuracy: 0.678\n",
      "max_d: 20 - n_estimators:  50  =>  ROCAUC: 0.763 | F1: 0.677 (precision: 0.669 & recall: 0.694) | Accuracy: 0.694\n",
      "max_d: 20 - n_estimators:  60  =>  ROCAUC: 0.764 | F1: 0.693 (precision: 0.685 & recall: 0.709) | Accuracy: 0.709\n",
      "max_d: 20 - n_estimators:  70  =>  ROCAUC: 0.757 | F1: 0.686 (precision: 0.677 & recall: 0.703) | Accuracy: 0.703\n",
      "max_d: 20 - n_estimators:  80  =>  ROCAUC: 0.764 | F1: 0.682 (precision: 0.674 & recall: 0.700) | Accuracy: 0.700\n",
      "max_d: 20 - n_estimators:  90  =>  ROCAUC: 0.759 | F1: 0.676 (precision: 0.669 & recall: 0.694) | Accuracy: 0.694\n",
      "max_d: 20 - n_estimators: 100  =>  ROCAUC: 0.758 | F1: 0.670 (precision: 0.663 & recall: 0.688) | Accuracy: 0.688\n",
      "max_d: 20 - n_estimators: 110  =>  ROCAUC: 0.757 | F1: 0.669 (precision: 0.661 & recall: 0.688) | Accuracy: 0.688\n",
      "max_d: 20 - n_estimators: 120  =>  ROCAUC: 0.756 | F1: 0.666 (precision: 0.658 & recall: 0.684) | Accuracy: 0.684\n",
      "max_d: 20 - n_estimators: 130  =>  ROCAUC: 0.758 | F1: 0.672 (precision: 0.664 & recall: 0.691) | Accuracy: 0.691\n",
      "max_d: 20 - n_estimators: 140  =>  ROCAUC: 0.756 | F1: 0.669 (precision: 0.661 & recall: 0.688) | Accuracy: 0.688\n",
      "max_d: 20 - n_estimators: 150  =>  ROCAUC: 0.756 | F1: 0.670 (precision: 0.662 & recall: 0.688) | Accuracy: 0.688\n",
      "max_d: 20 - n_estimators: 160  =>  ROCAUC: 0.756 | F1: 0.670 (precision: 0.661 & recall: 0.688) | Accuracy: 0.688\n",
      "max_d: 20 - n_estimators: 170  =>  ROCAUC: 0.755 | F1: 0.676 (precision: 0.668 & recall: 0.694) | Accuracy: 0.694\n",
      "max_d: 20 - n_estimators: 180  =>  ROCAUC: 0.754 | F1: 0.676 (precision: 0.669 & recall: 0.694) | Accuracy: 0.694\n",
      "max_d: 20 - n_estimators: 190  =>  ROCAUC: 0.751 | F1: 0.670 (precision: 0.663 & recall: 0.688) | Accuracy: 0.688\n",
      "max_d: 20 - n_estimators: 200  =>  ROCAUC: 0.751 | F1: 0.658 (precision: 0.649 & recall: 0.675) | Accuracy: 0.675\n",
      "max_d: 20 - n_estimators: 210  =>  ROCAUC: 0.750 | F1: 0.658 (precision: 0.649 & recall: 0.675) | Accuracy: 0.675\n",
      "max_d: 20 - n_estimators: 220  =>  ROCAUC: 0.748 | F1: 0.658 (precision: 0.649 & recall: 0.675) | Accuracy: 0.675\n",
      "max_d: 20 - n_estimators: 230  =>  ROCAUC: 0.749 | F1: 0.658 (precision: 0.649 & recall: 0.675) | Accuracy: 0.675\n",
      "max_d: 20 - n_estimators: 240  =>  ROCAUC: 0.749 | F1: 0.667 (precision: 0.659 & recall: 0.684) | Accuracy: 0.684\n",
      "max_d: 20 - n_estimators: 250  =>  ROCAUC: 0.751 | F1: 0.664 (precision: 0.655 & recall: 0.681) | Accuracy: 0.681\n",
      "max_d: 20 - n_estimators: 260  =>  ROCAUC: 0.750 | F1: 0.667 (precision: 0.658 & recall: 0.684) | Accuracy: 0.684\n",
      "max_d: 20 - n_estimators: 270  =>  ROCAUC: 0.750 | F1: 0.664 (precision: 0.655 & recall: 0.681) | Accuracy: 0.681\n",
      "max_d: 20 - n_estimators: 280  =>  ROCAUC: 0.751 | F1: 0.667 (precision: 0.658 & recall: 0.684) | Accuracy: 0.684\n",
      "max_d: 20 - n_estimators: 290  =>  ROCAUC: 0.817 | F1: 0.667 (precision: 0.657 & recall: 0.684) | Accuracy: 0.684\n",
      "max_d: 20 - n_estimators: 300  =>  ROCAUC: 0.819 | F1: 0.669 (precision: 0.660 & recall: 0.688) | Accuracy: 0.688\n",
      "max_d: 20 - n_estimators: 310  =>  ROCAUC: 0.817 | F1: 0.667 (precision: 0.657 & recall: 0.684) | Accuracy: 0.684\n",
      "max_d: 20 - n_estimators: 320  =>  ROCAUC: 0.817 | F1: 0.670 (precision: 0.660 & recall: 0.688) | Accuracy: 0.688\n",
      "max_d: 20 - n_estimators: 330  =>  ROCAUC: 0.816 | F1: 0.670 (precision: 0.661 & recall: 0.688) | Accuracy: 0.688\n",
      "max_d: 20 - n_estimators: 340  =>  ROCAUC: 0.817 | F1: 0.664 (precision: 0.655 & recall: 0.681) | Accuracy: 0.681\n",
      "max_d: 20 - n_estimators: 350  =>  ROCAUC: 0.817 | F1: 0.673 (precision: 0.665 & recall: 0.691) | Accuracy: 0.691\n",
      "max_d: 20 - n_estimators: 360  =>  ROCAUC: 0.816 | F1: 0.669 (precision: 0.661 & recall: 0.688) | Accuracy: 0.688\n",
      "max_d: 20 - n_estimators: 370  =>  ROCAUC: 0.815 | F1: 0.669 (precision: 0.661 & recall: 0.688) | Accuracy: 0.688\n",
      "max_d: 20 - n_estimators: 380  =>  ROCAUC: 0.832 | F1: 0.676 (precision: 0.667 & recall: 0.694) | Accuracy: 0.694\n",
      "max_d: 20 - n_estimators: 390  =>  ROCAUC: 0.841 | F1: 0.679 (precision: 0.670 & recall: 0.697) | Accuracy: 0.697\n",
      "max_d: 20 - n_estimators: 400  =>  ROCAUC: 0.840 | F1: 0.679 (precision: 0.670 & recall: 0.697) | Accuracy: 0.697\n",
      "max_d: 20 - n_estimators: 410  =>  ROCAUC: 0.839 | F1: 0.676 (precision: 0.668 & recall: 0.694) | Accuracy: 0.694\n",
      "max_d: 20 - n_estimators: 420  =>  ROCAUC: 0.837 | F1: 0.676 (precision: 0.668 & recall: 0.694) | Accuracy: 0.694\n",
      "max_d: 20 - n_estimators: 430  =>  ROCAUC: 0.837 | F1: 0.673 (precision: 0.665 & recall: 0.691) | Accuracy: 0.691\n",
      "max_d: 20 - n_estimators: 440  =>  ROCAUC: 0.837 | F1: 0.673 (precision: 0.665 & recall: 0.691) | Accuracy: 0.691\n",
      "max_d: 20 - n_estimators: 450  =>  ROCAUC: 0.838 | F1: 0.679 (precision: 0.670 & recall: 0.697) | Accuracy: 0.697\n",
      "max_d: 20 - n_estimators: 460  =>  ROCAUC: 0.838 | F1: 0.676 (precision: 0.668 & recall: 0.694) | Accuracy: 0.694\n",
      "max_d: 20 - n_estimators: 470  =>  ROCAUC: 0.837 | F1: 0.676 (precision: 0.668 & recall: 0.694) | Accuracy: 0.694\n",
      "max_d: 20 - n_estimators: 480  =>  ROCAUC: 0.836 | F1: 0.679 (precision: 0.670 & recall: 0.697) | Accuracy: 0.697\n",
      "max_d: 20 - n_estimators: 490  =>  ROCAUC: 0.836 | F1: 0.679 (precision: 0.670 & recall: 0.697) | Accuracy: 0.697\n",
      "max_d: 20 - n_estimators: 500  =>  ROCAUC: 0.843 | F1: 0.675 (precision: 0.667 & recall: 0.694) | Accuracy: 0.694\n",
      "max_d: 20 - n_estimators: 510  =>  ROCAUC: 0.842 | F1: 0.675 (precision: 0.667 & recall: 0.694) | Accuracy: 0.694\n",
      "max_d: 20 - n_estimators: 520  =>  ROCAUC: 0.842 | F1: 0.675 (precision: 0.667 & recall: 0.694) | Accuracy: 0.694\n",
      "max_d: 20 - n_estimators: 530  =>  ROCAUC: 0.841 | F1: 0.675 (precision: 0.667 & recall: 0.694) | Accuracy: 0.694\n",
      "max_d: 20 - n_estimators: 540  =>  ROCAUC: 0.841 | F1: 0.675 (precision: 0.667 & recall: 0.694) | Accuracy: 0.694\n",
      "max_d: 20 - n_estimators: 550  =>  ROCAUC: 0.841 | F1: 0.672 (precision: 0.664 & recall: 0.691) | Accuracy: 0.691\n",
      "max_d: 20 - n_estimators: 560  =>  ROCAUC: 0.840 | F1: 0.669 (precision: 0.660 & recall: 0.688) | Accuracy: 0.688\n",
      "max_d: 20 - n_estimators: 570  =>  ROCAUC: 0.841 | F1: 0.673 (precision: 0.664 & recall: 0.691) | Accuracy: 0.691\n",
      "max_d: 20 - n_estimators: 580  =>  ROCAUC: 0.841 | F1: 0.673 (precision: 0.664 & recall: 0.691) | Accuracy: 0.691\n",
      "max_d: 20 - n_estimators: 590  =>  ROCAUC: 0.840 | F1: 0.675 (precision: 0.667 & recall: 0.694) | Accuracy: 0.694\n",
      "max_d: 20 - n_estimators: 600  =>  ROCAUC: 0.840 | F1: 0.675 (precision: 0.667 & recall: 0.694) | Accuracy: 0.694\n"
     ]
    },
    {
     "data": {
      "application/vnd.jupyter.widget-view+json": {
       "model_id": "8f599344d81a499f924eccaa674c2332",
       "version_major": 2,
       "version_minor": 0
      },
      "text/plain": [
       "  0%|          | 0/60 [00:00<?, ?it/s]"
      ]
     },
     "metadata": {},
     "output_type": "display_data"
    },
    {
     "name": "stdout",
     "output_type": "stream",
     "text": [
      "max_d: 25 - n_estimators:  10  =>  ROCAUC: 0.724 | F1: 0.632 (precision: 0.624 & recall: 0.647) | Accuracy: 0.647\n",
      "max_d: 25 - n_estimators:  20  =>  ROCAUC: 0.734 | F1: 0.635 (precision: 0.628 & recall: 0.650) | Accuracy: 0.650\n",
      "max_d: 25 - n_estimators:  30  =>  ROCAUC: 0.750 | F1: 0.669 (precision: 0.661 & recall: 0.684) | Accuracy: 0.684\n",
      "max_d: 25 - n_estimators:  40  =>  ROCAUC: 0.769 | F1: 0.671 (precision: 0.665 & recall: 0.688) | Accuracy: 0.688\n",
      "max_d: 25 - n_estimators:  50  =>  ROCAUC: 0.763 | F1: 0.683 (precision: 0.674 & recall: 0.700) | Accuracy: 0.700\n",
      "max_d: 25 - n_estimators:  60  =>  ROCAUC: 0.767 | F1: 0.693 (precision: 0.685 & recall: 0.709) | Accuracy: 0.709\n",
      "max_d: 25 - n_estimators:  70  =>  ROCAUC: 0.761 | F1: 0.686 (precision: 0.677 & recall: 0.703) | Accuracy: 0.703\n",
      "max_d: 25 - n_estimators:  80  =>  ROCAUC: 0.767 | F1: 0.682 (precision: 0.674 & recall: 0.700) | Accuracy: 0.700\n",
      "max_d: 25 - n_estimators:  90  =>  ROCAUC: 0.762 | F1: 0.678 (precision: 0.672 & recall: 0.697) | Accuracy: 0.697\n",
      "max_d: 25 - n_estimators: 100  =>  ROCAUC: 0.761 | F1: 0.672 (precision: 0.666 & recall: 0.691) | Accuracy: 0.691\n",
      "max_d: 25 - n_estimators: 110  =>  ROCAUC: 0.758 | F1: 0.669 (precision: 0.662 & recall: 0.688) | Accuracy: 0.688\n",
      "max_d: 25 - n_estimators: 120  =>  ROCAUC: 0.756 | F1: 0.672 (precision: 0.664 & recall: 0.691) | Accuracy: 0.691\n",
      "max_d: 25 - n_estimators: 130  =>  ROCAUC: 0.756 | F1: 0.669 (precision: 0.661 & recall: 0.688) | Accuracy: 0.688\n",
      "max_d: 25 - n_estimators: 140  =>  ROCAUC: 0.755 | F1: 0.672 (precision: 0.664 & recall: 0.691) | Accuracy: 0.691\n",
      "max_d: 25 - n_estimators: 150  =>  ROCAUC: 0.755 | F1: 0.672 (precision: 0.664 & recall: 0.691) | Accuracy: 0.691\n",
      "max_d: 25 - n_estimators: 160  =>  ROCAUC: 0.755 | F1: 0.676 (precision: 0.667 & recall: 0.694) | Accuracy: 0.694\n",
      "max_d: 25 - n_estimators: 170  =>  ROCAUC: 0.755 | F1: 0.677 (precision: 0.668 & recall: 0.694) | Accuracy: 0.694\n",
      "max_d: 25 - n_estimators: 180  =>  ROCAUC: 0.753 | F1: 0.670 (precision: 0.663 & recall: 0.688) | Accuracy: 0.688\n",
      "max_d: 25 - n_estimators: 190  =>  ROCAUC: 0.750 | F1: 0.673 (precision: 0.665 & recall: 0.691) | Accuracy: 0.691\n",
      "max_d: 25 - n_estimators: 200  =>  ROCAUC: 0.751 | F1: 0.661 (precision: 0.652 & recall: 0.678) | Accuracy: 0.678\n",
      "max_d: 25 - n_estimators: 210  =>  ROCAUC: 0.749 | F1: 0.655 (precision: 0.647 & recall: 0.672) | Accuracy: 0.672\n",
      "max_d: 25 - n_estimators: 220  =>  ROCAUC: 0.747 | F1: 0.664 (precision: 0.656 & recall: 0.681) | Accuracy: 0.681\n",
      "max_d: 25 - n_estimators: 230  =>  ROCAUC: 0.748 | F1: 0.664 (precision: 0.656 & recall: 0.681) | Accuracy: 0.681\n",
      "max_d: 25 - n_estimators: 240  =>  ROCAUC: 0.749 | F1: 0.664 (precision: 0.656 & recall: 0.681) | Accuracy: 0.681\n",
      "max_d: 25 - n_estimators: 250  =>  ROCAUC: 0.750 | F1: 0.674 (precision: 0.665 & recall: 0.691) | Accuracy: 0.691\n",
      "max_d: 25 - n_estimators: 260  =>  ROCAUC: 0.749 | F1: 0.673 (precision: 0.664 & recall: 0.691) | Accuracy: 0.691\n",
      "max_d: 25 - n_estimators: 270  =>  ROCAUC: 0.749 | F1: 0.667 (precision: 0.657 & recall: 0.684) | Accuracy: 0.684\n",
      "max_d: 25 - n_estimators: 280  =>  ROCAUC: 0.750 | F1: 0.669 (precision: 0.660 & recall: 0.688) | Accuracy: 0.688\n",
      "max_d: 25 - n_estimators: 290  =>  ROCAUC: 0.816 | F1: 0.666 (precision: 0.656 & recall: 0.684) | Accuracy: 0.684\n",
      "max_d: 25 - n_estimators: 300  =>  ROCAUC: 0.818 | F1: 0.669 (precision: 0.660 & recall: 0.688) | Accuracy: 0.688\n",
      "max_d: 25 - n_estimators: 310  =>  ROCAUC: 0.816 | F1: 0.673 (precision: 0.663 & recall: 0.691) | Accuracy: 0.691\n",
      "max_d: 25 - n_estimators: 320  =>  ROCAUC: 0.816 | F1: 0.673 (precision: 0.664 & recall: 0.691) | Accuracy: 0.691\n",
      "max_d: 25 - n_estimators: 330  =>  ROCAUC: 0.815 | F1: 0.673 (precision: 0.665 & recall: 0.691) | Accuracy: 0.691\n",
      "max_d: 25 - n_estimators: 340  =>  ROCAUC: 0.817 | F1: 0.676 (precision: 0.668 & recall: 0.694) | Accuracy: 0.694\n",
      "max_d: 25 - n_estimators: 350  =>  ROCAUC: 0.816 | F1: 0.676 (precision: 0.668 & recall: 0.694) | Accuracy: 0.694\n",
      "max_d: 25 - n_estimators: 360  =>  ROCAUC: 0.816 | F1: 0.676 (precision: 0.668 & recall: 0.694) | Accuracy: 0.694\n",
      "max_d: 25 - n_estimators: 370  =>  ROCAUC: 0.815 | F1: 0.673 (precision: 0.665 & recall: 0.691) | Accuracy: 0.691\n",
      "max_d: 25 - n_estimators: 380  =>  ROCAUC: 0.831 | F1: 0.676 (precision: 0.667 & recall: 0.694) | Accuracy: 0.694\n",
      "max_d: 25 - n_estimators: 390  =>  ROCAUC: 0.841 | F1: 0.670 (precision: 0.661 & recall: 0.688) | Accuracy: 0.688\n",
      "max_d: 25 - n_estimators: 400  =>  ROCAUC: 0.841 | F1: 0.673 (precision: 0.665 & recall: 0.691) | Accuracy: 0.691\n",
      "max_d: 25 - n_estimators: 410  =>  ROCAUC: 0.840 | F1: 0.673 (precision: 0.665 & recall: 0.691) | Accuracy: 0.691\n",
      "max_d: 25 - n_estimators: 420  =>  ROCAUC: 0.838 | F1: 0.670 (precision: 0.662 & recall: 0.688) | Accuracy: 0.688\n",
      "max_d: 25 - n_estimators: 430  =>  ROCAUC: 0.838 | F1: 0.677 (precision: 0.669 & recall: 0.694) | Accuracy: 0.694\n",
      "max_d: 25 - n_estimators: 440  =>  ROCAUC: 0.837 | F1: 0.667 (precision: 0.659 & recall: 0.684) | Accuracy: 0.684\n",
      "max_d: 25 - n_estimators: 450  =>  ROCAUC: 0.838 | F1: 0.673 (precision: 0.665 & recall: 0.691) | Accuracy: 0.691\n",
      "max_d: 25 - n_estimators: 460  =>  ROCAUC: 0.838 | F1: 0.667 (precision: 0.659 & recall: 0.684) | Accuracy: 0.684\n",
      "max_d: 25 - n_estimators: 470  =>  ROCAUC: 0.838 | F1: 0.670 (precision: 0.662 & recall: 0.688) | Accuracy: 0.688\n",
      "max_d: 25 - n_estimators: 480  =>  ROCAUC: 0.837 | F1: 0.670 (precision: 0.661 & recall: 0.688) | Accuracy: 0.688\n",
      "max_d: 25 - n_estimators: 490  =>  ROCAUC: 0.837 | F1: 0.670 (precision: 0.661 & recall: 0.688) | Accuracy: 0.688\n",
      "max_d: 25 - n_estimators: 500  =>  ROCAUC: 0.842 | F1: 0.675 (precision: 0.667 & recall: 0.694) | Accuracy: 0.694\n",
      "max_d: 25 - n_estimators: 510  =>  ROCAUC: 0.842 | F1: 0.678 (precision: 0.671 & recall: 0.697) | Accuracy: 0.697\n",
      "max_d: 25 - n_estimators: 520  =>  ROCAUC: 0.842 | F1: 0.675 (precision: 0.667 & recall: 0.694) | Accuracy: 0.694\n",
      "max_d: 25 - n_estimators: 530  =>  ROCAUC: 0.841 | F1: 0.669 (precision: 0.660 & recall: 0.688) | Accuracy: 0.688\n",
      "max_d: 25 - n_estimators: 540  =>  ROCAUC: 0.841 | F1: 0.672 (precision: 0.664 & recall: 0.691) | Accuracy: 0.691\n",
      "max_d: 25 - n_estimators: 550  =>  ROCAUC: 0.841 | F1: 0.672 (precision: 0.664 & recall: 0.691) | Accuracy: 0.691\n",
      "max_d: 25 - n_estimators: 560  =>  ROCAUC: 0.841 | F1: 0.672 (precision: 0.664 & recall: 0.691) | Accuracy: 0.691\n",
      "max_d: 25 - n_estimators: 570  =>  ROCAUC: 0.841 | F1: 0.672 (precision: 0.664 & recall: 0.691) | Accuracy: 0.691\n",
      "max_d: 25 - n_estimators: 580  =>  ROCAUC: 0.841 | F1: 0.672 (precision: 0.664 & recall: 0.691) | Accuracy: 0.691\n",
      "max_d: 25 - n_estimators: 590  =>  ROCAUC: 0.841 | F1: 0.672 (precision: 0.664 & recall: 0.691) | Accuracy: 0.691\n",
      "max_d: 25 - n_estimators: 600  =>  ROCAUC: 0.840 | F1: 0.669 (precision: 0.660 & recall: 0.688) | Accuracy: 0.688\n"
     ]
    }
   ],
   "source": [
    "scores = {'rocauc':{}, 'f1':{}}\n",
    "\n",
    "for max_d in notebook.tqdm([10,15,20,25]):\n",
    "    \n",
    "    scores['rocauc'][max_d] = {}\n",
    "    scores['f1'][max_d] = {}\n",
    "    \n",
    "    for ne in notebook.tqdm(np.linspace(10,600,60)):\n",
    "        \n",
    "        rforest_model = RandomForestClassifier(n_estimators=int(ne), random_state=1, n_jobs=-1, max_depth=max_d)\n",
    "        rforest_model.fit(X_train, y_train)\n",
    "        y_pred = rforest_model.predict(X_valid)\n",
    "        y_pred_proba = rforest_model.predict_proba(X_valid)\n",
    "\n",
    "        tqdm.write(f\"max_d:{max_d:3} - n_estimators:{int(ne):4}  =>  \", end=\"\")\n",
    "        rocauc, f1 = evaluate_classification(y_valid, y_pred, y_pred_proba)\n",
    "        scores['rocauc'][max_d][int(ne)] = rocauc\n",
    "        scores['f1'][max_d][int(ne)] = f1"
   ]
  },
  {
   "cell_type": "code",
   "execution_count": 121,
   "metadata": {},
   "outputs": [
    {
     "data": {
      "image/png": "[encoded data removed]",
      "text/plain": [
       "<Figure size 1080x360 with 2 Axes>"
      ]
     },
     "metadata": {
      "needs_background": "light"
     },
     "output_type": "display_data"
    }
   ],
   "source": [
    "fig = plt.figure(figsize=[15,5])\n",
    "\n",
    "plt.subplot(1,2,1)\n",
    "for k,v in scores['rocauc'].items():\n",
    "    plt.plot(v.keys(), v.values(), label=f\"Max depth: {k}\")\n",
    "    \n",
    "plt.xlabel(\"Estimators\")\n",
    "plt.ylabel(\"ROCAUC\")\n",
    "plt.title(\"ROCAUC / estimators\")\n",
    "plt.legend()\n",
    "\n",
    "plt.subplot(1,2,2)\n",
    "for k,v in scores['f1'].items():\n",
    "    plt.plot(v.keys(), v.values(), label=f\"Max depth: {k}\")\n",
    "    \n",
    "plt.xlabel(\"Estimators\")\n",
    "plt.ylabel(\"F1\")\n",
    "plt.title(\"F1 / estimators\")\n",
    "plt.legend()\n",
    "\n",
    "\n",
    "plt.show()"
   ]
  },
  {
   "cell_type": "code",
   "execution_count": 122,
   "metadata": {},
   "outputs": [
    {
     "name": "stdout",
     "output_type": "stream",
     "text": [
      "max_depth: 10 - n_estimators:570  =>  max ROCAUC:0.8261925219101518\n",
      "max_depth: 15 - n_estimators:390  =>  max ROCAUC:0.8409477752290829\n",
      "max_depth: 20 - n_estimators:500  =>  max ROCAUC:0.8426152469905585\n",
      "max_depth: 25 - n_estimators:510  =>  max ROCAUC:0.8420490742702476\n"
     ]
    }
   ],
   "source": [
    "for i, v in scores['rocauc'].items():\n",
    "    print(f\"max_depth:{i:3} - \", end=\"\")\n",
    "    z1 = pd.Series([w for j,w in v.items()])\n",
    "    z2 = pd.Series([j for j,w in v.items()])\n",
    "    print(f\"n_estimators:{z2[z1.idxmax()]}  =>  max ROCAUC:{z1.max()}\")"
   ]
  },
  {
   "cell_type": "markdown",
   "metadata": {},
   "source": [
    "### **----- FINAL RESULT -----**\n",
    "\n",
    "> The best `ROC AUC score` for a **Random Forest** appears to be around `0.843` with `n_estimarors=500` and `max_depth=20`\n",
    ">\n",
    "> That is interesting, be let see if we can do better with another method.\n",
    "---"
   ]
  },
  {
   "cell_type": "markdown",
   "metadata": {},
   "source": [
    "## XGboost (regression) <a class=\"anchor\" id=\"P04_xgboost\"></a>"
   ]
  },
  {
   "cell_type": "code",
   "execution_count": 123,
   "metadata": {},
   "outputs": [],
   "source": [
    "import xgboost as xgb"
   ]
  },
  {
   "cell_type": "markdown",
   "metadata": {},
   "source": [
    "### Progress Bar"
   ]
  },
  {
   "cell_type": "code",
   "execution_count": 124,
   "metadata": {},
   "outputs": [],
   "source": [
    "class xgb_progress(xgb.callback.TrainingCallback):\n",
    "    \"\"\" Custom class used to create tqdm callbacks with XGBoost\n",
    "        example: xgb_progressbar = xgb_progress(num_rounds)\n",
    "                 xgb.train( ... , callbacks=[xgb_progressbar])\n",
    "    \"\"\"\n",
    "    \n",
    "    def __init__(self, rounds):\n",
    "        self.rounds = rounds\n",
    "        self.pbar = notebook.tqdm(total=rounds)\n",
    "        \n",
    "    def after_iteration(self, model, epoch, evals_log):\n",
    "        self.pbar.update(1)"
   ]
  },
  {
   "cell_type": "markdown",
   "metadata": {},
   "source": [
    "### Create DMatrix for train and validation"
   ]
  },
  {
   "cell_type": "code",
   "execution_count": 125,
   "metadata": {},
   "outputs": [],
   "source": [
    "features = dt_full.columns\n",
    "df_train_xgb = xgb.DMatrix(X_train, label=y_train, feature_names=features)\n",
    "df_valid_xgb = xgb.DMatrix(X_valid, label=y_valid, feature_names=features)"
   ]
  },
  {
   "cell_type": "markdown",
   "metadata": {},
   "source": [
    "### Create a watchlist"
   ]
  },
  {
   "cell_type": "raw",
   "metadata": {},
   "source": [
    "def rocauc_multi(predt: np.ndarray, dtrain: xgb.DMatrix):\n",
    "    '''ROCAUC multi objective.'''\n",
    "    y = dtrain.get_label()\n",
    "    \n",
    "    print(predt.shape)\n",
    "    \n",
    "    preds = np.zeros(predt.shape[1]-3)\n",
    "    for row in predt:\n",
    "        rowx = row[3:]\n",
    "        predx = rowx/rowx.sum(axis=0)*1\n",
    "        preds = np.vstack([preds, predx])\n",
    "\n",
    "    #print(predt[1], predt.shape)\n",
    "    print(preds[-predt.shape[0]:][1], preds[-predt.shape[0]:].shape, preds[1].sum())\n",
    "    \n",
    "    return 'rocauc', roc_auc_score(y, preds[-predt.shape[0]:], multi_class='ovr')"
   ]
  },
  {
   "cell_type": "code",
   "execution_count": 130,
   "metadata": {},
   "outputs": [],
   "source": [
    "watchlist = [(df_train_xgb, 'train'), (df_valid_xgb, 'val')]"
   ]
  },
  {
   "cell_type": "markdown",
   "metadata": {},
   "source": [
    "### Train a basic model"
   ]
  },
  {
   "cell_type": "code",
   "execution_count": 131,
   "metadata": {},
   "outputs": [],
   "source": [
    "xgb_params = {\n",
    "    'eta': 0.3, \n",
    "    'max_depth': 6,\n",
    "    'min_child_weight': 1,\n",
    "    \n",
    "    #'objective': 'reg:squarederror', # <-- for regression \n",
    "    #'objective': 'binary:logistic', # <-- for binary classification\n",
    "    'objective': 'multi:softmax', # <-- for multiclass classification\n",
    "    'num_class': max(y_pred)+1, \n",
    "    #'eval_metric': 'auc',           # <-- for binary classification, default according to objective\n",
    "    'nthread': None,\n",
    "    #'disable_default_eval_metric': 1,\n",
    "    \n",
    "    'seed': 1,\n",
    "    'verbosity': 1,\n",
    "}\n",
    "\n",
    "num_rounds = 100\n",
    "early_stop = 10"
   ]
  },
  {
   "cell_type": "markdown",
   "metadata": {},
   "source": [
    "> The **ROCAUC isn't avaible in XGBoost** for multiclass classification...\n",
    "> \n",
    "> So wi will use the default log-loss and then we will compute the ROCAUC on the predictions"
   ]
  },
  {
   "cell_type": "code",
   "execution_count": 132,
   "metadata": {},
   "outputs": [
    {
     "data": {
      "application/vnd.jupyter.widget-view+json": {
       "model_id": "0859f1a2f9294a1a98304a9f04187b8a",
       "version_major": 2,
       "version_minor": 0
      },
      "text/plain": [
       "  0%|          | 0/100 [00:00<?, ?it/s]"
      ]
     },
     "metadata": {},
     "output_type": "display_data"
    },
    {
     "name": "stdout",
     "output_type": "stream",
     "text": [
      "[22:54:43] WARNING: ../src/learner.cc:1115: Starting in XGBoost 1.3.0, the default evaluation metric used with the objective 'multi:softmax' was changed from 'merror' to 'mlogloss'. Explicitly set eval_metric if you'd like to restore the old behavior.\n",
      "[0]\ttrain-mlogloss:1.59490\tval-mlogloss:1.71251\n",
      "[1]\ttrain-mlogloss:1.30491\tval-mlogloss:1.49134\n",
      "[2]\ttrain-mlogloss:1.10892\tval-mlogloss:1.34520\n",
      "[3]\ttrain-mlogloss:0.96061\tval-mlogloss:1.23988\n",
      "[4]\ttrain-mlogloss:0.85196\tval-mlogloss:1.16858\n",
      "[5]\ttrain-mlogloss:0.77346\tval-mlogloss:1.11829\n",
      "[6]\ttrain-mlogloss:0.70201\tval-mlogloss:1.07989\n",
      "[7]\ttrain-mlogloss:0.64762\tval-mlogloss:1.05252\n",
      "[8]\ttrain-mlogloss:0.59305\tval-mlogloss:1.02871\n",
      "[9]\ttrain-mlogloss:0.55440\tval-mlogloss:1.01285\n",
      "[10]\ttrain-mlogloss:0.51578\tval-mlogloss:1.00000\n",
      "[11]\ttrain-mlogloss:0.48536\tval-mlogloss:0.99105\n",
      "[12]\ttrain-mlogloss:0.46179\tval-mlogloss:0.98297\n",
      "[13]\ttrain-mlogloss:0.44193\tval-mlogloss:0.97954\n",
      "[14]\ttrain-mlogloss:0.41465\tval-mlogloss:0.97164\n",
      "[15]\ttrain-mlogloss:0.39824\tval-mlogloss:0.96476\n",
      "[16]\ttrain-mlogloss:0.38472\tval-mlogloss:0.96545\n",
      "[17]\ttrain-mlogloss:0.36384\tval-mlogloss:0.97226\n",
      "[18]\ttrain-mlogloss:0.35171\tval-mlogloss:0.97056\n",
      "[19]\ttrain-mlogloss:0.34072\tval-mlogloss:0.96963\n",
      "[20]\ttrain-mlogloss:0.32936\tval-mlogloss:0.97093\n",
      "[21]\ttrain-mlogloss:0.32015\tval-mlogloss:0.97360\n",
      "[22]\ttrain-mlogloss:0.30514\tval-mlogloss:0.97788\n",
      "[23]\ttrain-mlogloss:0.29841\tval-mlogloss:0.98208\n",
      "[24]\ttrain-mlogloss:0.29175\tval-mlogloss:0.98409\n"
     ]
    }
   ],
   "source": [
    "xgb_progressbar = xgb_progress(num_rounds)\n",
    "\n",
    "progress = dict()\n",
    "\n",
    "xgb_model = xgb.train(\n",
    "                        xgb_params, \n",
    "                        df_train_xgb, \n",
    "                        # feval=rocauc_multi,\n",
    "                        num_boost_round=num_rounds, \n",
    "                        early_stopping_rounds=early_stop,\n",
    "                        verbose_eval=1, \n",
    "                        evals=watchlist,\n",
    "                        callbacks=[xgb_progressbar],\n",
    "                        evals_result=progress,\n",
    "                        )"
   ]
  },
  {
   "cell_type": "code",
   "execution_count": 133,
   "metadata": {},
   "outputs": [
    {
     "data": {
      "text/plain": [
       "15"
      ]
     },
     "execution_count": 133,
     "metadata": {},
     "output_type": "execute_result"
    }
   ],
   "source": [
    "xgb_model.best_ntree_limit-1"
   ]
  },
  {
   "cell_type": "code",
   "execution_count": 135,
   "metadata": {},
   "outputs": [
    {
     "data": {
      "text/plain": [
       "[0.32015, 0.305137, 0.298411, 0.291747, 0.280725]"
      ]
     },
     "execution_count": 135,
     "metadata": {},
     "output_type": "execute_result"
    }
   ],
   "source": [
    "progress['train']['mlogloss'][-5:]"
   ]
  },
  {
   "cell_type": "code",
   "execution_count": 136,
   "metadata": {},
   "outputs": [
    {
     "data": {
      "text/plain": [
       "<matplotlib.legend.Legend at 0x7f70fb9a7070>"
      ]
     },
     "execution_count": 136,
     "metadata": {},
     "output_type": "execute_result"
    },
    {
     "data": {
      "image/png": "[encoded data removed]",
      "text/plain": [
       "<Figure size 432x288 with 1 Axes>"
      ]
     },
     "metadata": {
      "needs_background": "light"
     },
     "output_type": "display_data"
    }
   ],
   "source": [
    "plt.plot(progress['train']['mlogloss'], label='train')\n",
    "plt.plot(progress['val']['mlogloss'], label='valid')\n",
    "\n",
    "plt.xlabel(\"Round\")\n",
    "plt.ylabel(\"Log-Loss\")\n",
    "plt.legend()"
   ]
  },
  {
   "cell_type": "markdown",
   "metadata": {},
   "source": [
    "### Search best `eta`  <a class=\"anchor\" id=\"P04_xgboost_eta\"></a>"
   ]
  },
  {
   "cell_type": "code",
   "execution_count": 137,
   "metadata": {},
   "outputs": [
    {
     "data": {
      "application/vnd.jupyter.widget-view+json": {
       "model_id": "0fd5b4e8f5654870a8855b8190bda9c6",
       "version_major": 2,
       "version_minor": 0
      },
      "text/plain": [
       "  0%|          | 0/300 [00:00<?, ?it/s]"
      ]
     },
     "metadata": {},
     "output_type": "display_data"
    },
    {
     "name": "stdout",
     "output_type": "stream",
     "text": [
      "[22:55:04] WARNING: ../src/learner.cc:1115: Starting in XGBoost 1.3.0, the default evaluation metric used with the objective 'multi:softmax' was changed from 'merror' to 'mlogloss'. Explicitly set eval_metric if you'd like to restore the old behavior.\n",
      "[0]\ttrain-mlogloss:2.17514\tval-mlogloss:2.17915\n",
      "[1]\ttrain-mlogloss:2.15366\tval-mlogloss:2.16186\n",
      "[2]\ttrain-mlogloss:2.13263\tval-mlogloss:2.14512\n",
      "[3]\ttrain-mlogloss:2.11225\tval-mlogloss:2.12850\n",
      "[4]\ttrain-mlogloss:2.09230\tval-mlogloss:2.11235\n",
      "[5]\ttrain-mlogloss:2.07286\tval-mlogloss:2.09664\n",
      "[6]\ttrain-mlogloss:2.05401\tval-mlogloss:2.08132\n",
      "[7]\ttrain-mlogloss:2.03581\tval-mlogloss:2.06618\n",
      "[8]\ttrain-mlogloss:2.01781\tval-mlogloss:2.05155\n",
      "[9]\ttrain-mlogloss:2.00030\tval-mlogloss:2.03712\n",
      "[10]\ttrain-mlogloss:1.98311\tval-mlogloss:2.02284\n",
      "[11]\ttrain-mlogloss:1.96631\tval-mlogloss:2.00927\n",
      "[12]\ttrain-mlogloss:1.94976\tval-mlogloss:1.99584\n",
      "[13]\ttrain-mlogloss:1.93354\tval-mlogloss:1.98268\n",
      "[14]\ttrain-mlogloss:1.91776\tval-mlogloss:1.96960\n",
      "[15]\ttrain-mlogloss:1.90210\tval-mlogloss:1.95699\n",
      "[16]\ttrain-mlogloss:1.88678\tval-mlogloss:1.94425\n",
      "[17]\ttrain-mlogloss:1.87194\tval-mlogloss:1.93191\n",
      "[18]\ttrain-mlogloss:1.85733\tval-mlogloss:1.92020\n",
      "[19]\ttrain-mlogloss:1.84298\tval-mlogloss:1.90824\n",
      "[20]\ttrain-mlogloss:1.82892\tval-mlogloss:1.89691\n",
      "[21]\ttrain-mlogloss:1.81430\tval-mlogloss:1.88544\n",
      "[22]\ttrain-mlogloss:1.80056\tval-mlogloss:1.87420\n",
      "[23]\ttrain-mlogloss:1.78707\tval-mlogloss:1.86340\n",
      "[24]\ttrain-mlogloss:1.77376\tval-mlogloss:1.85273\n",
      "[25]\ttrain-mlogloss:1.76013\tval-mlogloss:1.84221\n",
      "[26]\ttrain-mlogloss:1.74704\tval-mlogloss:1.83166\n",
      "[27]\ttrain-mlogloss:1.73444\tval-mlogloss:1.82153\n",
      "[28]\ttrain-mlogloss:1.72189\tval-mlogloss:1.81148\n",
      "[29]\ttrain-mlogloss:1.70970\tval-mlogloss:1.80158\n",
      "[30]\ttrain-mlogloss:1.69732\tval-mlogloss:1.79218\n",
      "[31]\ttrain-mlogloss:1.68523\tval-mlogloss:1.78280\n",
      "[32]\ttrain-mlogloss:1.67324\tval-mlogloss:1.77346\n",
      "[33]\ttrain-mlogloss:1.66177\tval-mlogloss:1.76428\n",
      "[34]\ttrain-mlogloss:1.65032\tval-mlogloss:1.75540\n",
      "[35]\ttrain-mlogloss:1.63910\tval-mlogloss:1.74651\n",
      "[36]\ttrain-mlogloss:1.62798\tval-mlogloss:1.73792\n",
      "[37]\ttrain-mlogloss:1.61722\tval-mlogloss:1.72928\n",
      "[38]\ttrain-mlogloss:1.60619\tval-mlogloss:1.72097\n",
      "[39]\ttrain-mlogloss:1.59560\tval-mlogloss:1.71249\n",
      "[40]\ttrain-mlogloss:1.58513\tval-mlogloss:1.70414\n",
      "[41]\ttrain-mlogloss:1.57484\tval-mlogloss:1.69603\n",
      "[42]\ttrain-mlogloss:1.56489\tval-mlogloss:1.68809\n",
      "[43]\ttrain-mlogloss:1.55479\tval-mlogloss:1.68016\n",
      "[44]\ttrain-mlogloss:1.54488\tval-mlogloss:1.67255\n",
      "[45]\ttrain-mlogloss:1.53529\tval-mlogloss:1.66507\n",
      "[46]\ttrain-mlogloss:1.52564\tval-mlogloss:1.65740\n",
      "[47]\ttrain-mlogloss:1.51607\tval-mlogloss:1.64995\n",
      "[48]\ttrain-mlogloss:1.50677\tval-mlogloss:1.64288\n",
      "[49]\ttrain-mlogloss:1.49751\tval-mlogloss:1.63559\n",
      "[50]\ttrain-mlogloss:1.48840\tval-mlogloss:1.62846\n",
      "[51]\ttrain-mlogloss:1.47940\tval-mlogloss:1.62130\n",
      "[52]\ttrain-mlogloss:1.47063\tval-mlogloss:1.61456\n",
      "[53]\ttrain-mlogloss:1.46180\tval-mlogloss:1.60768\n",
      "[54]\ttrain-mlogloss:1.45294\tval-mlogloss:1.60071\n",
      "[55]\ttrain-mlogloss:1.44433\tval-mlogloss:1.59418\n",
      "[56]\ttrain-mlogloss:1.43557\tval-mlogloss:1.58743\n",
      "[57]\ttrain-mlogloss:1.42675\tval-mlogloss:1.58109\n",
      "[58]\ttrain-mlogloss:1.41833\tval-mlogloss:1.57452\n",
      "[59]\ttrain-mlogloss:1.40990\tval-mlogloss:1.56798\n",
      "[60]\ttrain-mlogloss:1.40159\tval-mlogloss:1.56167\n",
      "[61]\ttrain-mlogloss:1.39321\tval-mlogloss:1.55566\n",
      "[62]\ttrain-mlogloss:1.38507\tval-mlogloss:1.54932\n",
      "[63]\ttrain-mlogloss:1.37713\tval-mlogloss:1.54325\n",
      "[64]\ttrain-mlogloss:1.36914\tval-mlogloss:1.53712\n",
      "[65]\ttrain-mlogloss:1.36131\tval-mlogloss:1.53102\n",
      "[66]\ttrain-mlogloss:1.35341\tval-mlogloss:1.52510\n",
      "[67]\ttrain-mlogloss:1.34582\tval-mlogloss:1.51941\n",
      "[68]\ttrain-mlogloss:1.33817\tval-mlogloss:1.51377\n",
      "[69]\ttrain-mlogloss:1.33054\tval-mlogloss:1.50792\n",
      "[70]\ttrain-mlogloss:1.32324\tval-mlogloss:1.50206\n",
      "[71]\ttrain-mlogloss:1.31601\tval-mlogloss:1.49641\n",
      "[72]\ttrain-mlogloss:1.30865\tval-mlogloss:1.49082\n",
      "[73]\ttrain-mlogloss:1.30154\tval-mlogloss:1.48523\n",
      "[74]\ttrain-mlogloss:1.29452\tval-mlogloss:1.47984\n",
      "[75]\ttrain-mlogloss:1.28748\tval-mlogloss:1.47441\n",
      "[76]\ttrain-mlogloss:1.28055\tval-mlogloss:1.46914\n",
      "[77]\ttrain-mlogloss:1.27370\tval-mlogloss:1.46396\n",
      "[78]\ttrain-mlogloss:1.26688\tval-mlogloss:1.45871\n",
      "[79]\ttrain-mlogloss:1.26025\tval-mlogloss:1.45348\n",
      "[80]\ttrain-mlogloss:1.25352\tval-mlogloss:1.44841\n",
      "[81]\ttrain-mlogloss:1.24702\tval-mlogloss:1.44339\n",
      "[82]\ttrain-mlogloss:1.24053\tval-mlogloss:1.43872\n",
      "[83]\ttrain-mlogloss:1.23409\tval-mlogloss:1.43395\n",
      "[84]\ttrain-mlogloss:1.22773\tval-mlogloss:1.42932\n",
      "[85]\ttrain-mlogloss:1.22141\tval-mlogloss:1.42452\n",
      "[86]\ttrain-mlogloss:1.21528\tval-mlogloss:1.41989\n",
      "[87]\ttrain-mlogloss:1.20913\tval-mlogloss:1.41548\n",
      "[88]\ttrain-mlogloss:1.20299\tval-mlogloss:1.41098\n",
      "[89]\ttrain-mlogloss:1.19702\tval-mlogloss:1.40657\n",
      "[90]\ttrain-mlogloss:1.19094\tval-mlogloss:1.40249\n",
      "[91]\ttrain-mlogloss:1.18501\tval-mlogloss:1.39824\n",
      "[92]\ttrain-mlogloss:1.17914\tval-mlogloss:1.39416\n",
      "[93]\ttrain-mlogloss:1.17337\tval-mlogloss:1.39004\n",
      "[94]\ttrain-mlogloss:1.16769\tval-mlogloss:1.38585\n",
      "[95]\ttrain-mlogloss:1.16182\tval-mlogloss:1.38207\n",
      "[96]\ttrain-mlogloss:1.15618\tval-mlogloss:1.37807\n",
      "[97]\ttrain-mlogloss:1.15076\tval-mlogloss:1.37391\n",
      "[98]\ttrain-mlogloss:1.14527\tval-mlogloss:1.37014\n",
      "[99]\ttrain-mlogloss:1.13976\tval-mlogloss:1.36609\n",
      "\n",
      "eta:0.01 best_ntree_limit:99\n",
      "\n",
      "[22:55:10] WARNING: ../src/learner.cc:1115: Starting in XGBoost 1.3.0, the default evaluation metric used with the objective 'multi:softmax' was changed from 'merror' to 'mlogloss'. Explicitly set eval_metric if you'd like to restore the old behavior.\n",
      "[0]\ttrain-mlogloss:1.98179\tval-mlogloss:2.02164\n",
      "[1]\ttrain-mlogloss:1.81744\tval-mlogloss:1.88702\n",
      "[2]\ttrain-mlogloss:1.67947\tval-mlogloss:1.77899\n",
      "[3]\ttrain-mlogloss:1.56589\tval-mlogloss:1.68830\n",
      "[4]\ttrain-mlogloss:1.46610\tval-mlogloss:1.61047\n",
      "[5]\ttrain-mlogloss:1.37972\tval-mlogloss:1.54021\n",
      "[6]\ttrain-mlogloss:1.29992\tval-mlogloss:1.47927\n",
      "[7]\ttrain-mlogloss:1.22973\tval-mlogloss:1.42764\n",
      "[8]\ttrain-mlogloss:1.16642\tval-mlogloss:1.38122\n",
      "[9]\ttrain-mlogloss:1.10942\tval-mlogloss:1.33955\n",
      "[10]\ttrain-mlogloss:1.05881\tval-mlogloss:1.30396\n",
      "[11]\ttrain-mlogloss:1.01387\tval-mlogloss:1.27092\n",
      "[12]\ttrain-mlogloss:0.97077\tval-mlogloss:1.24045\n",
      "[13]\ttrain-mlogloss:0.93023\tval-mlogloss:1.21289\n",
      "[14]\ttrain-mlogloss:0.89546\tval-mlogloss:1.18856\n",
      "[15]\ttrain-mlogloss:0.86441\tval-mlogloss:1.16750\n",
      "[16]\ttrain-mlogloss:0.83522\tval-mlogloss:1.14962\n",
      "[17]\ttrain-mlogloss:0.80774\tval-mlogloss:1.13362\n",
      "[18]\ttrain-mlogloss:0.78136\tval-mlogloss:1.11733\n",
      "[19]\ttrain-mlogloss:0.75742\tval-mlogloss:1.10133\n",
      "[20]\ttrain-mlogloss:0.73649\tval-mlogloss:1.08930\n",
      "[21]\ttrain-mlogloss:0.71402\tval-mlogloss:1.07515\n",
      "[22]\ttrain-mlogloss:0.69323\tval-mlogloss:1.06284\n",
      "[23]\ttrain-mlogloss:0.67325\tval-mlogloss:1.05261\n",
      "[24]\ttrain-mlogloss:0.65582\tval-mlogloss:1.04440\n",
      "[25]\ttrain-mlogloss:0.64067\tval-mlogloss:1.03603\n",
      "[26]\ttrain-mlogloss:0.62318\tval-mlogloss:1.02928\n",
      "[27]\ttrain-mlogloss:0.60925\tval-mlogloss:1.02377\n",
      "[28]\ttrain-mlogloss:0.59714\tval-mlogloss:1.01754\n",
      "[29]\ttrain-mlogloss:0.58379\tval-mlogloss:1.01221\n",
      "[30]\ttrain-mlogloss:0.57071\tval-mlogloss:1.00655\n",
      "[31]\ttrain-mlogloss:0.55790\tval-mlogloss:1.00042\n",
      "[32]\ttrain-mlogloss:0.54773\tval-mlogloss:0.99626\n",
      "[33]\ttrain-mlogloss:0.53847\tval-mlogloss:0.99174\n",
      "[34]\ttrain-mlogloss:0.52771\tval-mlogloss:0.98822\n",
      "[35]\ttrain-mlogloss:0.51835\tval-mlogloss:0.98405\n",
      "[36]\ttrain-mlogloss:0.50843\tval-mlogloss:0.98064\n",
      "[37]\ttrain-mlogloss:0.49976\tval-mlogloss:0.97878\n",
      "[38]\ttrain-mlogloss:0.49216\tval-mlogloss:0.97632\n",
      "[39]\ttrain-mlogloss:0.48081\tval-mlogloss:0.97412\n",
      "[40]\ttrain-mlogloss:0.47022\tval-mlogloss:0.97161\n",
      "[41]\ttrain-mlogloss:0.46081\tval-mlogloss:0.97013\n",
      "[42]\ttrain-mlogloss:0.45120\tval-mlogloss:0.96643\n",
      "[43]\ttrain-mlogloss:0.43978\tval-mlogloss:0.96512\n",
      "[44]\ttrain-mlogloss:0.43186\tval-mlogloss:0.96180\n",
      "[45]\ttrain-mlogloss:0.42455\tval-mlogloss:0.96075\n",
      "[46]\ttrain-mlogloss:0.41685\tval-mlogloss:0.95930\n",
      "[47]\ttrain-mlogloss:0.40960\tval-mlogloss:0.95876\n",
      "[48]\ttrain-mlogloss:0.40405\tval-mlogloss:0.95652\n",
      "[49]\ttrain-mlogloss:0.39694\tval-mlogloss:0.95349\n",
      "[50]\ttrain-mlogloss:0.39039\tval-mlogloss:0.95241\n",
      "[51]\ttrain-mlogloss:0.38368\tval-mlogloss:0.95090\n",
      "[52]\ttrain-mlogloss:0.37589\tval-mlogloss:0.95048\n",
      "[53]\ttrain-mlogloss:0.36933\tval-mlogloss:0.95067\n",
      "[54]\ttrain-mlogloss:0.36357\tval-mlogloss:0.95095\n",
      "[55]\ttrain-mlogloss:0.35790\tval-mlogloss:0.95115\n",
      "[56]\ttrain-mlogloss:0.35322\tval-mlogloss:0.95124\n"
     ]
    },
    {
     "name": "stdout",
     "output_type": "stream",
     "text": [
      "[57]\ttrain-mlogloss:0.34820\tval-mlogloss:0.94981\n",
      "[58]\ttrain-mlogloss:0.34359\tval-mlogloss:0.95021\n",
      "[59]\ttrain-mlogloss:0.33700\tval-mlogloss:0.95040\n",
      "[60]\ttrain-mlogloss:0.33256\tval-mlogloss:0.95107\n",
      "[61]\ttrain-mlogloss:0.32864\tval-mlogloss:0.95122\n",
      "[62]\ttrain-mlogloss:0.32485\tval-mlogloss:0.95036\n",
      "[63]\ttrain-mlogloss:0.31932\tval-mlogloss:0.95116\n",
      "[64]\ttrain-mlogloss:0.31610\tval-mlogloss:0.95136\n",
      "[65]\ttrain-mlogloss:0.31077\tval-mlogloss:0.95157\n",
      "[66]\ttrain-mlogloss:0.30776\tval-mlogloss:0.95226\n",
      "\n",
      "eta:0.1 best_ntree_limit:57\n",
      "\n",
      "[22:55:13] WARNING: ../src/learner.cc:1115: Starting in XGBoost 1.3.0, the default evaluation metric used with the objective 'multi:softmax' was changed from 'merror' to 'mlogloss'. Explicitly set eval_metric if you'd like to restore the old behavior.\n",
      "[0]\ttrain-mlogloss:1.59490\tval-mlogloss:1.71251\n",
      "[1]\ttrain-mlogloss:1.30491\tval-mlogloss:1.49134\n",
      "[2]\ttrain-mlogloss:1.10892\tval-mlogloss:1.34520\n",
      "[3]\ttrain-mlogloss:0.96061\tval-mlogloss:1.23988\n",
      "[4]\ttrain-mlogloss:0.85196\tval-mlogloss:1.16858\n",
      "[5]\ttrain-mlogloss:0.77346\tval-mlogloss:1.11829\n",
      "[6]\ttrain-mlogloss:0.70201\tval-mlogloss:1.07989\n",
      "[7]\ttrain-mlogloss:0.64762\tval-mlogloss:1.05252\n",
      "[8]\ttrain-mlogloss:0.59305\tval-mlogloss:1.02871\n",
      "[9]\ttrain-mlogloss:0.55440\tval-mlogloss:1.01285\n",
      "[10]\ttrain-mlogloss:0.51578\tval-mlogloss:1.00000\n",
      "[11]\ttrain-mlogloss:0.48536\tval-mlogloss:0.99105\n",
      "[12]\ttrain-mlogloss:0.46179\tval-mlogloss:0.98297\n",
      "[13]\ttrain-mlogloss:0.44193\tval-mlogloss:0.97954\n",
      "[14]\ttrain-mlogloss:0.41465\tval-mlogloss:0.97164\n",
      "[15]\ttrain-mlogloss:0.39824\tval-mlogloss:0.96476\n",
      "[16]\ttrain-mlogloss:0.38472\tval-mlogloss:0.96545\n",
      "[17]\ttrain-mlogloss:0.36384\tval-mlogloss:0.97226\n",
      "[18]\ttrain-mlogloss:0.35171\tval-mlogloss:0.97056\n",
      "[19]\ttrain-mlogloss:0.34072\tval-mlogloss:0.96963\n",
      "[20]\ttrain-mlogloss:0.32936\tval-mlogloss:0.97093\n",
      "[21]\ttrain-mlogloss:0.32015\tval-mlogloss:0.97360\n",
      "[22]\ttrain-mlogloss:0.30514\tval-mlogloss:0.97788\n",
      "[23]\ttrain-mlogloss:0.29841\tval-mlogloss:0.98208\n",
      "[24]\ttrain-mlogloss:0.29175\tval-mlogloss:0.98409\n",
      "\n",
      "eta:0.3 best_ntree_limit:15\n",
      "\n"
     ]
    }
   ],
   "source": [
    "xgb_progressbar = xgb_progress(num_rounds*3)\n",
    "\n",
    "scores = {}\n",
    "\n",
    "for eta_v in [0.01, 0.1, 0.3]:\n",
    "    \n",
    "    progress = dict()\n",
    "\n",
    "    xgb_params['eta'] = eta_v\n",
    "\n",
    "    xgb_model = xgb.train(\n",
    "        xgb_params, \n",
    "        df_train_xgb, \n",
    "        num_boost_round=num_rounds, \n",
    "        early_stopping_rounds=early_stop,\n",
    "        verbose_eval=1, \n",
    "        evals=watchlist,\n",
    "        callbacks=[xgb_progressbar],\n",
    "        evals_result=progress,\n",
    "    )\n",
    "    \n",
    "    print(f\"\\neta:{eta_v} best_ntree_limit:{xgb_model.best_ntree_limit-1}\\n\")\n",
    "    \n",
    "    scores[eta_v] = progress['val']['mlogloss']"
   ]
  },
  {
   "cell_type": "code",
   "execution_count": 138,
   "metadata": {},
   "outputs": [
    {
     "data": {
      "text/plain": [
       "<matplotlib.legend.Legend at 0x7f70fb96d880>"
      ]
     },
     "execution_count": 138,
     "metadata": {},
     "output_type": "execute_result"
    },
    {
     "data": {
      "image/png": "[encoded data removed]",
      "text/plain": [
       "<Figure size 432x288 with 1 Axes>"
      ]
     },
     "metadata": {
      "needs_background": "light"
     },
     "output_type": "display_data"
    }
   ],
   "source": [
    "for k,v in scores.items():\n",
    "    plt.plot(v, label=f\"ETA:{k}\")\n",
    "plt.xlabel(\"Round\")\n",
    "plt.ylabel(\"Log-Loss\")\n",
    "plt.legend()"
   ]
  },
  {
   "cell_type": "code",
   "execution_count": 139,
   "metadata": {},
   "outputs": [
    {
     "name": "stdout",
     "output_type": "stream",
     "text": [
      "eta: 0.01 - min LogLoss:1.36609\n",
      "eta:  0.1 - min LogLoss:0.949808\n",
      "eta:  0.3 - min LogLoss:0.96476\n"
     ]
    }
   ],
   "source": [
    "for k,v in scores.items():\n",
    "    print(f\"eta:{k:5} - min LogLoss:{min(v)}\")"
   ]
  },
  {
   "cell_type": "markdown",
   "metadata": {},
   "source": [
    "### **----- TMP RESULT -----**\n",
    "\n",
    "> The best `Log-Loss` for a **XBoost Classification** appears to be around `0.949` with an `eta=0.1`\n",
    "---"
   ]
  },
  {
   "cell_type": "markdown",
   "metadata": {},
   "source": [
    "### Search best `max_depth`  <a class=\"anchor\" id=\"P04_xgboost_max_depth\"></a>"
   ]
  },
  {
   "cell_type": "code",
   "execution_count": 140,
   "metadata": {},
   "outputs": [
    {
     "data": {
      "application/vnd.jupyter.widget-view+json": {
       "model_id": "f603cd0cdd644abb980d230b5817d581",
       "version_major": 2,
       "version_minor": 0
      },
      "text/plain": [
       "  0%|          | 0/1300 [00:00<?, ?it/s]"
      ]
     },
     "metadata": {},
     "output_type": "display_data"
    },
    {
     "name": "stdout",
     "output_type": "stream",
     "text": [
      "[22:55:42] WARNING: ../src/learner.cc:1115: Starting in XGBoost 1.3.0, the default evaluation metric used with the objective 'multi:softmax' was changed from 'merror' to 'mlogloss'. Explicitly set eval_metric if you'd like to restore the old behavior.\n",
      "[0]\ttrain-mlogloss:2.04383\tval-mlogloss:2.04303\n",
      "[1]\ttrain-mlogloss:1.92199\tval-mlogloss:1.91983\n",
      "[2]\ttrain-mlogloss:1.82131\tval-mlogloss:1.81968\n",
      "[3]\ttrain-mlogloss:1.73605\tval-mlogloss:1.73604\n",
      "[4]\ttrain-mlogloss:1.66266\tval-mlogloss:1.66450\n",
      "[5]\ttrain-mlogloss:1.59861\tval-mlogloss:1.60122\n",
      "[6]\ttrain-mlogloss:1.54200\tval-mlogloss:1.54697\n",
      "[7]\ttrain-mlogloss:1.49173\tval-mlogloss:1.49797\n",
      "[8]\ttrain-mlogloss:1.44658\tval-mlogloss:1.45419\n",
      "[9]\ttrain-mlogloss:1.40607\tval-mlogloss:1.41494\n",
      "[10]\ttrain-mlogloss:1.36934\tval-mlogloss:1.38071\n",
      "[11]\ttrain-mlogloss:1.33606\tval-mlogloss:1.34922\n",
      "[12]\ttrain-mlogloss:1.30577\tval-mlogloss:1.32061\n",
      "[13]\ttrain-mlogloss:1.27799\tval-mlogloss:1.29569\n",
      "[14]\ttrain-mlogloss:1.25254\tval-mlogloss:1.27151\n",
      "[15]\ttrain-mlogloss:1.22920\tval-mlogloss:1.24995\n",
      "[16]\ttrain-mlogloss:1.20771\tval-mlogloss:1.22967\n",
      "[17]\ttrain-mlogloss:1.18791\tval-mlogloss:1.21182\n",
      "[18]\ttrain-mlogloss:1.16958\tval-mlogloss:1.19660\n",
      "[19]\ttrain-mlogloss:1.15266\tval-mlogloss:1.18051\n",
      "[20]\ttrain-mlogloss:1.13693\tval-mlogloss:1.16650\n",
      "[21]\ttrain-mlogloss:1.12227\tval-mlogloss:1.15317\n",
      "[22]\ttrain-mlogloss:1.10869\tval-mlogloss:1.14167\n",
      "[23]\ttrain-mlogloss:1.09605\tval-mlogloss:1.13094\n",
      "[24]\ttrain-mlogloss:1.08423\tval-mlogloss:1.12096\n",
      "[25]\ttrain-mlogloss:1.07317\tval-mlogloss:1.11226\n",
      "[26]\ttrain-mlogloss:1.06279\tval-mlogloss:1.10401\n",
      "[27]\ttrain-mlogloss:1.05304\tval-mlogloss:1.09491\n",
      "[28]\ttrain-mlogloss:1.04391\tval-mlogloss:1.08808\n",
      "[29]\ttrain-mlogloss:1.03529\tval-mlogloss:1.07977\n",
      "[30]\ttrain-mlogloss:1.02717\tval-mlogloss:1.07328\n",
      "[31]\ttrain-mlogloss:1.01952\tval-mlogloss:1.06617\n",
      "[32]\ttrain-mlogloss:1.01229\tval-mlogloss:1.06106\n",
      "[33]\ttrain-mlogloss:1.00545\tval-mlogloss:1.05510\n",
      "[34]\ttrain-mlogloss:0.99899\tval-mlogloss:1.04996\n",
      "[35]\ttrain-mlogloss:0.99283\tval-mlogloss:1.04702\n",
      "[36]\ttrain-mlogloss:0.98699\tval-mlogloss:1.04272\n",
      "[37]\ttrain-mlogloss:0.98144\tval-mlogloss:1.03946\n",
      "[38]\ttrain-mlogloss:0.97613\tval-mlogloss:1.03574\n",
      "[39]\ttrain-mlogloss:0.97110\tval-mlogloss:1.03131\n",
      "[40]\ttrain-mlogloss:0.96631\tval-mlogloss:1.02778\n",
      "[41]\ttrain-mlogloss:0.96174\tval-mlogloss:1.02529\n",
      "[42]\ttrain-mlogloss:0.95736\tval-mlogloss:1.02269\n",
      "[43]\ttrain-mlogloss:0.95312\tval-mlogloss:1.01982\n",
      "[44]\ttrain-mlogloss:0.94909\tval-mlogloss:1.01913\n",
      "[45]\ttrain-mlogloss:0.94523\tval-mlogloss:1.01644\n",
      "[46]\ttrain-mlogloss:0.94152\tval-mlogloss:1.01372\n",
      "[47]\ttrain-mlogloss:0.93796\tval-mlogloss:1.01209\n",
      "[48]\ttrain-mlogloss:0.93454\tval-mlogloss:1.01066\n",
      "[49]\ttrain-mlogloss:0.93125\tval-mlogloss:1.00867\n",
      "[50]\ttrain-mlogloss:0.92807\tval-mlogloss:1.00692\n",
      "[51]\ttrain-mlogloss:0.92501\tval-mlogloss:1.00497\n",
      "[52]\ttrain-mlogloss:0.92208\tval-mlogloss:1.00329\n",
      "[53]\ttrain-mlogloss:0.91925\tval-mlogloss:1.00162\n",
      "[54]\ttrain-mlogloss:0.91651\tval-mlogloss:1.00081\n",
      "[55]\ttrain-mlogloss:0.91388\tval-mlogloss:0.99987\n",
      "[56]\ttrain-mlogloss:0.91132\tval-mlogloss:0.99898\n",
      "[57]\ttrain-mlogloss:0.90886\tval-mlogloss:0.99766\n",
      "[58]\ttrain-mlogloss:0.90647\tval-mlogloss:0.99634\n",
      "[59]\ttrain-mlogloss:0.90416\tval-mlogloss:0.99529\n",
      "[60]\ttrain-mlogloss:0.90192\tval-mlogloss:0.99396\n",
      "[61]\ttrain-mlogloss:0.89975\tval-mlogloss:0.99334\n",
      "[62]\ttrain-mlogloss:0.89764\tval-mlogloss:0.99221\n",
      "[63]\ttrain-mlogloss:0.89561\tval-mlogloss:0.99176\n",
      "[64]\ttrain-mlogloss:0.89363\tval-mlogloss:0.98997\n",
      "[65]\ttrain-mlogloss:0.89171\tval-mlogloss:0.98940\n",
      "[66]\ttrain-mlogloss:0.88982\tval-mlogloss:0.98843\n",
      "[67]\ttrain-mlogloss:0.88799\tval-mlogloss:0.98730\n",
      "[68]\ttrain-mlogloss:0.88621\tval-mlogloss:0.98753\n",
      "[69]\ttrain-mlogloss:0.88447\tval-mlogloss:0.98677\n",
      "[70]\ttrain-mlogloss:0.88276\tval-mlogloss:0.98630\n",
      "[71]\ttrain-mlogloss:0.88110\tval-mlogloss:0.98588\n",
      "[72]\ttrain-mlogloss:0.87948\tval-mlogloss:0.98480\n",
      "[73]\ttrain-mlogloss:0.87791\tval-mlogloss:0.98441\n",
      "[74]\ttrain-mlogloss:0.87637\tval-mlogloss:0.98386\n",
      "[75]\ttrain-mlogloss:0.87487\tval-mlogloss:0.98330\n",
      "[76]\ttrain-mlogloss:0.87339\tval-mlogloss:0.98285\n",
      "[77]\ttrain-mlogloss:0.87194\tval-mlogloss:0.98247\n",
      "[78]\ttrain-mlogloss:0.87052\tval-mlogloss:0.98194\n",
      "[79]\ttrain-mlogloss:0.86914\tval-mlogloss:0.98116\n",
      "[80]\ttrain-mlogloss:0.86778\tval-mlogloss:0.98102\n",
      "[81]\ttrain-mlogloss:0.86645\tval-mlogloss:0.98069\n",
      "[82]\ttrain-mlogloss:0.86515\tval-mlogloss:0.98033\n",
      "[83]\ttrain-mlogloss:0.86386\tval-mlogloss:0.98048\n",
      "[84]\ttrain-mlogloss:0.86261\tval-mlogloss:0.98025\n",
      "[85]\ttrain-mlogloss:0.86138\tval-mlogloss:0.98016\n",
      "[86]\ttrain-mlogloss:0.86018\tval-mlogloss:0.97965\n",
      "[87]\ttrain-mlogloss:0.85898\tval-mlogloss:0.97959\n",
      "[88]\ttrain-mlogloss:0.85781\tval-mlogloss:0.97920\n",
      "[89]\ttrain-mlogloss:0.85667\tval-mlogloss:0.97893\n",
      "[90]\ttrain-mlogloss:0.85555\tval-mlogloss:0.97911\n",
      "[91]\ttrain-mlogloss:0.85443\tval-mlogloss:0.97888\n",
      "[92]\ttrain-mlogloss:0.85335\tval-mlogloss:0.97826\n",
      "[93]\ttrain-mlogloss:0.85226\tval-mlogloss:0.97778\n",
      "[94]\ttrain-mlogloss:0.85120\tval-mlogloss:0.97873\n",
      "[95]\ttrain-mlogloss:0.85016\tval-mlogloss:0.97806\n",
      "[96]\ttrain-mlogloss:0.84914\tval-mlogloss:0.97771\n",
      "[97]\ttrain-mlogloss:0.84813\tval-mlogloss:0.97757\n",
      "[98]\ttrain-mlogloss:0.84714\tval-mlogloss:0.97764\n",
      "[99]\ttrain-mlogloss:0.84617\tval-mlogloss:0.97737\n",
      "\n",
      "max_depth:1 best_ntree_limit:99\n",
      "\n",
      "[22:55:46] WARNING: ../src/learner.cc:1115: Starting in XGBoost 1.3.0, the default evaluation metric used with the objective 'multi:softmax' was changed from 'merror' to 'mlogloss'. Explicitly set eval_metric if you'd like to restore the old behavior.\n",
      "[0]\ttrain-mlogloss:2.02697\tval-mlogloss:2.03609\n",
      "[1]\ttrain-mlogloss:1.89273\tval-mlogloss:1.90735\n",
      "[2]\ttrain-mlogloss:1.78269\tval-mlogloss:1.80204\n",
      "[3]\ttrain-mlogloss:1.69038\tval-mlogloss:1.71650\n",
      "[4]\ttrain-mlogloss:1.61073\tval-mlogloss:1.64053\n",
      "[5]\ttrain-mlogloss:1.54206\tval-mlogloss:1.57570\n",
      "[6]\ttrain-mlogloss:1.48056\tval-mlogloss:1.51768\n",
      "[7]\ttrain-mlogloss:1.42666\tval-mlogloss:1.46778\n",
      "[8]\ttrain-mlogloss:1.37860\tval-mlogloss:1.42432\n",
      "[9]\ttrain-mlogloss:1.33564\tval-mlogloss:1.38419\n",
      "[10]\ttrain-mlogloss:1.29628\tval-mlogloss:1.34827\n",
      "[11]\ttrain-mlogloss:1.26107\tval-mlogloss:1.31663\n",
      "[12]\ttrain-mlogloss:1.22870\tval-mlogloss:1.28770\n",
      "[13]\ttrain-mlogloss:1.19850\tval-mlogloss:1.26364\n",
      "[14]\ttrain-mlogloss:1.17063\tval-mlogloss:1.23941\n",
      "[15]\ttrain-mlogloss:1.14572\tval-mlogloss:1.21777\n",
      "[16]\ttrain-mlogloss:1.12228\tval-mlogloss:1.19819\n",
      "[17]\ttrain-mlogloss:1.10123\tval-mlogloss:1.18044\n",
      "[18]\ttrain-mlogloss:1.08165\tval-mlogloss:1.16393\n",
      "[19]\ttrain-mlogloss:1.06310\tval-mlogloss:1.14945\n",
      "[20]\ttrain-mlogloss:1.04550\tval-mlogloss:1.13828\n",
      "[21]\ttrain-mlogloss:1.02995\tval-mlogloss:1.12572\n",
      "[22]\ttrain-mlogloss:1.01435\tval-mlogloss:1.11430\n",
      "[23]\ttrain-mlogloss:1.00052\tval-mlogloss:1.10430\n",
      "[24]\ttrain-mlogloss:0.98684\tval-mlogloss:1.09471\n",
      "[25]\ttrain-mlogloss:0.97470\tval-mlogloss:1.08694\n",
      "[26]\ttrain-mlogloss:0.96269\tval-mlogloss:1.07877\n",
      "[27]\ttrain-mlogloss:0.95214\tval-mlogloss:1.07108\n",
      "[28]\ttrain-mlogloss:0.94205\tval-mlogloss:1.06508\n",
      "[29]\ttrain-mlogloss:0.93225\tval-mlogloss:1.05865\n",
      "[30]\ttrain-mlogloss:0.92348\tval-mlogloss:1.05259\n",
      "[31]\ttrain-mlogloss:0.91492\tval-mlogloss:1.04737\n",
      "[32]\ttrain-mlogloss:0.90716\tval-mlogloss:1.04187\n",
      "[33]\ttrain-mlogloss:0.89899\tval-mlogloss:1.03831\n",
      "[34]\ttrain-mlogloss:0.89149\tval-mlogloss:1.03518\n",
      "[35]\ttrain-mlogloss:0.88486\tval-mlogloss:1.03162\n",
      "[36]\ttrain-mlogloss:0.87802\tval-mlogloss:1.02758\n",
      "[37]\ttrain-mlogloss:0.87175\tval-mlogloss:1.02392\n",
      "[38]\ttrain-mlogloss:0.86558\tval-mlogloss:1.02096\n",
      "[39]\ttrain-mlogloss:0.86031\tval-mlogloss:1.01840\n",
      "[40]\ttrain-mlogloss:0.85461\tval-mlogloss:1.01649\n",
      "[41]\ttrain-mlogloss:0.84942\tval-mlogloss:1.01376\n",
      "[42]\ttrain-mlogloss:0.84433\tval-mlogloss:1.01098\n",
      "[43]\ttrain-mlogloss:0.83929\tval-mlogloss:1.00910\n",
      "[44]\ttrain-mlogloss:0.83491\tval-mlogloss:1.00706\n",
      "[45]\ttrain-mlogloss:0.83049\tval-mlogloss:1.00506\n",
      "[46]\ttrain-mlogloss:0.82629\tval-mlogloss:1.00316\n",
      "[47]\ttrain-mlogloss:0.82206\tval-mlogloss:1.00106\n",
      "[48]\ttrain-mlogloss:0.81815\tval-mlogloss:1.00001\n",
      "[49]\ttrain-mlogloss:0.81446\tval-mlogloss:0.99956\n",
      "[50]\ttrain-mlogloss:0.81092\tval-mlogloss:0.99891\n",
      "[51]\ttrain-mlogloss:0.80688\tval-mlogloss:0.99739\n",
      "[52]\ttrain-mlogloss:0.80339\tval-mlogloss:0.99623\n",
      "[53]\ttrain-mlogloss:0.80003\tval-mlogloss:0.99537\n",
      "[54]\ttrain-mlogloss:0.79693\tval-mlogloss:0.99458\n",
      "[55]\ttrain-mlogloss:0.79365\tval-mlogloss:0.99325\n",
      "[56]\ttrain-mlogloss:0.79054\tval-mlogloss:0.99212\n"
     ]
    },
    {
     "name": "stdout",
     "output_type": "stream",
     "text": [
      "[57]\ttrain-mlogloss:0.78766\tval-mlogloss:0.99093\n",
      "[58]\ttrain-mlogloss:0.78528\tval-mlogloss:0.99026\n",
      "[59]\ttrain-mlogloss:0.78277\tval-mlogloss:0.99043\n",
      "[60]\ttrain-mlogloss:0.78008\tval-mlogloss:0.99054\n",
      "[61]\ttrain-mlogloss:0.77726\tval-mlogloss:0.98931\n",
      "[62]\ttrain-mlogloss:0.77465\tval-mlogloss:0.98991\n",
      "[63]\ttrain-mlogloss:0.77204\tval-mlogloss:0.98952\n",
      "[64]\ttrain-mlogloss:0.76934\tval-mlogloss:0.98833\n",
      "[65]\ttrain-mlogloss:0.76720\tval-mlogloss:0.98820\n",
      "[66]\ttrain-mlogloss:0.76510\tval-mlogloss:0.98820\n",
      "[67]\ttrain-mlogloss:0.76321\tval-mlogloss:0.98815\n",
      "[68]\ttrain-mlogloss:0.76041\tval-mlogloss:0.98645\n",
      "[69]\ttrain-mlogloss:0.75832\tval-mlogloss:0.98576\n",
      "[70]\ttrain-mlogloss:0.75636\tval-mlogloss:0.98514\n",
      "[71]\ttrain-mlogloss:0.75434\tval-mlogloss:0.98532\n",
      "[72]\ttrain-mlogloss:0.75252\tval-mlogloss:0.98602\n",
      "[73]\ttrain-mlogloss:0.75065\tval-mlogloss:0.98576\n",
      "[74]\ttrain-mlogloss:0.74881\tval-mlogloss:0.98540\n",
      "[75]\ttrain-mlogloss:0.74690\tval-mlogloss:0.98526\n",
      "[76]\ttrain-mlogloss:0.74490\tval-mlogloss:0.98533\n",
      "[77]\ttrain-mlogloss:0.74342\tval-mlogloss:0.98517\n",
      "[78]\ttrain-mlogloss:0.74170\tval-mlogloss:0.98527\n",
      "[79]\ttrain-mlogloss:0.73980\tval-mlogloss:0.98536\n",
      "[80]\ttrain-mlogloss:0.73821\tval-mlogloss:0.98549\n",
      "\n",
      "max_depth:2 best_ntree_limit:70\n",
      "\n",
      "[22:55:49] WARNING: ../src/learner.cc:1115: Starting in XGBoost 1.3.0, the default evaluation metric used with the objective 'multi:softmax' was changed from 'merror' to 'mlogloss'. Explicitly set eval_metric if you'd like to restore the old behavior.\n",
      "[0]\ttrain-mlogloss:2.01430\tval-mlogloss:2.02753\n",
      "[1]\ttrain-mlogloss:1.87195\tval-mlogloss:1.89403\n",
      "[2]\ttrain-mlogloss:1.75587\tval-mlogloss:1.78384\n",
      "[3]\ttrain-mlogloss:1.65758\tval-mlogloss:1.69523\n",
      "[4]\ttrain-mlogloss:1.57260\tval-mlogloss:1.61920\n",
      "[5]\ttrain-mlogloss:1.49820\tval-mlogloss:1.55500\n",
      "[6]\ttrain-mlogloss:1.43342\tval-mlogloss:1.49751\n",
      "[7]\ttrain-mlogloss:1.37555\tval-mlogloss:1.44754\n",
      "[8]\ttrain-mlogloss:1.32396\tval-mlogloss:1.40255\n",
      "[9]\ttrain-mlogloss:1.27705\tval-mlogloss:1.36270\n",
      "[10]\ttrain-mlogloss:1.23490\tval-mlogloss:1.32749\n",
      "[11]\ttrain-mlogloss:1.19678\tval-mlogloss:1.29624\n",
      "[12]\ttrain-mlogloss:1.16229\tval-mlogloss:1.26682\n",
      "[13]\ttrain-mlogloss:1.12980\tval-mlogloss:1.24000\n",
      "[14]\ttrain-mlogloss:1.10102\tval-mlogloss:1.21636\n",
      "[15]\ttrain-mlogloss:1.07382\tval-mlogloss:1.19452\n",
      "[16]\ttrain-mlogloss:1.04892\tval-mlogloss:1.17466\n",
      "[17]\ttrain-mlogloss:1.02617\tval-mlogloss:1.15516\n",
      "[18]\ttrain-mlogloss:1.00485\tval-mlogloss:1.14004\n",
      "[19]\ttrain-mlogloss:0.98521\tval-mlogloss:1.12621\n",
      "[20]\ttrain-mlogloss:0.96639\tval-mlogloss:1.11256\n",
      "[21]\ttrain-mlogloss:0.94973\tval-mlogloss:1.10051\n",
      "[22]\ttrain-mlogloss:0.93265\tval-mlogloss:1.09006\n",
      "[23]\ttrain-mlogloss:0.91752\tval-mlogloss:1.08029\n",
      "[24]\ttrain-mlogloss:0.90269\tval-mlogloss:1.07011\n",
      "[25]\ttrain-mlogloss:0.88901\tval-mlogloss:1.06022\n",
      "[26]\ttrain-mlogloss:0.87608\tval-mlogloss:1.05249\n",
      "[27]\ttrain-mlogloss:0.86375\tval-mlogloss:1.04645\n",
      "[28]\ttrain-mlogloss:0.85208\tval-mlogloss:1.03995\n",
      "[29]\ttrain-mlogloss:0.84165\tval-mlogloss:1.03316\n",
      "[30]\ttrain-mlogloss:0.83141\tval-mlogloss:1.02805\n",
      "[31]\ttrain-mlogloss:0.82098\tval-mlogloss:1.02332\n",
      "[32]\ttrain-mlogloss:0.81258\tval-mlogloss:1.01835\n",
      "[33]\ttrain-mlogloss:0.80380\tval-mlogloss:1.01565\n",
      "[34]\ttrain-mlogloss:0.79521\tval-mlogloss:1.01209\n",
      "[35]\ttrain-mlogloss:0.78773\tval-mlogloss:1.00950\n",
      "[36]\ttrain-mlogloss:0.78029\tval-mlogloss:1.00671\n",
      "[37]\ttrain-mlogloss:0.77312\tval-mlogloss:1.00338\n",
      "[38]\ttrain-mlogloss:0.76638\tval-mlogloss:1.00057\n",
      "[39]\ttrain-mlogloss:0.75869\tval-mlogloss:0.99796\n",
      "[40]\ttrain-mlogloss:0.75195\tval-mlogloss:0.99619\n",
      "[41]\ttrain-mlogloss:0.74656\tval-mlogloss:0.99382\n",
      "[42]\ttrain-mlogloss:0.74106\tval-mlogloss:0.99217\n",
      "[43]\ttrain-mlogloss:0.73509\tval-mlogloss:0.98969\n",
      "[44]\ttrain-mlogloss:0.72925\tval-mlogloss:0.98895\n",
      "[45]\ttrain-mlogloss:0.72393\tval-mlogloss:0.98874\n",
      "[46]\ttrain-mlogloss:0.71812\tval-mlogloss:0.98679\n",
      "[47]\ttrain-mlogloss:0.71292\tval-mlogloss:0.98564\n",
      "[48]\ttrain-mlogloss:0.70834\tval-mlogloss:0.98524\n",
      "[49]\ttrain-mlogloss:0.70321\tval-mlogloss:0.98481\n",
      "[50]\ttrain-mlogloss:0.69796\tval-mlogloss:0.98381\n",
      "[51]\ttrain-mlogloss:0.69361\tval-mlogloss:0.98275\n",
      "[52]\ttrain-mlogloss:0.68895\tval-mlogloss:0.98123\n",
      "[53]\ttrain-mlogloss:0.68513\tval-mlogloss:0.98136\n",
      "[54]\ttrain-mlogloss:0.68106\tval-mlogloss:0.98126\n",
      "[55]\ttrain-mlogloss:0.67705\tval-mlogloss:0.97983\n",
      "[56]\ttrain-mlogloss:0.67241\tval-mlogloss:0.97938\n",
      "[57]\ttrain-mlogloss:0.66920\tval-mlogloss:0.97865\n",
      "[58]\ttrain-mlogloss:0.66527\tval-mlogloss:0.97793\n",
      "[59]\ttrain-mlogloss:0.66124\tval-mlogloss:0.97708\n",
      "[60]\ttrain-mlogloss:0.65809\tval-mlogloss:0.97781\n",
      "[61]\ttrain-mlogloss:0.65379\tval-mlogloss:0.97635\n",
      "[62]\ttrain-mlogloss:0.65127\tval-mlogloss:0.97634\n",
      "[63]\ttrain-mlogloss:0.64847\tval-mlogloss:0.97632\n",
      "[64]\ttrain-mlogloss:0.64546\tval-mlogloss:0.97674\n",
      "[65]\ttrain-mlogloss:0.64254\tval-mlogloss:0.97674\n",
      "[66]\ttrain-mlogloss:0.63922\tval-mlogloss:0.97611\n",
      "[67]\ttrain-mlogloss:0.63623\tval-mlogloss:0.97619\n",
      "[68]\ttrain-mlogloss:0.63293\tval-mlogloss:0.97544\n",
      "[69]\ttrain-mlogloss:0.62997\tval-mlogloss:0.97525\n",
      "[70]\ttrain-mlogloss:0.62764\tval-mlogloss:0.97500\n",
      "[71]\ttrain-mlogloss:0.62454\tval-mlogloss:0.97587\n",
      "[72]\ttrain-mlogloss:0.62207\tval-mlogloss:0.97585\n",
      "[73]\ttrain-mlogloss:0.61823\tval-mlogloss:0.97591\n",
      "[74]\ttrain-mlogloss:0.61586\tval-mlogloss:0.97635\n",
      "[75]\ttrain-mlogloss:0.61328\tval-mlogloss:0.97659\n",
      "[76]\ttrain-mlogloss:0.61019\tval-mlogloss:0.97663\n",
      "[77]\ttrain-mlogloss:0.60757\tval-mlogloss:0.97634\n",
      "[78]\ttrain-mlogloss:0.60570\tval-mlogloss:0.97676\n",
      "[79]\ttrain-mlogloss:0.60348\tval-mlogloss:0.97705\n",
      "\n",
      "max_depth:3 best_ntree_limit:70\n",
      "\n",
      "[22:55:52] WARNING: ../src/learner.cc:1115: Starting in XGBoost 1.3.0, the default evaluation metric used with the objective 'multi:softmax' was changed from 'merror' to 'mlogloss'. Explicitly set eval_metric if you'd like to restore the old behavior.\n",
      "[0]\ttrain-mlogloss:2.00187\tval-mlogloss:2.02447\n",
      "[1]\ttrain-mlogloss:1.85018\tval-mlogloss:1.88899\n",
      "[2]\ttrain-mlogloss:1.72783\tval-mlogloss:1.78144\n",
      "[3]\ttrain-mlogloss:1.62179\tval-mlogloss:1.69225\n",
      "[4]\ttrain-mlogloss:1.53122\tval-mlogloss:1.61313\n",
      "[5]\ttrain-mlogloss:1.45365\tval-mlogloss:1.54579\n",
      "[6]\ttrain-mlogloss:1.38487\tval-mlogloss:1.48795\n",
      "[7]\ttrain-mlogloss:1.32421\tval-mlogloss:1.43484\n",
      "[8]\ttrain-mlogloss:1.26971\tval-mlogloss:1.38925\n",
      "[9]\ttrain-mlogloss:1.22050\tval-mlogloss:1.34951\n",
      "[10]\ttrain-mlogloss:1.17538\tval-mlogloss:1.31353\n",
      "[11]\ttrain-mlogloss:1.13490\tval-mlogloss:1.28164\n",
      "[12]\ttrain-mlogloss:1.09882\tval-mlogloss:1.25302\n",
      "[13]\ttrain-mlogloss:1.06394\tval-mlogloss:1.22674\n",
      "[14]\ttrain-mlogloss:1.03306\tval-mlogloss:1.20228\n",
      "[15]\ttrain-mlogloss:1.00449\tval-mlogloss:1.18136\n",
      "[16]\ttrain-mlogloss:0.97647\tval-mlogloss:1.16186\n",
      "[17]\ttrain-mlogloss:0.95029\tval-mlogloss:1.14386\n",
      "[18]\ttrain-mlogloss:0.92766\tval-mlogloss:1.12693\n",
      "[19]\ttrain-mlogloss:0.90743\tval-mlogloss:1.11376\n",
      "[20]\ttrain-mlogloss:0.88473\tval-mlogloss:1.10004\n",
      "[21]\ttrain-mlogloss:0.86600\tval-mlogloss:1.08790\n",
      "[22]\ttrain-mlogloss:0.84895\tval-mlogloss:1.07710\n",
      "[23]\ttrain-mlogloss:0.83067\tval-mlogloss:1.06613\n",
      "[24]\ttrain-mlogloss:0.81622\tval-mlogloss:1.05739\n",
      "[25]\ttrain-mlogloss:0.80141\tval-mlogloss:1.04931\n",
      "[26]\ttrain-mlogloss:0.78705\tval-mlogloss:1.04095\n",
      "[27]\ttrain-mlogloss:0.77273\tval-mlogloss:1.03533\n",
      "[28]\ttrain-mlogloss:0.76055\tval-mlogloss:1.02834\n",
      "[29]\ttrain-mlogloss:0.74828\tval-mlogloss:1.02312\n",
      "[30]\ttrain-mlogloss:0.73738\tval-mlogloss:1.01771\n",
      "[31]\ttrain-mlogloss:0.72582\tval-mlogloss:1.01299\n",
      "[32]\ttrain-mlogloss:0.71508\tval-mlogloss:1.00894\n",
      "[33]\ttrain-mlogloss:0.70634\tval-mlogloss:1.00506\n",
      "[34]\ttrain-mlogloss:0.69492\tval-mlogloss:1.00167\n",
      "[35]\ttrain-mlogloss:0.68635\tval-mlogloss:0.99871\n",
      "[36]\ttrain-mlogloss:0.67694\tval-mlogloss:0.99593\n",
      "[37]\ttrain-mlogloss:0.66728\tval-mlogloss:0.99386\n",
      "[38]\ttrain-mlogloss:0.65967\tval-mlogloss:0.99138\n",
      "[39]\ttrain-mlogloss:0.65249\tval-mlogloss:0.98848\n",
      "[40]\ttrain-mlogloss:0.64523\tval-mlogloss:0.98513\n",
      "[41]\ttrain-mlogloss:0.63778\tval-mlogloss:0.98248\n",
      "[42]\ttrain-mlogloss:0.63101\tval-mlogloss:0.98068\n",
      "[43]\ttrain-mlogloss:0.62449\tval-mlogloss:0.97858\n",
      "[44]\ttrain-mlogloss:0.61851\tval-mlogloss:0.97678\n",
      "[45]\ttrain-mlogloss:0.61099\tval-mlogloss:0.97378\n",
      "[46]\ttrain-mlogloss:0.60510\tval-mlogloss:0.97269\n",
      "[47]\ttrain-mlogloss:0.59913\tval-mlogloss:0.97038\n",
      "[48]\ttrain-mlogloss:0.59261\tval-mlogloss:0.96838\n",
      "[49]\ttrain-mlogloss:0.58716\tval-mlogloss:0.96757\n",
      "[50]\ttrain-mlogloss:0.58113\tval-mlogloss:0.96649\n",
      "[51]\ttrain-mlogloss:0.57609\tval-mlogloss:0.96633\n"
     ]
    },
    {
     "name": "stdout",
     "output_type": "stream",
     "text": [
      "[52]\ttrain-mlogloss:0.57174\tval-mlogloss:0.96536\n",
      "[53]\ttrain-mlogloss:0.56603\tval-mlogloss:0.96605\n",
      "[54]\ttrain-mlogloss:0.56099\tval-mlogloss:0.96617\n",
      "[55]\ttrain-mlogloss:0.55599\tval-mlogloss:0.96620\n",
      "[56]\ttrain-mlogloss:0.55082\tval-mlogloss:0.96517\n",
      "[57]\ttrain-mlogloss:0.54746\tval-mlogloss:0.96554\n",
      "[58]\ttrain-mlogloss:0.54310\tval-mlogloss:0.96474\n",
      "[59]\ttrain-mlogloss:0.53929\tval-mlogloss:0.96493\n",
      "[60]\ttrain-mlogloss:0.53550\tval-mlogloss:0.96499\n",
      "[61]\ttrain-mlogloss:0.53253\tval-mlogloss:0.96538\n",
      "[62]\ttrain-mlogloss:0.52913\tval-mlogloss:0.96569\n",
      "[63]\ttrain-mlogloss:0.52522\tval-mlogloss:0.96527\n",
      "[64]\ttrain-mlogloss:0.52236\tval-mlogloss:0.96520\n",
      "[65]\ttrain-mlogloss:0.51798\tval-mlogloss:0.96490\n",
      "[66]\ttrain-mlogloss:0.51499\tval-mlogloss:0.96530\n",
      "[67]\ttrain-mlogloss:0.51178\tval-mlogloss:0.96591\n",
      "\n",
      "max_depth:4 best_ntree_limit:58\n",
      "\n",
      "[22:55:55] WARNING: ../src/learner.cc:1115: Starting in XGBoost 1.3.0, the default evaluation metric used with the objective 'multi:softmax' was changed from 'merror' to 'mlogloss'. Explicitly set eval_metric if you'd like to restore the old behavior.\n",
      "[0]\ttrain-mlogloss:1.99066\tval-mlogloss:2.02169\n",
      "[1]\ttrain-mlogloss:1.83442\tval-mlogloss:1.88902\n",
      "[2]\ttrain-mlogloss:1.70198\tval-mlogloss:1.78193\n",
      "[3]\ttrain-mlogloss:1.58966\tval-mlogloss:1.69153\n",
      "[4]\ttrain-mlogloss:1.49570\tval-mlogloss:1.61357\n",
      "[5]\ttrain-mlogloss:1.41203\tval-mlogloss:1.54520\n",
      "[6]\ttrain-mlogloss:1.33945\tval-mlogloss:1.48585\n",
      "[7]\ttrain-mlogloss:1.27459\tval-mlogloss:1.43215\n",
      "[8]\ttrain-mlogloss:1.21466\tval-mlogloss:1.38651\n",
      "[9]\ttrain-mlogloss:1.16193\tval-mlogloss:1.34723\n",
      "[10]\ttrain-mlogloss:1.11468\tval-mlogloss:1.31123\n",
      "[11]\ttrain-mlogloss:1.07219\tval-mlogloss:1.27839\n",
      "[12]\ttrain-mlogloss:1.03208\tval-mlogloss:1.25036\n",
      "[13]\ttrain-mlogloss:0.99596\tval-mlogloss:1.22396\n",
      "[14]\ttrain-mlogloss:0.96436\tval-mlogloss:1.20084\n",
      "[15]\ttrain-mlogloss:0.93445\tval-mlogloss:1.17971\n",
      "[16]\ttrain-mlogloss:0.90455\tval-mlogloss:1.15799\n",
      "[17]\ttrain-mlogloss:0.87867\tval-mlogloss:1.14025\n",
      "[18]\ttrain-mlogloss:0.85257\tval-mlogloss:1.12490\n",
      "[19]\ttrain-mlogloss:0.83040\tval-mlogloss:1.11070\n",
      "[20]\ttrain-mlogloss:0.80629\tval-mlogloss:1.09807\n",
      "[21]\ttrain-mlogloss:0.78379\tval-mlogloss:1.08534\n",
      "[22]\ttrain-mlogloss:0.76184\tval-mlogloss:1.07283\n",
      "[23]\ttrain-mlogloss:0.74449\tval-mlogloss:1.06293\n",
      "[24]\ttrain-mlogloss:0.72864\tval-mlogloss:1.05524\n",
      "[25]\ttrain-mlogloss:0.71387\tval-mlogloss:1.04678\n",
      "[26]\ttrain-mlogloss:0.69894\tval-mlogloss:1.03953\n",
      "[27]\ttrain-mlogloss:0.68367\tval-mlogloss:1.03325\n",
      "[28]\ttrain-mlogloss:0.67080\tval-mlogloss:1.02790\n",
      "[29]\ttrain-mlogloss:0.65871\tval-mlogloss:1.02176\n",
      "[30]\ttrain-mlogloss:0.64747\tval-mlogloss:1.01815\n",
      "[31]\ttrain-mlogloss:0.63640\tval-mlogloss:1.01399\n",
      "[32]\ttrain-mlogloss:0.62369\tval-mlogloss:1.01071\n",
      "[33]\ttrain-mlogloss:0.61335\tval-mlogloss:1.00568\n",
      "[34]\ttrain-mlogloss:0.60048\tval-mlogloss:1.00262\n",
      "[35]\ttrain-mlogloss:0.58837\tval-mlogloss:0.99978\n",
      "[36]\ttrain-mlogloss:0.57778\tval-mlogloss:0.99587\n",
      "[37]\ttrain-mlogloss:0.56735\tval-mlogloss:0.99188\n",
      "[38]\ttrain-mlogloss:0.55693\tval-mlogloss:0.98971\n",
      "[39]\ttrain-mlogloss:0.54878\tval-mlogloss:0.98857\n",
      "[40]\ttrain-mlogloss:0.53925\tval-mlogloss:0.98674\n",
      "[41]\ttrain-mlogloss:0.53262\tval-mlogloss:0.98536\n",
      "[42]\ttrain-mlogloss:0.52369\tval-mlogloss:0.98274\n",
      "[43]\ttrain-mlogloss:0.51661\tval-mlogloss:0.98155\n",
      "[44]\ttrain-mlogloss:0.50835\tval-mlogloss:0.98117\n",
      "[45]\ttrain-mlogloss:0.50086\tval-mlogloss:0.97757\n",
      "[46]\ttrain-mlogloss:0.49338\tval-mlogloss:0.97496\n",
      "[47]\ttrain-mlogloss:0.48748\tval-mlogloss:0.97406\n",
      "[48]\ttrain-mlogloss:0.48153\tval-mlogloss:0.97285\n",
      "[49]\ttrain-mlogloss:0.47537\tval-mlogloss:0.97116\n",
      "[50]\ttrain-mlogloss:0.46830\tval-mlogloss:0.96925\n",
      "[51]\ttrain-mlogloss:0.46188\tval-mlogloss:0.96825\n",
      "[52]\ttrain-mlogloss:0.45671\tval-mlogloss:0.96707\n",
      "[53]\ttrain-mlogloss:0.45162\tval-mlogloss:0.96808\n",
      "[54]\ttrain-mlogloss:0.44686\tval-mlogloss:0.96886\n",
      "[55]\ttrain-mlogloss:0.44173\tval-mlogloss:0.96776\n",
      "[56]\ttrain-mlogloss:0.43736\tval-mlogloss:0.96676\n",
      "[57]\ttrain-mlogloss:0.43211\tval-mlogloss:0.96666\n",
      "[58]\ttrain-mlogloss:0.42536\tval-mlogloss:0.96521\n",
      "[59]\ttrain-mlogloss:0.42212\tval-mlogloss:0.96612\n",
      "[60]\ttrain-mlogloss:0.41717\tval-mlogloss:0.96599\n",
      "[61]\ttrain-mlogloss:0.41179\tval-mlogloss:0.96524\n",
      "[62]\ttrain-mlogloss:0.40767\tval-mlogloss:0.96456\n",
      "[63]\ttrain-mlogloss:0.40382\tval-mlogloss:0.96336\n",
      "[64]\ttrain-mlogloss:0.39746\tval-mlogloss:0.96219\n",
      "[65]\ttrain-mlogloss:0.39341\tval-mlogloss:0.96351\n",
      "[66]\ttrain-mlogloss:0.39002\tval-mlogloss:0.96427\n",
      "[67]\ttrain-mlogloss:0.38566\tval-mlogloss:0.96331\n",
      "[68]\ttrain-mlogloss:0.38070\tval-mlogloss:0.96401\n",
      "[69]\ttrain-mlogloss:0.37678\tval-mlogloss:0.96401\n",
      "[70]\ttrain-mlogloss:0.37260\tval-mlogloss:0.96510\n",
      "[71]\ttrain-mlogloss:0.36949\tval-mlogloss:0.96644\n",
      "[72]\ttrain-mlogloss:0.36548\tval-mlogloss:0.96725\n",
      "[73]\ttrain-mlogloss:0.36124\tval-mlogloss:0.96778\n",
      "[74]\ttrain-mlogloss:0.35772\tval-mlogloss:0.96882\n",
      "\n",
      "max_depth:5 best_ntree_limit:64\n",
      "\n",
      "[22:55:59] WARNING: ../src/learner.cc:1115: Starting in XGBoost 1.3.0, the default evaluation metric used with the objective 'multi:softmax' was changed from 'merror' to 'mlogloss'. Explicitly set eval_metric if you'd like to restore the old behavior.\n",
      "[0]\ttrain-mlogloss:1.98179\tval-mlogloss:2.02164\n",
      "[1]\ttrain-mlogloss:1.81744\tval-mlogloss:1.88702\n",
      "[2]\ttrain-mlogloss:1.67947\tval-mlogloss:1.77899\n",
      "[3]\ttrain-mlogloss:1.56589\tval-mlogloss:1.68830\n",
      "[4]\ttrain-mlogloss:1.46610\tval-mlogloss:1.61047\n",
      "[5]\ttrain-mlogloss:1.37972\tval-mlogloss:1.54021\n",
      "[6]\ttrain-mlogloss:1.29992\tval-mlogloss:1.47927\n",
      "[7]\ttrain-mlogloss:1.22973\tval-mlogloss:1.42764\n",
      "[8]\ttrain-mlogloss:1.16642\tval-mlogloss:1.38122\n",
      "[9]\ttrain-mlogloss:1.10942\tval-mlogloss:1.33955\n",
      "[10]\ttrain-mlogloss:1.05881\tval-mlogloss:1.30396\n",
      "[11]\ttrain-mlogloss:1.01387\tval-mlogloss:1.27092\n",
      "[12]\ttrain-mlogloss:0.97077\tval-mlogloss:1.24045\n",
      "[13]\ttrain-mlogloss:0.93023\tval-mlogloss:1.21289\n",
      "[14]\ttrain-mlogloss:0.89546\tval-mlogloss:1.18856\n",
      "[15]\ttrain-mlogloss:0.86441\tval-mlogloss:1.16750\n",
      "[16]\ttrain-mlogloss:0.83522\tval-mlogloss:1.14962\n",
      "[17]\ttrain-mlogloss:0.80774\tval-mlogloss:1.13362\n",
      "[18]\ttrain-mlogloss:0.78136\tval-mlogloss:1.11733\n",
      "[19]\ttrain-mlogloss:0.75742\tval-mlogloss:1.10133\n",
      "[20]\ttrain-mlogloss:0.73649\tval-mlogloss:1.08930\n",
      "[21]\ttrain-mlogloss:0.71402\tval-mlogloss:1.07515\n",
      "[22]\ttrain-mlogloss:0.69323\tval-mlogloss:1.06284\n",
      "[23]\ttrain-mlogloss:0.67325\tval-mlogloss:1.05261\n",
      "[24]\ttrain-mlogloss:0.65582\tval-mlogloss:1.04440\n",
      "[25]\ttrain-mlogloss:0.64067\tval-mlogloss:1.03603\n",
      "[26]\ttrain-mlogloss:0.62318\tval-mlogloss:1.02928\n",
      "[27]\ttrain-mlogloss:0.60925\tval-mlogloss:1.02377\n",
      "[28]\ttrain-mlogloss:0.59714\tval-mlogloss:1.01754\n",
      "[29]\ttrain-mlogloss:0.58379\tval-mlogloss:1.01221\n",
      "[30]\ttrain-mlogloss:0.57071\tval-mlogloss:1.00655\n",
      "[31]\ttrain-mlogloss:0.55790\tval-mlogloss:1.00042\n",
      "[32]\ttrain-mlogloss:0.54773\tval-mlogloss:0.99626\n",
      "[33]\ttrain-mlogloss:0.53847\tval-mlogloss:0.99174\n",
      "[34]\ttrain-mlogloss:0.52771\tval-mlogloss:0.98822\n",
      "[35]\ttrain-mlogloss:0.51835\tval-mlogloss:0.98405\n",
      "[36]\ttrain-mlogloss:0.50843\tval-mlogloss:0.98064\n",
      "[37]\ttrain-mlogloss:0.49976\tval-mlogloss:0.97878\n",
      "[38]\ttrain-mlogloss:0.49216\tval-mlogloss:0.97632\n",
      "[39]\ttrain-mlogloss:0.48081\tval-mlogloss:0.97412\n",
      "[40]\ttrain-mlogloss:0.47022\tval-mlogloss:0.97161\n",
      "[41]\ttrain-mlogloss:0.46081\tval-mlogloss:0.97013\n",
      "[42]\ttrain-mlogloss:0.45120\tval-mlogloss:0.96643\n",
      "[43]\ttrain-mlogloss:0.43978\tval-mlogloss:0.96512\n",
      "[44]\ttrain-mlogloss:0.43186\tval-mlogloss:0.96180\n",
      "[45]\ttrain-mlogloss:0.42455\tval-mlogloss:0.96075\n",
      "[46]\ttrain-mlogloss:0.41685\tval-mlogloss:0.95930\n",
      "[47]\ttrain-mlogloss:0.40960\tval-mlogloss:0.95876\n",
      "[48]\ttrain-mlogloss:0.40405\tval-mlogloss:0.95652\n",
      "[49]\ttrain-mlogloss:0.39694\tval-mlogloss:0.95349\n",
      "[50]\ttrain-mlogloss:0.39039\tval-mlogloss:0.95241\n",
      "[51]\ttrain-mlogloss:0.38368\tval-mlogloss:0.95090\n",
      "[52]\ttrain-mlogloss:0.37589\tval-mlogloss:0.95048\n",
      "[53]\ttrain-mlogloss:0.36933\tval-mlogloss:0.95067\n",
      "[54]\ttrain-mlogloss:0.36357\tval-mlogloss:0.95095\n",
      "[55]\ttrain-mlogloss:0.35790\tval-mlogloss:0.95115\n",
      "[56]\ttrain-mlogloss:0.35322\tval-mlogloss:0.95124\n",
      "[57]\ttrain-mlogloss:0.34820\tval-mlogloss:0.94981\n",
      "[58]\ttrain-mlogloss:0.34359\tval-mlogloss:0.95021\n",
      "[59]\ttrain-mlogloss:0.33700\tval-mlogloss:0.95040\n",
      "[60]\ttrain-mlogloss:0.33256\tval-mlogloss:0.95107\n",
      "[61]\ttrain-mlogloss:0.32864\tval-mlogloss:0.95122\n",
      "[62]\ttrain-mlogloss:0.32485\tval-mlogloss:0.95036\n",
      "[63]\ttrain-mlogloss:0.31932\tval-mlogloss:0.95116\n",
      "[64]\ttrain-mlogloss:0.31610\tval-mlogloss:0.95136\n"
     ]
    },
    {
     "name": "stdout",
     "output_type": "stream",
     "text": [
      "[65]\ttrain-mlogloss:0.31077\tval-mlogloss:0.95157\n",
      "[66]\ttrain-mlogloss:0.30776\tval-mlogloss:0.95226\n",
      "[67]\ttrain-mlogloss:0.30279\tval-mlogloss:0.95252\n",
      "\n",
      "max_depth:6 best_ntree_limit:57\n",
      "\n",
      "[22:56:02] WARNING: ../src/learner.cc:1115: Starting in XGBoost 1.3.0, the default evaluation metric used with the objective 'multi:softmax' was changed from 'merror' to 'mlogloss'. Explicitly set eval_metric if you'd like to restore the old behavior.\n",
      "[0]\ttrain-mlogloss:1.97383\tval-mlogloss:2.02395\n",
      "[1]\ttrain-mlogloss:1.80305\tval-mlogloss:1.89123\n",
      "[2]\ttrain-mlogloss:1.66197\tval-mlogloss:1.77504\n",
      "[3]\ttrain-mlogloss:1.54420\tval-mlogloss:1.68447\n",
      "[4]\ttrain-mlogloss:1.43976\tval-mlogloss:1.60504\n",
      "[5]\ttrain-mlogloss:1.34825\tval-mlogloss:1.53821\n",
      "[6]\ttrain-mlogloss:1.26856\tval-mlogloss:1.47883\n",
      "[7]\ttrain-mlogloss:1.19515\tval-mlogloss:1.42694\n",
      "[8]\ttrain-mlogloss:1.12988\tval-mlogloss:1.38223\n",
      "[9]\ttrain-mlogloss:1.06924\tval-mlogloss:1.34197\n",
      "[10]\ttrain-mlogloss:1.01503\tval-mlogloss:1.30504\n",
      "[11]\ttrain-mlogloss:0.96492\tval-mlogloss:1.26923\n",
      "[12]\ttrain-mlogloss:0.91887\tval-mlogloss:1.23860\n",
      "[13]\ttrain-mlogloss:0.87924\tval-mlogloss:1.21178\n",
      "[14]\ttrain-mlogloss:0.84074\tval-mlogloss:1.18626\n",
      "[15]\ttrain-mlogloss:0.80808\tval-mlogloss:1.16613\n",
      "[16]\ttrain-mlogloss:0.77655\tval-mlogloss:1.14612\n",
      "[17]\ttrain-mlogloss:0.74420\tval-mlogloss:1.12973\n",
      "[18]\ttrain-mlogloss:0.71814\tval-mlogloss:1.11468\n",
      "[19]\ttrain-mlogloss:0.69485\tval-mlogloss:1.10260\n",
      "[20]\ttrain-mlogloss:0.67067\tval-mlogloss:1.08935\n",
      "[21]\ttrain-mlogloss:0.64919\tval-mlogloss:1.07521\n",
      "[22]\ttrain-mlogloss:0.62581\tval-mlogloss:1.06320\n",
      "[23]\ttrain-mlogloss:0.60691\tval-mlogloss:1.05145\n",
      "[24]\ttrain-mlogloss:0.58631\tval-mlogloss:1.04114\n",
      "[25]\ttrain-mlogloss:0.56868\tval-mlogloss:1.03289\n",
      "[26]\ttrain-mlogloss:0.55233\tval-mlogloss:1.02621\n",
      "[27]\ttrain-mlogloss:0.53869\tval-mlogloss:1.01931\n",
      "[28]\ttrain-mlogloss:0.52526\tval-mlogloss:1.01286\n",
      "[29]\ttrain-mlogloss:0.51259\tval-mlogloss:1.00756\n",
      "[30]\ttrain-mlogloss:0.49804\tval-mlogloss:1.00308\n",
      "[31]\ttrain-mlogloss:0.48610\tval-mlogloss:0.99849\n",
      "[32]\ttrain-mlogloss:0.47600\tval-mlogloss:0.99289\n",
      "[33]\ttrain-mlogloss:0.46543\tval-mlogloss:0.98962\n",
      "[34]\ttrain-mlogloss:0.45566\tval-mlogloss:0.98645\n",
      "[35]\ttrain-mlogloss:0.44660\tval-mlogloss:0.98323\n",
      "[36]\ttrain-mlogloss:0.43873\tval-mlogloss:0.97931\n",
      "[37]\ttrain-mlogloss:0.42818\tval-mlogloss:0.97617\n",
      "[38]\ttrain-mlogloss:0.41971\tval-mlogloss:0.97419\n",
      "[39]\ttrain-mlogloss:0.41058\tval-mlogloss:0.97212\n",
      "[40]\ttrain-mlogloss:0.40307\tval-mlogloss:0.96962\n",
      "[41]\ttrain-mlogloss:0.39329\tval-mlogloss:0.96792\n",
      "[42]\ttrain-mlogloss:0.38363\tval-mlogloss:0.96527\n",
      "[43]\ttrain-mlogloss:0.37417\tval-mlogloss:0.96317\n",
      "[44]\ttrain-mlogloss:0.36872\tval-mlogloss:0.96087\n",
      "[45]\ttrain-mlogloss:0.36240\tval-mlogloss:0.96060\n",
      "[46]\ttrain-mlogloss:0.35671\tval-mlogloss:0.95844\n",
      "[47]\ttrain-mlogloss:0.34919\tval-mlogloss:0.95672\n",
      "[48]\ttrain-mlogloss:0.34168\tval-mlogloss:0.95494\n",
      "[49]\ttrain-mlogloss:0.33449\tval-mlogloss:0.95459\n",
      "[50]\ttrain-mlogloss:0.32836\tval-mlogloss:0.95374\n",
      "[51]\ttrain-mlogloss:0.32328\tval-mlogloss:0.95280\n",
      "[52]\ttrain-mlogloss:0.31745\tval-mlogloss:0.95320\n",
      "[53]\ttrain-mlogloss:0.31273\tval-mlogloss:0.95268\n",
      "[54]\ttrain-mlogloss:0.30789\tval-mlogloss:0.95189\n",
      "[55]\ttrain-mlogloss:0.30387\tval-mlogloss:0.95191\n",
      "[56]\ttrain-mlogloss:0.29952\tval-mlogloss:0.95126\n",
      "[57]\ttrain-mlogloss:0.29137\tval-mlogloss:0.95026\n",
      "[58]\ttrain-mlogloss:0.28460\tval-mlogloss:0.94907\n",
      "[59]\ttrain-mlogloss:0.27941\tval-mlogloss:0.94878\n",
      "[60]\ttrain-mlogloss:0.27532\tval-mlogloss:0.94870\n",
      "[61]\ttrain-mlogloss:0.27081\tval-mlogloss:0.94925\n",
      "[62]\ttrain-mlogloss:0.26713\tval-mlogloss:0.95013\n",
      "[63]\ttrain-mlogloss:0.26178\tval-mlogloss:0.94986\n",
      "[64]\ttrain-mlogloss:0.25777\tval-mlogloss:0.95089\n",
      "[65]\ttrain-mlogloss:0.25148\tval-mlogloss:0.95270\n",
      "[66]\ttrain-mlogloss:0.24815\tval-mlogloss:0.95368\n",
      "[67]\ttrain-mlogloss:0.24273\tval-mlogloss:0.95469\n",
      "[68]\ttrain-mlogloss:0.23998\tval-mlogloss:0.95541\n",
      "[69]\ttrain-mlogloss:0.23785\tval-mlogloss:0.95704\n",
      "[70]\ttrain-mlogloss:0.23506\tval-mlogloss:0.95756\n",
      "\n",
      "max_depth:7 best_ntree_limit:60\n",
      "\n",
      "[22:56:05] WARNING: ../src/learner.cc:1115: Starting in XGBoost 1.3.0, the default evaluation metric used with the objective 'multi:softmax' was changed from 'merror' to 'mlogloss'. Explicitly set eval_metric if you'd like to restore the old behavior.\n",
      "[0]\ttrain-mlogloss:1.96841\tval-mlogloss:2.02255\n",
      "[1]\ttrain-mlogloss:1.79330\tval-mlogloss:1.89143\n",
      "[2]\ttrain-mlogloss:1.64799\tval-mlogloss:1.77623\n",
      "[3]\ttrain-mlogloss:1.52816\tval-mlogloss:1.68744\n",
      "[4]\ttrain-mlogloss:1.42343\tval-mlogloss:1.61065\n",
      "[5]\ttrain-mlogloss:1.32855\tval-mlogloss:1.54438\n",
      "[6]\ttrain-mlogloss:1.24389\tval-mlogloss:1.48385\n",
      "[7]\ttrain-mlogloss:1.16734\tval-mlogloss:1.43289\n",
      "[8]\ttrain-mlogloss:1.10181\tval-mlogloss:1.38938\n",
      "[9]\ttrain-mlogloss:1.03920\tval-mlogloss:1.34868\n",
      "[10]\ttrain-mlogloss:0.98214\tval-mlogloss:1.31126\n",
      "[11]\ttrain-mlogloss:0.93162\tval-mlogloss:1.27791\n",
      "[12]\ttrain-mlogloss:0.88445\tval-mlogloss:1.25113\n",
      "[13]\ttrain-mlogloss:0.84335\tval-mlogloss:1.22462\n",
      "[14]\ttrain-mlogloss:0.80509\tval-mlogloss:1.20153\n",
      "[15]\ttrain-mlogloss:0.77033\tval-mlogloss:1.18042\n",
      "[16]\ttrain-mlogloss:0.73723\tval-mlogloss:1.16279\n",
      "[17]\ttrain-mlogloss:0.70374\tval-mlogloss:1.14573\n",
      "[18]\ttrain-mlogloss:0.67733\tval-mlogloss:1.13062\n",
      "[19]\ttrain-mlogloss:0.65368\tval-mlogloss:1.11571\n",
      "[20]\ttrain-mlogloss:0.62913\tval-mlogloss:1.10247\n",
      "[21]\ttrain-mlogloss:0.60393\tval-mlogloss:1.08770\n",
      "[22]\ttrain-mlogloss:0.58328\tval-mlogloss:1.07515\n",
      "[23]\ttrain-mlogloss:0.55932\tval-mlogloss:1.06352\n",
      "[24]\ttrain-mlogloss:0.54258\tval-mlogloss:1.05292\n",
      "[25]\ttrain-mlogloss:0.52367\tval-mlogloss:1.04529\n",
      "[26]\ttrain-mlogloss:0.50577\tval-mlogloss:1.03797\n",
      "[27]\ttrain-mlogloss:0.48753\tval-mlogloss:1.02877\n",
      "[28]\ttrain-mlogloss:0.47283\tval-mlogloss:1.02199\n",
      "[29]\ttrain-mlogloss:0.46142\tval-mlogloss:1.01654\n",
      "[30]\ttrain-mlogloss:0.44860\tval-mlogloss:1.01083\n",
      "[31]\ttrain-mlogloss:0.43522\tval-mlogloss:1.00565\n",
      "[32]\ttrain-mlogloss:0.42095\tval-mlogloss:1.00107\n",
      "[33]\ttrain-mlogloss:0.40918\tval-mlogloss:0.99662\n",
      "[34]\ttrain-mlogloss:0.39542\tval-mlogloss:0.99288\n",
      "[35]\ttrain-mlogloss:0.38302\tval-mlogloss:0.98961\n",
      "[36]\ttrain-mlogloss:0.37423\tval-mlogloss:0.98703\n",
      "[37]\ttrain-mlogloss:0.36241\tval-mlogloss:0.98443\n",
      "[38]\ttrain-mlogloss:0.35205\tval-mlogloss:0.98169\n",
      "[39]\ttrain-mlogloss:0.34415\tval-mlogloss:0.97951\n",
      "[40]\ttrain-mlogloss:0.33475\tval-mlogloss:0.97838\n",
      "[41]\ttrain-mlogloss:0.32854\tval-mlogloss:0.97784\n",
      "[42]\ttrain-mlogloss:0.32162\tval-mlogloss:0.97763\n",
      "[43]\ttrain-mlogloss:0.31299\tval-mlogloss:0.97428\n",
      "[44]\ttrain-mlogloss:0.30689\tval-mlogloss:0.97201\n",
      "[45]\ttrain-mlogloss:0.29871\tval-mlogloss:0.96981\n",
      "[46]\ttrain-mlogloss:0.29050\tval-mlogloss:0.96845\n",
      "[47]\ttrain-mlogloss:0.28511\tval-mlogloss:0.96729\n",
      "[48]\ttrain-mlogloss:0.27821\tval-mlogloss:0.96606\n",
      "[49]\ttrain-mlogloss:0.27434\tval-mlogloss:0.96632\n",
      "[50]\ttrain-mlogloss:0.26753\tval-mlogloss:0.96509\n",
      "[51]\ttrain-mlogloss:0.26286\tval-mlogloss:0.96535\n",
      "[52]\ttrain-mlogloss:0.25704\tval-mlogloss:0.96560\n",
      "[53]\ttrain-mlogloss:0.25102\tval-mlogloss:0.96476\n",
      "[54]\ttrain-mlogloss:0.24563\tval-mlogloss:0.96392\n",
      "[55]\ttrain-mlogloss:0.24068\tval-mlogloss:0.96460\n",
      "[56]\ttrain-mlogloss:0.23638\tval-mlogloss:0.96498\n",
      "[57]\ttrain-mlogloss:0.23307\tval-mlogloss:0.96479\n",
      "[58]\ttrain-mlogloss:0.23028\tval-mlogloss:0.96497\n",
      "[59]\ttrain-mlogloss:0.22400\tval-mlogloss:0.96490\n",
      "[60]\ttrain-mlogloss:0.21833\tval-mlogloss:0.96557\n",
      "[61]\ttrain-mlogloss:0.21509\tval-mlogloss:0.96598\n",
      "[62]\ttrain-mlogloss:0.21126\tval-mlogloss:0.96727\n",
      "[63]\ttrain-mlogloss:0.20614\tval-mlogloss:0.96721\n",
      "[64]\ttrain-mlogloss:0.20072\tval-mlogloss:0.96767\n",
      "\n",
      "max_depth:8 best_ntree_limit:54\n",
      "\n",
      "[22:56:09] WARNING: ../src/learner.cc:1115: Starting in XGBoost 1.3.0, the default evaluation metric used with the objective 'multi:softmax' was changed from 'merror' to 'mlogloss'. Explicitly set eval_metric if you'd like to restore the old behavior.\n",
      "[0]\ttrain-mlogloss:1.96579\tval-mlogloss:2.02262\n",
      "[1]\ttrain-mlogloss:1.78678\tval-mlogloss:1.89168\n",
      "[2]\ttrain-mlogloss:1.63567\tval-mlogloss:1.77626\n",
      "[3]\ttrain-mlogloss:1.51277\tval-mlogloss:1.68792\n",
      "[4]\ttrain-mlogloss:1.40299\tval-mlogloss:1.60987\n",
      "[5]\ttrain-mlogloss:1.30527\tval-mlogloss:1.54411\n",
      "[6]\ttrain-mlogloss:1.21998\tval-mlogloss:1.48234\n",
      "[7]\ttrain-mlogloss:1.14375\tval-mlogloss:1.43275\n",
      "[8]\ttrain-mlogloss:1.07450\tval-mlogloss:1.38584\n",
      "[9]\ttrain-mlogloss:1.01257\tval-mlogloss:1.34423\n",
      "[10]\ttrain-mlogloss:0.95706\tval-mlogloss:1.31037\n",
      "[11]\ttrain-mlogloss:0.90102\tval-mlogloss:1.27351\n"
     ]
    },
    {
     "name": "stdout",
     "output_type": "stream",
     "text": [
      "[12]\ttrain-mlogloss:0.85093\tval-mlogloss:1.24022\n",
      "[13]\ttrain-mlogloss:0.80674\tval-mlogloss:1.21135\n",
      "[14]\ttrain-mlogloss:0.76848\tval-mlogloss:1.18762\n",
      "[15]\ttrain-mlogloss:0.73221\tval-mlogloss:1.16694\n",
      "[16]\ttrain-mlogloss:0.69581\tval-mlogloss:1.14604\n",
      "[17]\ttrain-mlogloss:0.66571\tval-mlogloss:1.12989\n",
      "[18]\ttrain-mlogloss:0.63827\tval-mlogloss:1.11403\n",
      "[19]\ttrain-mlogloss:0.61395\tval-mlogloss:1.09914\n",
      "[20]\ttrain-mlogloss:0.58921\tval-mlogloss:1.08495\n",
      "[21]\ttrain-mlogloss:0.56571\tval-mlogloss:1.07471\n",
      "[22]\ttrain-mlogloss:0.54597\tval-mlogloss:1.06326\n",
      "[23]\ttrain-mlogloss:0.52534\tval-mlogloss:1.05345\n",
      "[24]\ttrain-mlogloss:0.50578\tval-mlogloss:1.04441\n",
      "[25]\ttrain-mlogloss:0.48780\tval-mlogloss:1.03576\n",
      "[26]\ttrain-mlogloss:0.47173\tval-mlogloss:1.02942\n",
      "[27]\ttrain-mlogloss:0.45577\tval-mlogloss:1.02151\n",
      "[28]\ttrain-mlogloss:0.44177\tval-mlogloss:1.01633\n",
      "[29]\ttrain-mlogloss:0.42694\tval-mlogloss:1.01127\n",
      "[30]\ttrain-mlogloss:0.41176\tval-mlogloss:1.00624\n",
      "[31]\ttrain-mlogloss:0.40000\tval-mlogloss:1.00206\n",
      "[32]\ttrain-mlogloss:0.38775\tval-mlogloss:0.99786\n",
      "[33]\ttrain-mlogloss:0.37537\tval-mlogloss:0.99450\n",
      "[34]\ttrain-mlogloss:0.36277\tval-mlogloss:0.98983\n",
      "[35]\ttrain-mlogloss:0.35120\tval-mlogloss:0.98448\n",
      "[36]\ttrain-mlogloss:0.34044\tval-mlogloss:0.98001\n",
      "[37]\ttrain-mlogloss:0.33063\tval-mlogloss:0.97656\n",
      "[38]\ttrain-mlogloss:0.31998\tval-mlogloss:0.97480\n",
      "[39]\ttrain-mlogloss:0.31306\tval-mlogloss:0.97200\n",
      "[40]\ttrain-mlogloss:0.30408\tval-mlogloss:0.97057\n",
      "[41]\ttrain-mlogloss:0.29695\tval-mlogloss:0.96850\n",
      "[42]\ttrain-mlogloss:0.28763\tval-mlogloss:0.96630\n",
      "[43]\ttrain-mlogloss:0.28037\tval-mlogloss:0.96474\n",
      "[44]\ttrain-mlogloss:0.27397\tval-mlogloss:0.96527\n",
      "[45]\ttrain-mlogloss:0.26575\tval-mlogloss:0.96529\n",
      "[46]\ttrain-mlogloss:0.25898\tval-mlogloss:0.96504\n",
      "[47]\ttrain-mlogloss:0.25010\tval-mlogloss:0.96550\n",
      "[48]\ttrain-mlogloss:0.24376\tval-mlogloss:0.96518\n",
      "[49]\ttrain-mlogloss:0.23773\tval-mlogloss:0.96420\n",
      "[50]\ttrain-mlogloss:0.23051\tval-mlogloss:0.96593\n",
      "[51]\ttrain-mlogloss:0.22559\tval-mlogloss:0.96547\n",
      "[52]\ttrain-mlogloss:0.21827\tval-mlogloss:0.96609\n",
      "[53]\ttrain-mlogloss:0.21365\tval-mlogloss:0.96712\n",
      "[54]\ttrain-mlogloss:0.20973\tval-mlogloss:0.96820\n",
      "[55]\ttrain-mlogloss:0.20309\tval-mlogloss:0.97003\n",
      "[56]\ttrain-mlogloss:0.19858\tval-mlogloss:0.97047\n",
      "[57]\ttrain-mlogloss:0.19376\tval-mlogloss:0.97142\n",
      "[58]\ttrain-mlogloss:0.18924\tval-mlogloss:0.97262\n",
      "[59]\ttrain-mlogloss:0.18578\tval-mlogloss:0.97179\n",
      "\n",
      "max_depth:9 best_ntree_limit:49\n",
      "\n",
      "[22:56:12] WARNING: ../src/learner.cc:1115: Starting in XGBoost 1.3.0, the default evaluation metric used with the objective 'multi:softmax' was changed from 'merror' to 'mlogloss'. Explicitly set eval_metric if you'd like to restore the old behavior.\n",
      "[0]\ttrain-mlogloss:1.96475\tval-mlogloss:2.02366\n",
      "[1]\ttrain-mlogloss:1.78154\tval-mlogloss:1.89237\n",
      "[2]\ttrain-mlogloss:1.62699\tval-mlogloss:1.77618\n",
      "[3]\ttrain-mlogloss:1.50172\tval-mlogloss:1.68892\n",
      "[4]\ttrain-mlogloss:1.39198\tval-mlogloss:1.61090\n",
      "[5]\ttrain-mlogloss:1.29384\tval-mlogloss:1.54198\n",
      "[6]\ttrain-mlogloss:1.20583\tval-mlogloss:1.48036\n",
      "[7]\ttrain-mlogloss:1.12584\tval-mlogloss:1.42770\n",
      "[8]\ttrain-mlogloss:1.05455\tval-mlogloss:1.38392\n",
      "[9]\ttrain-mlogloss:0.98879\tval-mlogloss:1.34189\n",
      "[10]\ttrain-mlogloss:0.93063\tval-mlogloss:1.30711\n",
      "[11]\ttrain-mlogloss:0.88033\tval-mlogloss:1.27264\n",
      "[12]\ttrain-mlogloss:0.82908\tval-mlogloss:1.23845\n",
      "[13]\ttrain-mlogloss:0.78213\tval-mlogloss:1.21074\n",
      "[14]\ttrain-mlogloss:0.74017\tval-mlogloss:1.18504\n",
      "[15]\ttrain-mlogloss:0.70248\tval-mlogloss:1.16355\n",
      "[16]\ttrain-mlogloss:0.66999\tval-mlogloss:1.14654\n",
      "[17]\ttrain-mlogloss:0.63953\tval-mlogloss:1.12951\n",
      "[18]\ttrain-mlogloss:0.60671\tval-mlogloss:1.11477\n",
      "[19]\ttrain-mlogloss:0.58149\tval-mlogloss:1.09940\n",
      "[20]\ttrain-mlogloss:0.55264\tval-mlogloss:1.08474\n",
      "[21]\ttrain-mlogloss:0.53065\tval-mlogloss:1.07147\n",
      "[22]\ttrain-mlogloss:0.50870\tval-mlogloss:1.05940\n",
      "[23]\ttrain-mlogloss:0.48782\tval-mlogloss:1.04748\n",
      "[24]\ttrain-mlogloss:0.46869\tval-mlogloss:1.03603\n",
      "[25]\ttrain-mlogloss:0.44930\tval-mlogloss:1.02733\n",
      "[26]\ttrain-mlogloss:0.42834\tval-mlogloss:1.01889\n",
      "[27]\ttrain-mlogloss:0.41454\tval-mlogloss:1.01113\n",
      "[28]\ttrain-mlogloss:0.39554\tval-mlogloss:1.00391\n",
      "[29]\ttrain-mlogloss:0.38322\tval-mlogloss:0.99890\n",
      "[30]\ttrain-mlogloss:0.36713\tval-mlogloss:0.99375\n",
      "[31]\ttrain-mlogloss:0.35396\tval-mlogloss:0.99019\n",
      "[32]\ttrain-mlogloss:0.33866\tval-mlogloss:0.98708\n",
      "[33]\ttrain-mlogloss:0.32620\tval-mlogloss:0.98328\n",
      "[34]\ttrain-mlogloss:0.31524\tval-mlogloss:0.97981\n",
      "[35]\ttrain-mlogloss:0.30455\tval-mlogloss:0.97728\n",
      "[36]\ttrain-mlogloss:0.29522\tval-mlogloss:0.97605\n",
      "[37]\ttrain-mlogloss:0.28606\tval-mlogloss:0.97433\n",
      "[38]\ttrain-mlogloss:0.27624\tval-mlogloss:0.97365\n",
      "[39]\ttrain-mlogloss:0.26606\tval-mlogloss:0.97108\n",
      "[40]\ttrain-mlogloss:0.25627\tval-mlogloss:0.97082\n",
      "[41]\ttrain-mlogloss:0.24939\tval-mlogloss:0.96874\n",
      "[42]\ttrain-mlogloss:0.23953\tval-mlogloss:0.96727\n",
      "[43]\ttrain-mlogloss:0.23285\tval-mlogloss:0.96647\n",
      "[44]\ttrain-mlogloss:0.22517\tval-mlogloss:0.96615\n",
      "[45]\ttrain-mlogloss:0.21676\tval-mlogloss:0.96527\n",
      "[46]\ttrain-mlogloss:0.21198\tval-mlogloss:0.96478\n",
      "[47]\ttrain-mlogloss:0.20789\tval-mlogloss:0.96452\n",
      "[48]\ttrain-mlogloss:0.20146\tval-mlogloss:0.96449\n",
      "[49]\ttrain-mlogloss:0.19754\tval-mlogloss:0.96493\n",
      "[50]\ttrain-mlogloss:0.19049\tval-mlogloss:0.96585\n",
      "[51]\ttrain-mlogloss:0.18711\tval-mlogloss:0.96718\n",
      "[52]\ttrain-mlogloss:0.18259\tval-mlogloss:0.96880\n",
      "[53]\ttrain-mlogloss:0.17941\tval-mlogloss:0.96961\n",
      "[54]\ttrain-mlogloss:0.17503\tval-mlogloss:0.96918\n",
      "[55]\ttrain-mlogloss:0.16985\tval-mlogloss:0.97094\n",
      "[56]\ttrain-mlogloss:0.16451\tval-mlogloss:0.97208\n",
      "[57]\ttrain-mlogloss:0.15907\tval-mlogloss:0.97203\n",
      "[58]\ttrain-mlogloss:0.15512\tval-mlogloss:0.97278\n",
      "\n",
      "max_depth:10 best_ntree_limit:48\n",
      "\n",
      "[22:56:14] WARNING: ../src/learner.cc:1115: Starting in XGBoost 1.3.0, the default evaluation metric used with the objective 'multi:softmax' was changed from 'merror' to 'mlogloss'. Explicitly set eval_metric if you'd like to restore the old behavior.\n",
      "[0]\ttrain-mlogloss:1.96349\tval-mlogloss:2.02347\n",
      "[1]\ttrain-mlogloss:1.77433\tval-mlogloss:1.89599\n",
      "[2]\ttrain-mlogloss:1.61569\tval-mlogloss:1.78318\n",
      "[3]\ttrain-mlogloss:1.48284\tval-mlogloss:1.68965\n",
      "[4]\ttrain-mlogloss:1.36533\tval-mlogloss:1.61196\n",
      "[5]\ttrain-mlogloss:1.26193\tval-mlogloss:1.54907\n",
      "[6]\ttrain-mlogloss:1.17057\tval-mlogloss:1.48937\n",
      "[7]\ttrain-mlogloss:1.08928\tval-mlogloss:1.43765\n",
      "[8]\ttrain-mlogloss:1.01747\tval-mlogloss:1.39005\n",
      "[9]\ttrain-mlogloss:0.95015\tval-mlogloss:1.34726\n",
      "[10]\ttrain-mlogloss:0.88775\tval-mlogloss:1.31081\n",
      "[11]\ttrain-mlogloss:0.83021\tval-mlogloss:1.27780\n",
      "[12]\ttrain-mlogloss:0.77843\tval-mlogloss:1.24807\n",
      "[13]\ttrain-mlogloss:0.72952\tval-mlogloss:1.22109\n",
      "[14]\ttrain-mlogloss:0.68392\tval-mlogloss:1.19524\n",
      "[15]\ttrain-mlogloss:0.64233\tval-mlogloss:1.17308\n",
      "[16]\ttrain-mlogloss:0.60512\tval-mlogloss:1.15297\n",
      "[17]\ttrain-mlogloss:0.57113\tval-mlogloss:1.13629\n",
      "[18]\ttrain-mlogloss:0.53994\tval-mlogloss:1.11996\n",
      "[19]\ttrain-mlogloss:0.51169\tval-mlogloss:1.10442\n",
      "[20]\ttrain-mlogloss:0.48437\tval-mlogloss:1.09317\n",
      "[21]\ttrain-mlogloss:0.45818\tval-mlogloss:1.08039\n",
      "[22]\ttrain-mlogloss:0.43498\tval-mlogloss:1.07057\n",
      "[23]\ttrain-mlogloss:0.41186\tval-mlogloss:1.06019\n",
      "[24]\ttrain-mlogloss:0.39040\tval-mlogloss:1.05122\n",
      "[25]\ttrain-mlogloss:0.37074\tval-mlogloss:1.04351\n",
      "[26]\ttrain-mlogloss:0.35324\tval-mlogloss:1.03825\n",
      "[27]\ttrain-mlogloss:0.33547\tval-mlogloss:1.03097\n",
      "[28]\ttrain-mlogloss:0.32038\tval-mlogloss:1.02326\n",
      "[29]\ttrain-mlogloss:0.30672\tval-mlogloss:1.01930\n",
      "[30]\ttrain-mlogloss:0.29228\tval-mlogloss:1.01341\n",
      "[31]\ttrain-mlogloss:0.27864\tval-mlogloss:1.00981\n",
      "[32]\ttrain-mlogloss:0.26509\tval-mlogloss:1.00739\n",
      "[33]\ttrain-mlogloss:0.25444\tval-mlogloss:1.00352\n",
      "[34]\ttrain-mlogloss:0.24312\tval-mlogloss:0.99881\n",
      "[35]\ttrain-mlogloss:0.23336\tval-mlogloss:0.99613\n",
      "[36]\ttrain-mlogloss:0.22356\tval-mlogloss:0.99518\n",
      "[37]\ttrain-mlogloss:0.21500\tval-mlogloss:0.99348\n",
      "[38]\ttrain-mlogloss:0.20786\tval-mlogloss:0.99236\n",
      "[39]\ttrain-mlogloss:0.19950\tval-mlogloss:0.99328\n",
      "[40]\ttrain-mlogloss:0.19204\tval-mlogloss:0.99163\n",
      "[41]\ttrain-mlogloss:0.18560\tval-mlogloss:0.99220\n",
      "[42]\ttrain-mlogloss:0.17894\tval-mlogloss:0.99082\n",
      "[43]\ttrain-mlogloss:0.17212\tval-mlogloss:0.99095\n",
      "[44]\ttrain-mlogloss:0.16572\tval-mlogloss:0.99088\n",
      "[45]\ttrain-mlogloss:0.15941\tval-mlogloss:0.99132\n",
      "[46]\ttrain-mlogloss:0.15441\tval-mlogloss:0.99218\n",
      "[47]\ttrain-mlogloss:0.14926\tval-mlogloss:0.99272\n",
      "[48]\ttrain-mlogloss:0.14448\tval-mlogloss:0.99297\n"
     ]
    },
    {
     "name": "stdout",
     "output_type": "stream",
     "text": [
      "[49]\ttrain-mlogloss:0.13939\tval-mlogloss:0.99284\n",
      "[50]\ttrain-mlogloss:0.13492\tval-mlogloss:0.99339\n",
      "[51]\ttrain-mlogloss:0.13056\tval-mlogloss:0.99400\n",
      "\n",
      "max_depth:15 best_ntree_limit:42\n",
      "\n",
      "[22:56:17] WARNING: ../src/learner.cc:1115: Starting in XGBoost 1.3.0, the default evaluation metric used with the objective 'multi:softmax' was changed from 'merror' to 'mlogloss'. Explicitly set eval_metric if you'd like to restore the old behavior.\n",
      "[0]\ttrain-mlogloss:1.96349\tval-mlogloss:2.02347\n",
      "[1]\ttrain-mlogloss:1.77433\tval-mlogloss:1.89599\n",
      "[2]\ttrain-mlogloss:1.61551\tval-mlogloss:1.78319\n",
      "[3]\ttrain-mlogloss:1.48309\tval-mlogloss:1.69335\n",
      "[4]\ttrain-mlogloss:1.36477\tval-mlogloss:1.61672\n",
      "[5]\ttrain-mlogloss:1.26069\tval-mlogloss:1.55116\n",
      "[6]\ttrain-mlogloss:1.16773\tval-mlogloss:1.49161\n",
      "[7]\ttrain-mlogloss:1.08501\tval-mlogloss:1.43895\n",
      "[8]\ttrain-mlogloss:1.00802\tval-mlogloss:1.39127\n",
      "[9]\ttrain-mlogloss:0.94137\tval-mlogloss:1.34895\n",
      "[10]\ttrain-mlogloss:0.87838\tval-mlogloss:1.30923\n",
      "[11]\ttrain-mlogloss:0.82058\tval-mlogloss:1.27552\n",
      "[12]\ttrain-mlogloss:0.76723\tval-mlogloss:1.24184\n",
      "[13]\ttrain-mlogloss:0.71820\tval-mlogloss:1.21462\n",
      "[14]\ttrain-mlogloss:0.67312\tval-mlogloss:1.19062\n",
      "[15]\ttrain-mlogloss:0.63231\tval-mlogloss:1.16686\n",
      "[16]\ttrain-mlogloss:0.59435\tval-mlogloss:1.14958\n",
      "[17]\ttrain-mlogloss:0.55960\tval-mlogloss:1.13359\n",
      "[18]\ttrain-mlogloss:0.52690\tval-mlogloss:1.11518\n",
      "[19]\ttrain-mlogloss:0.49639\tval-mlogloss:1.09880\n",
      "[20]\ttrain-mlogloss:0.46807\tval-mlogloss:1.08492\n",
      "[21]\ttrain-mlogloss:0.44171\tval-mlogloss:1.07347\n",
      "[22]\ttrain-mlogloss:0.41690\tval-mlogloss:1.06359\n",
      "[23]\ttrain-mlogloss:0.39402\tval-mlogloss:1.05299\n",
      "[24]\ttrain-mlogloss:0.37241\tval-mlogloss:1.04344\n",
      "[25]\ttrain-mlogloss:0.35266\tval-mlogloss:1.03533\n",
      "[26]\ttrain-mlogloss:0.33446\tval-mlogloss:1.02704\n",
      "[27]\ttrain-mlogloss:0.31678\tval-mlogloss:1.01986\n",
      "[28]\ttrain-mlogloss:0.30083\tval-mlogloss:1.01416\n",
      "[29]\ttrain-mlogloss:0.28655\tval-mlogloss:1.00872\n",
      "[30]\ttrain-mlogloss:0.27274\tval-mlogloss:1.00516\n",
      "[31]\ttrain-mlogloss:0.25960\tval-mlogloss:1.00222\n",
      "[32]\ttrain-mlogloss:0.24729\tval-mlogloss:0.99847\n",
      "[33]\ttrain-mlogloss:0.23566\tval-mlogloss:0.99661\n",
      "[34]\ttrain-mlogloss:0.22477\tval-mlogloss:0.99421\n",
      "[35]\ttrain-mlogloss:0.21457\tval-mlogloss:0.99120\n",
      "[36]\ttrain-mlogloss:0.20499\tval-mlogloss:0.98894\n",
      "[37]\ttrain-mlogloss:0.19623\tval-mlogloss:0.98743\n",
      "[38]\ttrain-mlogloss:0.18784\tval-mlogloss:0.98709\n",
      "[39]\ttrain-mlogloss:0.18022\tval-mlogloss:0.98709\n",
      "[40]\ttrain-mlogloss:0.17297\tval-mlogloss:0.98672\n",
      "[41]\ttrain-mlogloss:0.16628\tval-mlogloss:0.98656\n",
      "[42]\ttrain-mlogloss:0.16009\tval-mlogloss:0.98668\n",
      "[43]\ttrain-mlogloss:0.15415\tval-mlogloss:0.98566\n",
      "[44]\ttrain-mlogloss:0.14868\tval-mlogloss:0.98558\n",
      "[45]\ttrain-mlogloss:0.14344\tval-mlogloss:0.98584\n",
      "[46]\ttrain-mlogloss:0.13849\tval-mlogloss:0.98682\n",
      "[47]\ttrain-mlogloss:0.13380\tval-mlogloss:0.98629\n",
      "[48]\ttrain-mlogloss:0.12913\tval-mlogloss:0.98663\n",
      "[49]\ttrain-mlogloss:0.12495\tval-mlogloss:0.98687\n",
      "[50]\ttrain-mlogloss:0.12106\tval-mlogloss:0.98862\n",
      "[51]\ttrain-mlogloss:0.11731\tval-mlogloss:0.98924\n",
      "[52]\ttrain-mlogloss:0.11377\tval-mlogloss:0.98877\n",
      "[53]\ttrain-mlogloss:0.11043\tval-mlogloss:0.98955\n",
      "\n",
      "max_depth:20 best_ntree_limit:44\n",
      "\n",
      "[22:56:20] WARNING: ../src/learner.cc:1115: Starting in XGBoost 1.3.0, the default evaluation metric used with the objective 'multi:softmax' was changed from 'merror' to 'mlogloss'. Explicitly set eval_metric if you'd like to restore the old behavior.\n",
      "[0]\ttrain-mlogloss:1.96349\tval-mlogloss:2.02347\n",
      "[1]\ttrain-mlogloss:1.77433\tval-mlogloss:1.89599\n",
      "[2]\ttrain-mlogloss:1.61551\tval-mlogloss:1.78319\n",
      "[3]\ttrain-mlogloss:1.48309\tval-mlogloss:1.69335\n",
      "[4]\ttrain-mlogloss:1.36477\tval-mlogloss:1.61672\n",
      "[5]\ttrain-mlogloss:1.26062\tval-mlogloss:1.55079\n",
      "[6]\ttrain-mlogloss:1.16766\tval-mlogloss:1.49125\n",
      "[7]\ttrain-mlogloss:1.08484\tval-mlogloss:1.43899\n",
      "[8]\ttrain-mlogloss:1.00782\tval-mlogloss:1.39331\n",
      "[9]\ttrain-mlogloss:0.93991\tval-mlogloss:1.34987\n",
      "[10]\ttrain-mlogloss:0.87694\tval-mlogloss:1.30851\n",
      "[11]\ttrain-mlogloss:0.82000\tval-mlogloss:1.27527\n",
      "[12]\ttrain-mlogloss:0.76683\tval-mlogloss:1.24161\n",
      "[13]\ttrain-mlogloss:0.71801\tval-mlogloss:1.21772\n",
      "[14]\ttrain-mlogloss:0.67305\tval-mlogloss:1.19058\n",
      "[15]\ttrain-mlogloss:0.63183\tval-mlogloss:1.17074\n",
      "[16]\ttrain-mlogloss:0.59344\tval-mlogloss:1.15104\n",
      "[17]\ttrain-mlogloss:0.55815\tval-mlogloss:1.13376\n",
      "[18]\ttrain-mlogloss:0.52504\tval-mlogloss:1.11706\n",
      "[19]\ttrain-mlogloss:0.49443\tval-mlogloss:1.10031\n",
      "[20]\ttrain-mlogloss:0.46654\tval-mlogloss:1.08898\n",
      "[21]\ttrain-mlogloss:0.43992\tval-mlogloss:1.07597\n",
      "[22]\ttrain-mlogloss:0.41514\tval-mlogloss:1.06401\n",
      "[23]\ttrain-mlogloss:0.39230\tval-mlogloss:1.05370\n",
      "[24]\ttrain-mlogloss:0.37114\tval-mlogloss:1.04476\n",
      "[25]\ttrain-mlogloss:0.35127\tval-mlogloss:1.03623\n",
      "[26]\ttrain-mlogloss:0.33294\tval-mlogloss:1.02770\n",
      "[27]\ttrain-mlogloss:0.31582\tval-mlogloss:1.01966\n",
      "[28]\ttrain-mlogloss:0.29986\tval-mlogloss:1.01341\n",
      "[29]\ttrain-mlogloss:0.28503\tval-mlogloss:1.00761\n",
      "[30]\ttrain-mlogloss:0.27121\tval-mlogloss:1.00297\n",
      "[31]\ttrain-mlogloss:0.25841\tval-mlogloss:0.99783\n",
      "[32]\ttrain-mlogloss:0.24662\tval-mlogloss:0.99534\n",
      "[33]\ttrain-mlogloss:0.23495\tval-mlogloss:0.99207\n",
      "[34]\ttrain-mlogloss:0.22453\tval-mlogloss:0.98965\n",
      "[35]\ttrain-mlogloss:0.21448\tval-mlogloss:0.98708\n",
      "[36]\ttrain-mlogloss:0.20477\tval-mlogloss:0.98592\n",
      "[37]\ttrain-mlogloss:0.19596\tval-mlogloss:0.98265\n",
      "[38]\ttrain-mlogloss:0.18783\tval-mlogloss:0.98047\n",
      "[39]\ttrain-mlogloss:0.18015\tval-mlogloss:0.97902\n",
      "[40]\ttrain-mlogloss:0.17313\tval-mlogloss:0.97782\n",
      "[41]\ttrain-mlogloss:0.16638\tval-mlogloss:0.97758\n",
      "[42]\ttrain-mlogloss:0.16013\tval-mlogloss:0.97600\n",
      "[43]\ttrain-mlogloss:0.15426\tval-mlogloss:0.97547\n",
      "[44]\ttrain-mlogloss:0.14861\tval-mlogloss:0.97495\n",
      "[45]\ttrain-mlogloss:0.14344\tval-mlogloss:0.97520\n",
      "[46]\ttrain-mlogloss:0.13866\tval-mlogloss:0.97477\n",
      "[47]\ttrain-mlogloss:0.13401\tval-mlogloss:0.97561\n",
      "[48]\ttrain-mlogloss:0.12948\tval-mlogloss:0.97667\n",
      "[49]\ttrain-mlogloss:0.12526\tval-mlogloss:0.97723\n",
      "[50]\ttrain-mlogloss:0.12135\tval-mlogloss:0.97809\n",
      "[51]\ttrain-mlogloss:0.11767\tval-mlogloss:0.97825\n",
      "[52]\ttrain-mlogloss:0.11421\tval-mlogloss:0.98010\n",
      "[53]\ttrain-mlogloss:0.11070\tval-mlogloss:0.98024\n",
      "[54]\ttrain-mlogloss:0.10754\tval-mlogloss:0.98094\n",
      "[55]\ttrain-mlogloss:0.10440\tval-mlogloss:0.98272\n",
      "\n",
      "max_depth:25 best_ntree_limit:46\n",
      "\n"
     ]
    }
   ],
   "source": [
    "\n",
    "values = [1,2,3,4,5,6,7,8,9,10,15,20,25]\n",
    "xgb_progressbar = xgb_progress(num_rounds*len(values))\n",
    "\n",
    "scores = {}\n",
    "xgb_params['eta'] = 0.1\n",
    "\n",
    "for max_d in values:\n",
    "    \n",
    "    progress = dict()\n",
    "\n",
    "    xgb_params['max_depth'] = max_d\n",
    "\n",
    "    xgb_model = xgb.train(\n",
    "        xgb_params, \n",
    "        df_train_xgb, \n",
    "        num_boost_round=num_rounds, \n",
    "        early_stopping_rounds=early_stop,\n",
    "        verbose_eval=1, \n",
    "        evals=watchlist,\n",
    "        callbacks=[xgb_progressbar],\n",
    "        evals_result=progress,\n",
    "    )\n",
    "    \n",
    "    print(f\"\\nmax_depth:{max_d} best_ntree_limit:{xgb_model.best_ntree_limit-1}\\n\")\n",
    "    \n",
    "    scores[max_d] = progress['val']['mlogloss']"
   ]
  },
  {
   "cell_type": "code",
   "execution_count": 141,
   "metadata": {},
   "outputs": [
    {
     "data": {
      "text/plain": [
       "<matplotlib.legend.Legend at 0x7f70fb8e9f10>"
      ]
     },
     "execution_count": 141,
     "metadata": {},
     "output_type": "execute_result"
    },
    {
     "data": {
      "image/png": "[encoded data removed]",
      "text/plain": [
       "<Figure size 432x288 with 1 Axes>"
      ]
     },
     "metadata": {
      "needs_background": "light"
     },
     "output_type": "display_data"
    }
   ],
   "source": [
    "for k,v in scores.items():\n",
    "    plt.plot(v, label=f\"max_d:{k}\")\n",
    "plt.xlabel(\"Round\")\n",
    "plt.ylabel(\"Log-Loss\")\n",
    "plt.legend()"
   ]
  },
  {
   "cell_type": "code",
   "execution_count": 142,
   "metadata": {},
   "outputs": [
    {
     "data": {
      "text/plain": [
       "<matplotlib.legend.Legend at 0x7f70d8db4c40>"
      ]
     },
     "execution_count": 142,
     "metadata": {},
     "output_type": "execute_result"
    },
    {
     "data": {
      "image/png": "[encoded data removed]",
      "text/plain": [
       "<Figure size 432x288 with 1 Axes>"
      ]
     },
     "metadata": {
      "needs_background": "light"
     },
     "output_type": "display_data"
    }
   ],
   "source": [
    "for k,v in scores.items():\n",
    "    plt.plot(v, label=f\"max_d:{k}\")\n",
    "plt.xlabel(\"Round\")\n",
    "plt.ylabel(\"Log-Loss\")\n",
    "plt.ylim(0.9,1.2)\n",
    "plt.legend()"
   ]
  },
  {
   "cell_type": "code",
   "execution_count": 143,
   "metadata": {},
   "outputs": [
    {
     "name": "stdout",
     "output_type": "stream",
     "text": [
      "max_d: 1 - min LogLoss:0.977372\n",
      "max_d: 2 - min LogLoss:0.985138\n",
      "max_d: 3 - min LogLoss:0.975004\n",
      "max_d: 4 - min LogLoss:0.964742\n",
      "max_d: 5 - min LogLoss:0.962189\n",
      "max_d: 6 - min LogLoss:0.949808\n",
      "max_d: 7 - min LogLoss:0.948696\n",
      "max_d: 8 - min LogLoss:0.963921\n",
      "max_d: 9 - min LogLoss:0.9642\n",
      "max_d:10 - min LogLoss:0.964495\n",
      "max_d:15 - min LogLoss:0.990815\n",
      "max_d:20 - min LogLoss:0.985584\n",
      "max_d:25 - min LogLoss:0.974769\n"
     ]
    }
   ],
   "source": [
    "for k,v in scores.items():\n",
    "    print(f\"max_d:{k:2} - min LogLoss:{min(v)}\")"
   ]
  },
  {
   "cell_type": "markdown",
   "metadata": {},
   "source": [
    "### **----- TMP RESULT -----**\n",
    "\n",
    "> The best `Log-Loss` for a **XBoost Classification** appears to be around `0.948` with `eta=0.1` and `max_depth=7`\n",
    "---"
   ]
  },
  {
   "cell_type": "markdown",
   "metadata": {},
   "source": [
    "### Search best `min_child_weight`  <a class=\"anchor\" id=\"P04_xgboost_min_child_weight\"></a>"
   ]
  },
  {
   "cell_type": "code",
   "execution_count": 144,
   "metadata": {},
   "outputs": [
    {
     "data": {
      "application/vnd.jupyter.widget-view+json": {
       "model_id": "cc8e09bae6944a12ab51f3074862bf04",
       "version_major": 2,
       "version_minor": 0
      },
      "text/plain": [
       "  0%|          | 0/1300 [00:00<?, ?it/s]"
      ]
     },
     "metadata": {},
     "output_type": "display_data"
    },
    {
     "name": "stdout",
     "output_type": "stream",
     "text": [
      "[22:56:48] WARNING: ../src/learner.cc:1115: Starting in XGBoost 1.3.0, the default evaluation metric used with the objective 'multi:softmax' was changed from 'merror' to 'mlogloss'. Explicitly set eval_metric if you'd like to restore the old behavior.\n",
      "[0]\ttrain-mlogloss:1.97383\tval-mlogloss:2.02395\n",
      "[1]\ttrain-mlogloss:1.80305\tval-mlogloss:1.89123\n",
      "[2]\ttrain-mlogloss:1.66197\tval-mlogloss:1.77504\n",
      "[3]\ttrain-mlogloss:1.54420\tval-mlogloss:1.68447\n",
      "[4]\ttrain-mlogloss:1.43976\tval-mlogloss:1.60504\n",
      "[5]\ttrain-mlogloss:1.34825\tval-mlogloss:1.53821\n",
      "[6]\ttrain-mlogloss:1.26856\tval-mlogloss:1.47883\n",
      "[7]\ttrain-mlogloss:1.19515\tval-mlogloss:1.42694\n",
      "[8]\ttrain-mlogloss:1.12988\tval-mlogloss:1.38223\n",
      "[9]\ttrain-mlogloss:1.06924\tval-mlogloss:1.34197\n",
      "[10]\ttrain-mlogloss:1.01503\tval-mlogloss:1.30504\n",
      "[11]\ttrain-mlogloss:0.96492\tval-mlogloss:1.26923\n",
      "[12]\ttrain-mlogloss:0.91887\tval-mlogloss:1.23860\n",
      "[13]\ttrain-mlogloss:0.87924\tval-mlogloss:1.21178\n",
      "[14]\ttrain-mlogloss:0.84074\tval-mlogloss:1.18626\n",
      "[15]\ttrain-mlogloss:0.80808\tval-mlogloss:1.16613\n",
      "[16]\ttrain-mlogloss:0.77655\tval-mlogloss:1.14612\n",
      "[17]\ttrain-mlogloss:0.74420\tval-mlogloss:1.12973\n",
      "[18]\ttrain-mlogloss:0.71814\tval-mlogloss:1.11468\n",
      "[19]\ttrain-mlogloss:0.69485\tval-mlogloss:1.10260\n",
      "[20]\ttrain-mlogloss:0.67067\tval-mlogloss:1.08935\n",
      "[21]\ttrain-mlogloss:0.64919\tval-mlogloss:1.07521\n",
      "[22]\ttrain-mlogloss:0.62581\tval-mlogloss:1.06320\n",
      "[23]\ttrain-mlogloss:0.60691\tval-mlogloss:1.05145\n",
      "[24]\ttrain-mlogloss:0.58631\tval-mlogloss:1.04114\n",
      "[25]\ttrain-mlogloss:0.56868\tval-mlogloss:1.03289\n",
      "[26]\ttrain-mlogloss:0.55233\tval-mlogloss:1.02621\n",
      "[27]\ttrain-mlogloss:0.53869\tval-mlogloss:1.01931\n",
      "[28]\ttrain-mlogloss:0.52526\tval-mlogloss:1.01286\n",
      "[29]\ttrain-mlogloss:0.51259\tval-mlogloss:1.00756\n",
      "[30]\ttrain-mlogloss:0.49804\tval-mlogloss:1.00308\n",
      "[31]\ttrain-mlogloss:0.48610\tval-mlogloss:0.99849\n",
      "[32]\ttrain-mlogloss:0.47600\tval-mlogloss:0.99289\n",
      "[33]\ttrain-mlogloss:0.46543\tval-mlogloss:0.98962\n",
      "[34]\ttrain-mlogloss:0.45566\tval-mlogloss:0.98645\n",
      "[35]\ttrain-mlogloss:0.44660\tval-mlogloss:0.98323\n",
      "[36]\ttrain-mlogloss:0.43873\tval-mlogloss:0.97931\n",
      "[37]\ttrain-mlogloss:0.42818\tval-mlogloss:0.97617\n",
      "[38]\ttrain-mlogloss:0.41971\tval-mlogloss:0.97419\n",
      "[39]\ttrain-mlogloss:0.41058\tval-mlogloss:0.97212\n",
      "[40]\ttrain-mlogloss:0.40307\tval-mlogloss:0.96962\n",
      "[41]\ttrain-mlogloss:0.39329\tval-mlogloss:0.96792\n",
      "[42]\ttrain-mlogloss:0.38363\tval-mlogloss:0.96527\n",
      "[43]\ttrain-mlogloss:0.37417\tval-mlogloss:0.96317\n",
      "[44]\ttrain-mlogloss:0.36872\tval-mlogloss:0.96087\n",
      "[45]\ttrain-mlogloss:0.36240\tval-mlogloss:0.96060\n",
      "[46]\ttrain-mlogloss:0.35671\tval-mlogloss:0.95844\n",
      "[47]\ttrain-mlogloss:0.34919\tval-mlogloss:0.95672\n",
      "[48]\ttrain-mlogloss:0.34168\tval-mlogloss:0.95494\n",
      "[49]\ttrain-mlogloss:0.33449\tval-mlogloss:0.95459\n",
      "[50]\ttrain-mlogloss:0.32836\tval-mlogloss:0.95374\n",
      "[51]\ttrain-mlogloss:0.32328\tval-mlogloss:0.95280\n",
      "[52]\ttrain-mlogloss:0.31745\tval-mlogloss:0.95320\n",
      "[53]\ttrain-mlogloss:0.31273\tval-mlogloss:0.95268\n",
      "[54]\ttrain-mlogloss:0.30789\tval-mlogloss:0.95189\n",
      "[55]\ttrain-mlogloss:0.30387\tval-mlogloss:0.95191\n",
      "[56]\ttrain-mlogloss:0.29952\tval-mlogloss:0.95126\n",
      "[57]\ttrain-mlogloss:0.29137\tval-mlogloss:0.95026\n",
      "[58]\ttrain-mlogloss:0.28460\tval-mlogloss:0.94907\n",
      "[59]\ttrain-mlogloss:0.27941\tval-mlogloss:0.94878\n",
      "[60]\ttrain-mlogloss:0.27532\tval-mlogloss:0.94869\n",
      "[61]\ttrain-mlogloss:0.27081\tval-mlogloss:0.94925\n",
      "[62]\ttrain-mlogloss:0.26713\tval-mlogloss:0.95013\n",
      "[63]\ttrain-mlogloss:0.26178\tval-mlogloss:0.94986\n",
      "[64]\ttrain-mlogloss:0.25777\tval-mlogloss:0.95089\n",
      "[65]\ttrain-mlogloss:0.25148\tval-mlogloss:0.95270\n",
      "[66]\ttrain-mlogloss:0.24815\tval-mlogloss:0.95368\n",
      "[67]\ttrain-mlogloss:0.24273\tval-mlogloss:0.95469\n",
      "[68]\ttrain-mlogloss:0.23998\tval-mlogloss:0.95541\n",
      "[69]\ttrain-mlogloss:0.23785\tval-mlogloss:0.95704\n",
      "\n",
      "min_child_weight:1 best_ntree_limit:60\n",
      "\n",
      "[22:56:53] WARNING: ../src/learner.cc:1115: Starting in XGBoost 1.3.0, the default evaluation metric used with the objective 'multi:softmax' was changed from 'merror' to 'mlogloss'. Explicitly set eval_metric if you'd like to restore the old behavior.\n",
      "[0]\ttrain-mlogloss:1.98238\tval-mlogloss:2.02349\n",
      "[1]\ttrain-mlogloss:1.81909\tval-mlogloss:1.88478\n",
      "[2]\ttrain-mlogloss:1.68503\tval-mlogloss:1.77548\n",
      "[3]\ttrain-mlogloss:1.57099\tval-mlogloss:1.68654\n",
      "[4]\ttrain-mlogloss:1.47379\tval-mlogloss:1.60890\n",
      "[5]\ttrain-mlogloss:1.38564\tval-mlogloss:1.53937\n",
      "[6]\ttrain-mlogloss:1.30631\tval-mlogloss:1.48139\n",
      "[7]\ttrain-mlogloss:1.23787\tval-mlogloss:1.43154\n",
      "[8]\ttrain-mlogloss:1.17753\tval-mlogloss:1.38636\n",
      "[9]\ttrain-mlogloss:1.11633\tval-mlogloss:1.34270\n",
      "[10]\ttrain-mlogloss:1.06430\tval-mlogloss:1.30690\n",
      "[11]\ttrain-mlogloss:1.01758\tval-mlogloss:1.27420\n",
      "[12]\ttrain-mlogloss:0.97240\tval-mlogloss:1.24272\n",
      "[13]\ttrain-mlogloss:0.93288\tval-mlogloss:1.21649\n",
      "[14]\ttrain-mlogloss:0.89496\tval-mlogloss:1.19048\n",
      "[15]\ttrain-mlogloss:0.86297\tval-mlogloss:1.16965\n",
      "[16]\ttrain-mlogloss:0.83047\tval-mlogloss:1.14840\n",
      "[17]\ttrain-mlogloss:0.80329\tval-mlogloss:1.13124\n",
      "[18]\ttrain-mlogloss:0.77583\tval-mlogloss:1.11397\n",
      "[19]\ttrain-mlogloss:0.75123\tval-mlogloss:1.09975\n",
      "[20]\ttrain-mlogloss:0.72645\tval-mlogloss:1.08639\n",
      "[21]\ttrain-mlogloss:0.70566\tval-mlogloss:1.07598\n",
      "[22]\ttrain-mlogloss:0.68578\tval-mlogloss:1.06332\n",
      "[23]\ttrain-mlogloss:0.66769\tval-mlogloss:1.05301\n",
      "[24]\ttrain-mlogloss:0.65118\tval-mlogloss:1.04438\n",
      "[25]\ttrain-mlogloss:0.63510\tval-mlogloss:1.03555\n",
      "[26]\ttrain-mlogloss:0.61800\tval-mlogloss:1.02739\n",
      "[27]\ttrain-mlogloss:0.60258\tval-mlogloss:1.02201\n",
      "[28]\ttrain-mlogloss:0.58802\tval-mlogloss:1.01643\n",
      "[29]\ttrain-mlogloss:0.57382\tval-mlogloss:1.01036\n",
      "[30]\ttrain-mlogloss:0.56146\tval-mlogloss:1.00699\n",
      "[31]\ttrain-mlogloss:0.54727\tval-mlogloss:1.00226\n",
      "[32]\ttrain-mlogloss:0.53321\tval-mlogloss:0.99776\n",
      "[33]\ttrain-mlogloss:0.52337\tval-mlogloss:0.99352\n",
      "[34]\ttrain-mlogloss:0.51427\tval-mlogloss:0.99056\n",
      "[35]\ttrain-mlogloss:0.50424\tval-mlogloss:0.98835\n",
      "[36]\ttrain-mlogloss:0.49439\tval-mlogloss:0.98629\n",
      "[37]\ttrain-mlogloss:0.48452\tval-mlogloss:0.98430\n",
      "[38]\ttrain-mlogloss:0.47728\tval-mlogloss:0.98195\n",
      "[39]\ttrain-mlogloss:0.46969\tval-mlogloss:0.97950\n",
      "[40]\ttrain-mlogloss:0.46141\tval-mlogloss:0.97737\n",
      "[41]\ttrain-mlogloss:0.45514\tval-mlogloss:0.97564\n",
      "[42]\ttrain-mlogloss:0.44931\tval-mlogloss:0.97489\n",
      "[43]\ttrain-mlogloss:0.44299\tval-mlogloss:0.97345\n",
      "[44]\ttrain-mlogloss:0.43356\tval-mlogloss:0.97161\n",
      "[45]\ttrain-mlogloss:0.42729\tval-mlogloss:0.97055\n",
      "[46]\ttrain-mlogloss:0.42140\tval-mlogloss:0.96916\n",
      "[47]\ttrain-mlogloss:0.41615\tval-mlogloss:0.96847\n",
      "[48]\ttrain-mlogloss:0.41019\tval-mlogloss:0.96706\n",
      "[49]\ttrain-mlogloss:0.40333\tval-mlogloss:0.96554\n",
      "[50]\ttrain-mlogloss:0.39763\tval-mlogloss:0.96530\n",
      "[51]\ttrain-mlogloss:0.39025\tval-mlogloss:0.96421\n",
      "[52]\ttrain-mlogloss:0.38540\tval-mlogloss:0.96374\n",
      "[53]\ttrain-mlogloss:0.37787\tval-mlogloss:0.96528\n",
      "[54]\ttrain-mlogloss:0.37378\tval-mlogloss:0.96510\n",
      "[55]\ttrain-mlogloss:0.36980\tval-mlogloss:0.96483\n",
      "[56]\ttrain-mlogloss:0.36318\tval-mlogloss:0.96521\n",
      "[57]\ttrain-mlogloss:0.35836\tval-mlogloss:0.96400\n",
      "[58]\ttrain-mlogloss:0.35424\tval-mlogloss:0.96314\n",
      "[59]\ttrain-mlogloss:0.35044\tval-mlogloss:0.96265\n",
      "[60]\ttrain-mlogloss:0.34589\tval-mlogloss:0.96110\n",
      "[61]\ttrain-mlogloss:0.34159\tval-mlogloss:0.96189\n",
      "[62]\ttrain-mlogloss:0.33773\tval-mlogloss:0.96149\n",
      "[63]\ttrain-mlogloss:0.33494\tval-mlogloss:0.96165\n",
      "[64]\ttrain-mlogloss:0.33186\tval-mlogloss:0.96219\n",
      "[65]\ttrain-mlogloss:0.32609\tval-mlogloss:0.96260\n",
      "[66]\ttrain-mlogloss:0.32054\tval-mlogloss:0.96261\n",
      "[67]\ttrain-mlogloss:0.31554\tval-mlogloss:0.96272\n",
      "[68]\ttrain-mlogloss:0.31261\tval-mlogloss:0.96251\n",
      "[69]\ttrain-mlogloss:0.30837\tval-mlogloss:0.96215\n",
      "[70]\ttrain-mlogloss:0.30500\tval-mlogloss:0.96382\n",
      "\n",
      "min_child_weight:2 best_ntree_limit:60\n",
      "\n",
      "[22:56:58] WARNING: ../src/learner.cc:1115: Starting in XGBoost 1.3.0, the default evaluation metric used with the objective 'multi:softmax' was changed from 'merror' to 'mlogloss'. Explicitly set eval_metric if you'd like to restore the old behavior.\n",
      "[0]\ttrain-mlogloss:1.98833\tval-mlogloss:2.02424\n",
      "[1]\ttrain-mlogloss:1.82662\tval-mlogloss:1.88526\n",
      "[2]\ttrain-mlogloss:1.69514\tval-mlogloss:1.77349\n",
      "[3]\ttrain-mlogloss:1.58420\tval-mlogloss:1.68256\n",
      "[4]\ttrain-mlogloss:1.48856\tval-mlogloss:1.60563\n",
      "[5]\ttrain-mlogloss:1.40348\tval-mlogloss:1.53986\n",
      "[6]\ttrain-mlogloss:1.32757\tval-mlogloss:1.48086\n",
      "[7]\ttrain-mlogloss:1.26077\tval-mlogloss:1.43124\n",
      "[8]\ttrain-mlogloss:1.20264\tval-mlogloss:1.38681\n",
      "[9]\ttrain-mlogloss:1.14643\tval-mlogloss:1.34468\n"
     ]
    },
    {
     "name": "stdout",
     "output_type": "stream",
     "text": [
      "[10]\ttrain-mlogloss:1.09835\tval-mlogloss:1.30960\n",
      "[11]\ttrain-mlogloss:1.05539\tval-mlogloss:1.27703\n",
      "[12]\ttrain-mlogloss:1.01081\tval-mlogloss:1.24778\n",
      "[13]\ttrain-mlogloss:0.97331\tval-mlogloss:1.22116\n",
      "[14]\ttrain-mlogloss:0.93846\tval-mlogloss:1.19768\n",
      "[15]\ttrain-mlogloss:0.90779\tval-mlogloss:1.17621\n",
      "[16]\ttrain-mlogloss:0.87631\tval-mlogloss:1.15582\n",
      "[17]\ttrain-mlogloss:0.84879\tval-mlogloss:1.14021\n",
      "[18]\ttrain-mlogloss:0.82540\tval-mlogloss:1.12397\n",
      "[19]\ttrain-mlogloss:0.80132\tval-mlogloss:1.11003\n",
      "[20]\ttrain-mlogloss:0.77643\tval-mlogloss:1.09629\n",
      "[21]\ttrain-mlogloss:0.75422\tval-mlogloss:1.08614\n",
      "[22]\ttrain-mlogloss:0.73172\tval-mlogloss:1.07616\n",
      "[23]\ttrain-mlogloss:0.71347\tval-mlogloss:1.06746\n",
      "[24]\ttrain-mlogloss:0.69514\tval-mlogloss:1.05807\n",
      "[25]\ttrain-mlogloss:0.67771\tval-mlogloss:1.05118\n",
      "[26]\ttrain-mlogloss:0.66026\tval-mlogloss:1.04254\n",
      "[27]\ttrain-mlogloss:0.64580\tval-mlogloss:1.03514\n",
      "[28]\ttrain-mlogloss:0.63011\tval-mlogloss:1.02794\n",
      "[29]\ttrain-mlogloss:0.61815\tval-mlogloss:1.02069\n",
      "[30]\ttrain-mlogloss:0.60721\tval-mlogloss:1.01563\n",
      "[31]\ttrain-mlogloss:0.59675\tval-mlogloss:1.01077\n",
      "[32]\ttrain-mlogloss:0.58511\tval-mlogloss:1.00593\n",
      "[33]\ttrain-mlogloss:0.57372\tval-mlogloss:1.00135\n",
      "[34]\ttrain-mlogloss:0.56177\tval-mlogloss:0.99833\n",
      "[35]\ttrain-mlogloss:0.55182\tval-mlogloss:0.99431\n",
      "[36]\ttrain-mlogloss:0.53935\tval-mlogloss:0.99145\n",
      "[37]\ttrain-mlogloss:0.52973\tval-mlogloss:0.98961\n",
      "[38]\ttrain-mlogloss:0.52297\tval-mlogloss:0.98678\n",
      "[39]\ttrain-mlogloss:0.51396\tval-mlogloss:0.98346\n",
      "[40]\ttrain-mlogloss:0.50802\tval-mlogloss:0.98159\n",
      "[41]\ttrain-mlogloss:0.50058\tval-mlogloss:0.97957\n",
      "[42]\ttrain-mlogloss:0.49047\tval-mlogloss:0.97777\n",
      "[43]\ttrain-mlogloss:0.48515\tval-mlogloss:0.97579\n",
      "[44]\ttrain-mlogloss:0.47918\tval-mlogloss:0.97437\n",
      "[45]\ttrain-mlogloss:0.47330\tval-mlogloss:0.97300\n",
      "[46]\ttrain-mlogloss:0.46528\tval-mlogloss:0.97115\n",
      "[47]\ttrain-mlogloss:0.45977\tval-mlogloss:0.97016\n",
      "[48]\ttrain-mlogloss:0.45299\tval-mlogloss:0.97012\n",
      "[49]\ttrain-mlogloss:0.44575\tval-mlogloss:0.96885\n",
      "[50]\ttrain-mlogloss:0.44082\tval-mlogloss:0.96805\n",
      "[51]\ttrain-mlogloss:0.43567\tval-mlogloss:0.96691\n",
      "[52]\ttrain-mlogloss:0.43090\tval-mlogloss:0.96584\n",
      "[53]\ttrain-mlogloss:0.42651\tval-mlogloss:0.96559\n",
      "[54]\ttrain-mlogloss:0.42121\tval-mlogloss:0.96512\n",
      "[55]\ttrain-mlogloss:0.41600\tval-mlogloss:0.96322\n",
      "[56]\ttrain-mlogloss:0.41191\tval-mlogloss:0.96353\n",
      "[57]\ttrain-mlogloss:0.40381\tval-mlogloss:0.96213\n",
      "[58]\ttrain-mlogloss:0.39985\tval-mlogloss:0.96208\n",
      "[59]\ttrain-mlogloss:0.39646\tval-mlogloss:0.96217\n",
      "[60]\ttrain-mlogloss:0.39146\tval-mlogloss:0.96074\n",
      "[61]\ttrain-mlogloss:0.38510\tval-mlogloss:0.95980\n",
      "[62]\ttrain-mlogloss:0.38179\tval-mlogloss:0.96005\n",
      "[63]\ttrain-mlogloss:0.37852\tval-mlogloss:0.95995\n",
      "[64]\ttrain-mlogloss:0.37452\tval-mlogloss:0.95947\n",
      "[65]\ttrain-mlogloss:0.37095\tval-mlogloss:0.95965\n",
      "[66]\ttrain-mlogloss:0.36702\tval-mlogloss:0.95928\n",
      "[67]\ttrain-mlogloss:0.36407\tval-mlogloss:0.95926\n",
      "[68]\ttrain-mlogloss:0.35973\tval-mlogloss:0.95957\n",
      "[69]\ttrain-mlogloss:0.35646\tval-mlogloss:0.95823\n",
      "[70]\ttrain-mlogloss:0.35059\tval-mlogloss:0.95918\n",
      "[71]\ttrain-mlogloss:0.34809\tval-mlogloss:0.95917\n",
      "[72]\ttrain-mlogloss:0.34503\tval-mlogloss:0.95939\n",
      "[73]\ttrain-mlogloss:0.34115\tval-mlogloss:0.95953\n",
      "[74]\ttrain-mlogloss:0.33681\tval-mlogloss:0.95842\n",
      "[75]\ttrain-mlogloss:0.33429\tval-mlogloss:0.95771\n",
      "[76]\ttrain-mlogloss:0.33112\tval-mlogloss:0.95732\n",
      "[77]\ttrain-mlogloss:0.32853\tval-mlogloss:0.95737\n",
      "[78]\ttrain-mlogloss:0.32537\tval-mlogloss:0.95704\n",
      "[79]\ttrain-mlogloss:0.32315\tval-mlogloss:0.95736\n",
      "[80]\ttrain-mlogloss:0.32028\tval-mlogloss:0.95806\n",
      "[81]\ttrain-mlogloss:0.31716\tval-mlogloss:0.95881\n",
      "[82]\ttrain-mlogloss:0.31512\tval-mlogloss:0.95952\n",
      "[83]\ttrain-mlogloss:0.31147\tval-mlogloss:0.96063\n",
      "[84]\ttrain-mlogloss:0.30750\tval-mlogloss:0.96049\n",
      "[85]\ttrain-mlogloss:0.30512\tval-mlogloss:0.96104\n",
      "[86]\ttrain-mlogloss:0.30177\tval-mlogloss:0.96270\n",
      "[87]\ttrain-mlogloss:0.29775\tval-mlogloss:0.96350\n",
      "[88]\ttrain-mlogloss:0.29533\tval-mlogloss:0.96302\n",
      "\n",
      "min_child_weight:3 best_ntree_limit:78\n",
      "\n",
      "[22:57:02] WARNING: ../src/learner.cc:1115: Starting in XGBoost 1.3.0, the default evaluation metric used with the objective 'multi:softmax' was changed from 'merror' to 'mlogloss'. Explicitly set eval_metric if you'd like to restore the old behavior.\n",
      "[0]\ttrain-mlogloss:1.99430\tval-mlogloss:2.02132\n",
      "[1]\ttrain-mlogloss:1.83843\tval-mlogloss:1.88436\n",
      "[2]\ttrain-mlogloss:1.70954\tval-mlogloss:1.77180\n",
      "[3]\ttrain-mlogloss:1.60061\tval-mlogloss:1.67946\n",
      "[4]\ttrain-mlogloss:1.50672\tval-mlogloss:1.60293\n",
      "[5]\ttrain-mlogloss:1.42452\tval-mlogloss:1.53478\n",
      "[6]\ttrain-mlogloss:1.35186\tval-mlogloss:1.47724\n",
      "[7]\ttrain-mlogloss:1.28647\tval-mlogloss:1.42489\n",
      "[8]\ttrain-mlogloss:1.22897\tval-mlogloss:1.37869\n",
      "[9]\ttrain-mlogloss:1.17635\tval-mlogloss:1.33784\n",
      "[10]\ttrain-mlogloss:1.12606\tval-mlogloss:1.30235\n",
      "[11]\ttrain-mlogloss:1.08139\tval-mlogloss:1.26938\n",
      "[12]\ttrain-mlogloss:1.04215\tval-mlogloss:1.23964\n",
      "[13]\ttrain-mlogloss:1.00693\tval-mlogloss:1.21485\n",
      "[14]\ttrain-mlogloss:0.97488\tval-mlogloss:1.19351\n",
      "[15]\ttrain-mlogloss:0.94276\tval-mlogloss:1.17141\n",
      "[16]\ttrain-mlogloss:0.91539\tval-mlogloss:1.15382\n",
      "[17]\ttrain-mlogloss:0.88861\tval-mlogloss:1.13838\n",
      "[18]\ttrain-mlogloss:0.86154\tval-mlogloss:1.12204\n",
      "[19]\ttrain-mlogloss:0.83888\tval-mlogloss:1.10676\n",
      "[20]\ttrain-mlogloss:0.81428\tval-mlogloss:1.09366\n",
      "[21]\ttrain-mlogloss:0.78985\tval-mlogloss:1.08191\n",
      "[22]\ttrain-mlogloss:0.77242\tval-mlogloss:1.07159\n",
      "[23]\ttrain-mlogloss:0.75259\tval-mlogloss:1.06073\n",
      "[24]\ttrain-mlogloss:0.73372\tval-mlogloss:1.05101\n",
      "[25]\ttrain-mlogloss:0.71520\tval-mlogloss:1.04402\n",
      "[26]\ttrain-mlogloss:0.69765\tval-mlogloss:1.03535\n",
      "[27]\ttrain-mlogloss:0.68244\tval-mlogloss:1.02895\n",
      "[28]\ttrain-mlogloss:0.67009\tval-mlogloss:1.02324\n",
      "[29]\ttrain-mlogloss:0.65986\tval-mlogloss:1.01869\n",
      "[30]\ttrain-mlogloss:0.64914\tval-mlogloss:1.01417\n",
      "[31]\ttrain-mlogloss:0.63809\tval-mlogloss:1.00910\n",
      "[32]\ttrain-mlogloss:0.62800\tval-mlogloss:1.00508\n",
      "[33]\ttrain-mlogloss:0.61690\tval-mlogloss:1.00138\n",
      "[34]\ttrain-mlogloss:0.60575\tval-mlogloss:0.99794\n",
      "[35]\ttrain-mlogloss:0.59602\tval-mlogloss:0.99335\n",
      "[36]\ttrain-mlogloss:0.58797\tval-mlogloss:0.99033\n",
      "[37]\ttrain-mlogloss:0.57881\tval-mlogloss:0.98714\n",
      "[38]\ttrain-mlogloss:0.57146\tval-mlogloss:0.98528\n",
      "[39]\ttrain-mlogloss:0.56384\tval-mlogloss:0.98354\n",
      "[40]\ttrain-mlogloss:0.55742\tval-mlogloss:0.98165\n",
      "[41]\ttrain-mlogloss:0.54793\tval-mlogloss:0.98007\n",
      "[42]\ttrain-mlogloss:0.53968\tval-mlogloss:0.97716\n",
      "[43]\ttrain-mlogloss:0.53352\tval-mlogloss:0.97607\n",
      "[44]\ttrain-mlogloss:0.52346\tval-mlogloss:0.97292\n",
      "[45]\ttrain-mlogloss:0.51151\tval-mlogloss:0.97036\n",
      "[46]\ttrain-mlogloss:0.50294\tval-mlogloss:0.96781\n",
      "[47]\ttrain-mlogloss:0.49464\tval-mlogloss:0.96703\n",
      "[48]\ttrain-mlogloss:0.48743\tval-mlogloss:0.96600\n",
      "[49]\ttrain-mlogloss:0.48037\tval-mlogloss:0.96428\n",
      "[50]\ttrain-mlogloss:0.47510\tval-mlogloss:0.96404\n",
      "[51]\ttrain-mlogloss:0.46971\tval-mlogloss:0.96333\n",
      "[52]\ttrain-mlogloss:0.46482\tval-mlogloss:0.96255\n",
      "[53]\ttrain-mlogloss:0.46048\tval-mlogloss:0.96206\n",
      "[54]\ttrain-mlogloss:0.45533\tval-mlogloss:0.96146\n",
      "[55]\ttrain-mlogloss:0.45123\tval-mlogloss:0.96108\n",
      "[56]\ttrain-mlogloss:0.44392\tval-mlogloss:0.96054\n",
      "[57]\ttrain-mlogloss:0.43862\tval-mlogloss:0.96004\n",
      "[58]\ttrain-mlogloss:0.43471\tval-mlogloss:0.95944\n",
      "[59]\ttrain-mlogloss:0.43044\tval-mlogloss:0.95996\n",
      "[60]\ttrain-mlogloss:0.42642\tval-mlogloss:0.95919\n",
      "[61]\ttrain-mlogloss:0.42115\tval-mlogloss:0.95978\n",
      "[62]\ttrain-mlogloss:0.41764\tval-mlogloss:0.95949\n",
      "[63]\ttrain-mlogloss:0.41446\tval-mlogloss:0.95890\n",
      "[64]\ttrain-mlogloss:0.40791\tval-mlogloss:0.95763\n",
      "[65]\ttrain-mlogloss:0.40415\tval-mlogloss:0.95724\n",
      "[66]\ttrain-mlogloss:0.39807\tval-mlogloss:0.95761\n",
      "[67]\ttrain-mlogloss:0.39347\tval-mlogloss:0.95699\n",
      "[68]\ttrain-mlogloss:0.38889\tval-mlogloss:0.95647\n",
      "[69]\ttrain-mlogloss:0.38326\tval-mlogloss:0.95723\n",
      "[70]\ttrain-mlogloss:0.37927\tval-mlogloss:0.95746\n",
      "[71]\ttrain-mlogloss:0.37507\tval-mlogloss:0.95698\n",
      "[72]\ttrain-mlogloss:0.37119\tval-mlogloss:0.95637\n",
      "[73]\ttrain-mlogloss:0.36537\tval-mlogloss:0.95837\n",
      "[74]\ttrain-mlogloss:0.36189\tval-mlogloss:0.96025\n",
      "[75]\ttrain-mlogloss:0.35735\tval-mlogloss:0.96070\n",
      "[76]\ttrain-mlogloss:0.35284\tval-mlogloss:0.95976\n",
      "[77]\ttrain-mlogloss:0.34883\tval-mlogloss:0.95970\n",
      "[78]\ttrain-mlogloss:0.34589\tval-mlogloss:0.96025\n",
      "[79]\ttrain-mlogloss:0.34303\tval-mlogloss:0.95979\n",
      "[80]\ttrain-mlogloss:0.33855\tval-mlogloss:0.96132\n",
      "[81]\ttrain-mlogloss:0.33535\tval-mlogloss:0.96353\n",
      "[82]\ttrain-mlogloss:0.33214\tval-mlogloss:0.96460\n"
     ]
    },
    {
     "name": "stdout",
     "output_type": "stream",
     "text": [
      "\n",
      "min_child_weight:4 best_ntree_limit:72\n",
      "\n",
      "[22:57:07] WARNING: ../src/learner.cc:1115: Starting in XGBoost 1.3.0, the default evaluation metric used with the objective 'multi:softmax' was changed from 'merror' to 'mlogloss'. Explicitly set eval_metric if you'd like to restore the old behavior.\n",
      "[0]\ttrain-mlogloss:1.99603\tval-mlogloss:2.02094\n",
      "[1]\ttrain-mlogloss:1.84279\tval-mlogloss:1.88025\n",
      "[2]\ttrain-mlogloss:1.71862\tval-mlogloss:1.76988\n",
      "[3]\ttrain-mlogloss:1.61129\tval-mlogloss:1.67993\n",
      "[4]\ttrain-mlogloss:1.51939\tval-mlogloss:1.60400\n",
      "[5]\ttrain-mlogloss:1.43851\tval-mlogloss:1.53796\n",
      "[6]\ttrain-mlogloss:1.36581\tval-mlogloss:1.47924\n",
      "[7]\ttrain-mlogloss:1.30112\tval-mlogloss:1.42741\n",
      "[8]\ttrain-mlogloss:1.24280\tval-mlogloss:1.37999\n",
      "[9]\ttrain-mlogloss:1.19066\tval-mlogloss:1.34016\n",
      "[10]\ttrain-mlogloss:1.14185\tval-mlogloss:1.30299\n",
      "[11]\ttrain-mlogloss:1.09811\tval-mlogloss:1.27116\n",
      "[12]\ttrain-mlogloss:1.05773\tval-mlogloss:1.24303\n",
      "[13]\ttrain-mlogloss:1.02213\tval-mlogloss:1.21875\n",
      "[14]\ttrain-mlogloss:0.98968\tval-mlogloss:1.19812\n",
      "[15]\ttrain-mlogloss:0.95799\tval-mlogloss:1.17689\n",
      "[16]\ttrain-mlogloss:0.93046\tval-mlogloss:1.15791\n",
      "[17]\ttrain-mlogloss:0.90515\tval-mlogloss:1.14141\n",
      "[18]\ttrain-mlogloss:0.88138\tval-mlogloss:1.12561\n",
      "[19]\ttrain-mlogloss:0.85959\tval-mlogloss:1.11060\n",
      "[20]\ttrain-mlogloss:0.83876\tval-mlogloss:1.09699\n",
      "[21]\ttrain-mlogloss:0.81991\tval-mlogloss:1.08404\n",
      "[22]\ttrain-mlogloss:0.80232\tval-mlogloss:1.07267\n",
      "[23]\ttrain-mlogloss:0.78486\tval-mlogloss:1.06341\n",
      "[24]\ttrain-mlogloss:0.76758\tval-mlogloss:1.05533\n",
      "[25]\ttrain-mlogloss:0.74860\tval-mlogloss:1.04769\n",
      "[26]\ttrain-mlogloss:0.73246\tval-mlogloss:1.04279\n",
      "[27]\ttrain-mlogloss:0.71856\tval-mlogloss:1.03602\n",
      "[28]\ttrain-mlogloss:0.70514\tval-mlogloss:1.03182\n",
      "[29]\ttrain-mlogloss:0.69312\tval-mlogloss:1.02674\n",
      "[30]\ttrain-mlogloss:0.68137\tval-mlogloss:1.02153\n",
      "[31]\ttrain-mlogloss:0.67000\tval-mlogloss:1.01618\n",
      "[32]\ttrain-mlogloss:0.65955\tval-mlogloss:1.01156\n",
      "[33]\ttrain-mlogloss:0.64939\tval-mlogloss:1.00629\n",
      "[34]\ttrain-mlogloss:0.63841\tval-mlogloss:1.00134\n",
      "[35]\ttrain-mlogloss:0.62863\tval-mlogloss:0.99780\n",
      "[36]\ttrain-mlogloss:0.61843\tval-mlogloss:0.99472\n",
      "[37]\ttrain-mlogloss:0.60986\tval-mlogloss:0.99289\n",
      "[38]\ttrain-mlogloss:0.59761\tval-mlogloss:0.98847\n",
      "[39]\ttrain-mlogloss:0.59077\tval-mlogloss:0.98568\n",
      "[40]\ttrain-mlogloss:0.58345\tval-mlogloss:0.98408\n",
      "[41]\ttrain-mlogloss:0.57617\tval-mlogloss:0.98357\n",
      "[42]\ttrain-mlogloss:0.56708\tval-mlogloss:0.98176\n",
      "[43]\ttrain-mlogloss:0.55995\tval-mlogloss:0.97973\n",
      "[44]\ttrain-mlogloss:0.55302\tval-mlogloss:0.97849\n",
      "[45]\ttrain-mlogloss:0.54712\tval-mlogloss:0.97595\n",
      "[46]\ttrain-mlogloss:0.53978\tval-mlogloss:0.97557\n",
      "[47]\ttrain-mlogloss:0.53381\tval-mlogloss:0.97413\n",
      "[48]\ttrain-mlogloss:0.52870\tval-mlogloss:0.97259\n",
      "[49]\ttrain-mlogloss:0.52317\tval-mlogloss:0.97221\n",
      "[50]\ttrain-mlogloss:0.51703\tval-mlogloss:0.97081\n",
      "[51]\ttrain-mlogloss:0.50876\tval-mlogloss:0.97162\n",
      "[52]\ttrain-mlogloss:0.50380\tval-mlogloss:0.96934\n",
      "[53]\ttrain-mlogloss:0.49999\tval-mlogloss:0.96887\n",
      "[54]\ttrain-mlogloss:0.49473\tval-mlogloss:0.96664\n",
      "[55]\ttrain-mlogloss:0.49071\tval-mlogloss:0.96610\n",
      "[56]\ttrain-mlogloss:0.48539\tval-mlogloss:0.96544\n",
      "[57]\ttrain-mlogloss:0.48059\tval-mlogloss:0.96385\n",
      "[58]\ttrain-mlogloss:0.47726\tval-mlogloss:0.96366\n",
      "[59]\ttrain-mlogloss:0.47339\tval-mlogloss:0.96337\n",
      "[60]\ttrain-mlogloss:0.46947\tval-mlogloss:0.96213\n",
      "[61]\ttrain-mlogloss:0.46348\tval-mlogloss:0.96069\n",
      "[62]\ttrain-mlogloss:0.45722\tval-mlogloss:0.95899\n",
      "[63]\ttrain-mlogloss:0.45442\tval-mlogloss:0.95862\n",
      "[64]\ttrain-mlogloss:0.44778\tval-mlogloss:0.95837\n",
      "[65]\ttrain-mlogloss:0.44488\tval-mlogloss:0.95772\n",
      "[66]\ttrain-mlogloss:0.44219\tval-mlogloss:0.95716\n",
      "[67]\ttrain-mlogloss:0.43723\tval-mlogloss:0.95707\n",
      "[68]\ttrain-mlogloss:0.43432\tval-mlogloss:0.95715\n",
      "[69]\ttrain-mlogloss:0.42890\tval-mlogloss:0.95712\n",
      "[70]\ttrain-mlogloss:0.42597\tval-mlogloss:0.95766\n",
      "[71]\ttrain-mlogloss:0.42372\tval-mlogloss:0.95863\n",
      "[72]\ttrain-mlogloss:0.41935\tval-mlogloss:0.95809\n",
      "[73]\ttrain-mlogloss:0.41437\tval-mlogloss:0.95726\n",
      "[74]\ttrain-mlogloss:0.41245\tval-mlogloss:0.95710\n",
      "[75]\ttrain-mlogloss:0.40831\tval-mlogloss:0.95643\n",
      "[76]\ttrain-mlogloss:0.40385\tval-mlogloss:0.95805\n",
      "[77]\ttrain-mlogloss:0.40181\tval-mlogloss:0.95747\n",
      "[78]\ttrain-mlogloss:0.39684\tval-mlogloss:0.95834\n",
      "[79]\ttrain-mlogloss:0.39411\tval-mlogloss:0.95969\n",
      "[80]\ttrain-mlogloss:0.39049\tval-mlogloss:0.95842\n",
      "[81]\ttrain-mlogloss:0.38616\tval-mlogloss:0.95932\n",
      "[82]\ttrain-mlogloss:0.38406\tval-mlogloss:0.95968\n",
      "[83]\ttrain-mlogloss:0.38108\tval-mlogloss:0.96105\n",
      "[84]\ttrain-mlogloss:0.37818\tval-mlogloss:0.96027\n",
      "\n",
      "min_child_weight:5 best_ntree_limit:75\n",
      "\n",
      "[22:57:12] WARNING: ../src/learner.cc:1115: Starting in XGBoost 1.3.0, the default evaluation metric used with the objective 'multi:softmax' was changed from 'merror' to 'mlogloss'. Explicitly set eval_metric if you'd like to restore the old behavior.\n",
      "[0]\ttrain-mlogloss:1.99957\tval-mlogloss:2.02229\n",
      "[1]\ttrain-mlogloss:1.84757\tval-mlogloss:1.88326\n",
      "[2]\ttrain-mlogloss:1.72194\tval-mlogloss:1.77356\n",
      "[3]\ttrain-mlogloss:1.61651\tval-mlogloss:1.68045\n",
      "[4]\ttrain-mlogloss:1.52524\tval-mlogloss:1.60207\n",
      "[5]\ttrain-mlogloss:1.44584\tval-mlogloss:1.53703\n",
      "[6]\ttrain-mlogloss:1.37543\tval-mlogloss:1.47945\n",
      "[7]\ttrain-mlogloss:1.31256\tval-mlogloss:1.42913\n",
      "[8]\ttrain-mlogloss:1.25730\tval-mlogloss:1.38283\n",
      "[9]\ttrain-mlogloss:1.20584\tval-mlogloss:1.34312\n",
      "[10]\ttrain-mlogloss:1.15922\tval-mlogloss:1.30690\n",
      "[11]\ttrain-mlogloss:1.11810\tval-mlogloss:1.27556\n",
      "[12]\ttrain-mlogloss:1.07764\tval-mlogloss:1.24752\n",
      "[13]\ttrain-mlogloss:1.04225\tval-mlogloss:1.22321\n",
      "[14]\ttrain-mlogloss:1.00991\tval-mlogloss:1.20127\n",
      "[15]\ttrain-mlogloss:0.97978\tval-mlogloss:1.18079\n",
      "[16]\ttrain-mlogloss:0.95260\tval-mlogloss:1.16182\n",
      "[17]\ttrain-mlogloss:0.92618\tval-mlogloss:1.14453\n",
      "[18]\ttrain-mlogloss:0.89982\tval-mlogloss:1.12945\n",
      "[19]\ttrain-mlogloss:0.87940\tval-mlogloss:1.11340\n",
      "[20]\ttrain-mlogloss:0.85898\tval-mlogloss:1.10019\n",
      "[21]\ttrain-mlogloss:0.84023\tval-mlogloss:1.08750\n",
      "[22]\ttrain-mlogloss:0.82207\tval-mlogloss:1.07628\n",
      "[23]\ttrain-mlogloss:0.80312\tval-mlogloss:1.06679\n",
      "[24]\ttrain-mlogloss:0.78493\tval-mlogloss:1.05796\n",
      "[25]\ttrain-mlogloss:0.76728\tval-mlogloss:1.05032\n",
      "[26]\ttrain-mlogloss:0.75042\tval-mlogloss:1.04259\n",
      "[27]\ttrain-mlogloss:0.73794\tval-mlogloss:1.03519\n",
      "[28]\ttrain-mlogloss:0.72484\tval-mlogloss:1.03042\n",
      "[29]\ttrain-mlogloss:0.71202\tval-mlogloss:1.02471\n",
      "[30]\ttrain-mlogloss:0.69961\tval-mlogloss:1.01996\n",
      "[31]\ttrain-mlogloss:0.69034\tval-mlogloss:1.01424\n",
      "[32]\ttrain-mlogloss:0.68141\tval-mlogloss:1.00941\n",
      "[33]\ttrain-mlogloss:0.67158\tval-mlogloss:1.00522\n",
      "[34]\ttrain-mlogloss:0.66325\tval-mlogloss:1.00162\n",
      "[35]\ttrain-mlogloss:0.65398\tval-mlogloss:0.99709\n",
      "[36]\ttrain-mlogloss:0.64619\tval-mlogloss:0.99422\n",
      "[37]\ttrain-mlogloss:0.63797\tval-mlogloss:0.99202\n",
      "[38]\ttrain-mlogloss:0.62905\tval-mlogloss:0.98903\n",
      "[39]\ttrain-mlogloss:0.61878\tval-mlogloss:0.98759\n",
      "[40]\ttrain-mlogloss:0.61191\tval-mlogloss:0.98657\n",
      "[41]\ttrain-mlogloss:0.60500\tval-mlogloss:0.98516\n",
      "[42]\ttrain-mlogloss:0.59589\tval-mlogloss:0.98270\n",
      "[43]\ttrain-mlogloss:0.58812\tval-mlogloss:0.98104\n",
      "[44]\ttrain-mlogloss:0.58149\tval-mlogloss:0.97763\n",
      "[45]\ttrain-mlogloss:0.57586\tval-mlogloss:0.97652\n",
      "[46]\ttrain-mlogloss:0.56863\tval-mlogloss:0.97552\n",
      "[47]\ttrain-mlogloss:0.56376\tval-mlogloss:0.97478\n",
      "[48]\ttrain-mlogloss:0.55706\tval-mlogloss:0.97252\n",
      "[49]\ttrain-mlogloss:0.54988\tval-mlogloss:0.97172\n",
      "[50]\ttrain-mlogloss:0.54370\tval-mlogloss:0.96968\n",
      "[51]\ttrain-mlogloss:0.53655\tval-mlogloss:0.96784\n",
      "[52]\ttrain-mlogloss:0.53118\tval-mlogloss:0.96652\n",
      "[53]\ttrain-mlogloss:0.52587\tval-mlogloss:0.96548\n",
      "[54]\ttrain-mlogloss:0.51896\tval-mlogloss:0.96369\n",
      "[55]\ttrain-mlogloss:0.51439\tval-mlogloss:0.96389\n",
      "[56]\ttrain-mlogloss:0.50962\tval-mlogloss:0.96392\n",
      "[57]\ttrain-mlogloss:0.50458\tval-mlogloss:0.96414\n",
      "[58]\ttrain-mlogloss:0.50063\tval-mlogloss:0.96360\n",
      "[59]\ttrain-mlogloss:0.49734\tval-mlogloss:0.96326\n",
      "[60]\ttrain-mlogloss:0.49299\tval-mlogloss:0.96288\n",
      "[61]\ttrain-mlogloss:0.48926\tval-mlogloss:0.96248\n",
      "[62]\ttrain-mlogloss:0.48277\tval-mlogloss:0.96244\n",
      "[63]\ttrain-mlogloss:0.47829\tval-mlogloss:0.96098\n",
      "[64]\ttrain-mlogloss:0.47510\tval-mlogloss:0.96039\n",
      "[65]\ttrain-mlogloss:0.47223\tval-mlogloss:0.96159\n",
      "[66]\ttrain-mlogloss:0.46653\tval-mlogloss:0.96057\n",
      "[67]\ttrain-mlogloss:0.46292\tval-mlogloss:0.95906\n",
      "[68]\ttrain-mlogloss:0.46004\tval-mlogloss:0.95854\n",
      "[69]\ttrain-mlogloss:0.45626\tval-mlogloss:0.95785\n",
      "[70]\ttrain-mlogloss:0.45312\tval-mlogloss:0.95883\n"
     ]
    },
    {
     "name": "stdout",
     "output_type": "stream",
     "text": [
      "[71]\ttrain-mlogloss:0.45058\tval-mlogloss:0.95940\n",
      "[72]\ttrain-mlogloss:0.44779\tval-mlogloss:0.95935\n",
      "[73]\ttrain-mlogloss:0.44481\tval-mlogloss:0.95932\n",
      "[74]\ttrain-mlogloss:0.44198\tval-mlogloss:0.96081\n",
      "[75]\ttrain-mlogloss:0.43934\tval-mlogloss:0.96168\n",
      "[76]\ttrain-mlogloss:0.43645\tval-mlogloss:0.96280\n",
      "[77]\ttrain-mlogloss:0.43397\tval-mlogloss:0.96254\n",
      "[78]\ttrain-mlogloss:0.43236\tval-mlogloss:0.96256\n",
      "[79]\ttrain-mlogloss:0.43025\tval-mlogloss:0.96418\n",
      "\n",
      "min_child_weight:6 best_ntree_limit:69\n",
      "\n",
      "[22:57:16] WARNING: ../src/learner.cc:1115: Starting in XGBoost 1.3.0, the default evaluation metric used with the objective 'multi:softmax' was changed from 'merror' to 'mlogloss'. Explicitly set eval_metric if you'd like to restore the old behavior.\n",
      "[0]\ttrain-mlogloss:2.00468\tval-mlogloss:2.02256\n",
      "[1]\ttrain-mlogloss:1.85604\tval-mlogloss:1.88676\n",
      "[2]\ttrain-mlogloss:1.73216\tval-mlogloss:1.77658\n",
      "[3]\ttrain-mlogloss:1.62886\tval-mlogloss:1.68551\n",
      "[4]\ttrain-mlogloss:1.53895\tval-mlogloss:1.60940\n",
      "[5]\ttrain-mlogloss:1.45879\tval-mlogloss:1.54265\n",
      "[6]\ttrain-mlogloss:1.38852\tval-mlogloss:1.48342\n",
      "[7]\ttrain-mlogloss:1.32519\tval-mlogloss:1.43206\n",
      "[8]\ttrain-mlogloss:1.27019\tval-mlogloss:1.38775\n",
      "[9]\ttrain-mlogloss:1.21950\tval-mlogloss:1.34753\n",
      "[10]\ttrain-mlogloss:1.17261\tval-mlogloss:1.31369\n",
      "[11]\ttrain-mlogloss:1.12954\tval-mlogloss:1.28202\n",
      "[12]\ttrain-mlogloss:1.09209\tval-mlogloss:1.25277\n",
      "[13]\ttrain-mlogloss:1.05534\tval-mlogloss:1.22706\n",
      "[14]\ttrain-mlogloss:1.02441\tval-mlogloss:1.20317\n",
      "[15]\ttrain-mlogloss:0.99649\tval-mlogloss:1.18151\n",
      "[16]\ttrain-mlogloss:0.96820\tval-mlogloss:1.16271\n",
      "[17]\ttrain-mlogloss:0.94200\tval-mlogloss:1.14613\n",
      "[18]\ttrain-mlogloss:0.91961\tval-mlogloss:1.12971\n",
      "[19]\ttrain-mlogloss:0.89982\tval-mlogloss:1.11445\n",
      "[20]\ttrain-mlogloss:0.87959\tval-mlogloss:1.10086\n",
      "[21]\ttrain-mlogloss:0.86136\tval-mlogloss:1.08778\n",
      "[22]\ttrain-mlogloss:0.84480\tval-mlogloss:1.07664\n",
      "[23]\ttrain-mlogloss:0.83018\tval-mlogloss:1.06580\n",
      "[24]\ttrain-mlogloss:0.81380\tval-mlogloss:1.05750\n",
      "[25]\ttrain-mlogloss:0.79872\tval-mlogloss:1.04882\n",
      "[26]\ttrain-mlogloss:0.78420\tval-mlogloss:1.04198\n",
      "[27]\ttrain-mlogloss:0.77213\tval-mlogloss:1.03646\n",
      "[28]\ttrain-mlogloss:0.75881\tval-mlogloss:1.02951\n",
      "[29]\ttrain-mlogloss:0.74753\tval-mlogloss:1.02515\n",
      "[30]\ttrain-mlogloss:0.73621\tval-mlogloss:1.01932\n",
      "[31]\ttrain-mlogloss:0.72514\tval-mlogloss:1.01332\n",
      "[32]\ttrain-mlogloss:0.71555\tval-mlogloss:1.00943\n",
      "[33]\ttrain-mlogloss:0.70699\tval-mlogloss:1.00587\n",
      "[34]\ttrain-mlogloss:0.69822\tval-mlogloss:1.00168\n",
      "[35]\ttrain-mlogloss:0.68982\tval-mlogloss:0.99801\n",
      "[36]\ttrain-mlogloss:0.68046\tval-mlogloss:0.99618\n",
      "[37]\ttrain-mlogloss:0.66937\tval-mlogloss:0.99237\n",
      "[38]\ttrain-mlogloss:0.66170\tval-mlogloss:0.98931\n",
      "[39]\ttrain-mlogloss:0.65201\tval-mlogloss:0.98599\n",
      "[40]\ttrain-mlogloss:0.64533\tval-mlogloss:0.98377\n",
      "[41]\ttrain-mlogloss:0.63639\tval-mlogloss:0.98147\n",
      "[42]\ttrain-mlogloss:0.62929\tval-mlogloss:0.97835\n",
      "[43]\ttrain-mlogloss:0.62252\tval-mlogloss:0.97674\n",
      "[44]\ttrain-mlogloss:0.61674\tval-mlogloss:0.97450\n",
      "[45]\ttrain-mlogloss:0.60994\tval-mlogloss:0.97265\n",
      "[46]\ttrain-mlogloss:0.60286\tval-mlogloss:0.96949\n",
      "[47]\ttrain-mlogloss:0.59766\tval-mlogloss:0.96752\n",
      "[48]\ttrain-mlogloss:0.59149\tval-mlogloss:0.96543\n",
      "[49]\ttrain-mlogloss:0.58507\tval-mlogloss:0.96465\n",
      "[50]\ttrain-mlogloss:0.58012\tval-mlogloss:0.96391\n",
      "[51]\ttrain-mlogloss:0.57370\tval-mlogloss:0.96162\n",
      "[52]\ttrain-mlogloss:0.56685\tval-mlogloss:0.96068\n",
      "[53]\ttrain-mlogloss:0.56301\tval-mlogloss:0.95941\n",
      "[54]\ttrain-mlogloss:0.55861\tval-mlogloss:0.95908\n",
      "[55]\ttrain-mlogloss:0.55266\tval-mlogloss:0.95784\n",
      "[56]\ttrain-mlogloss:0.54905\tval-mlogloss:0.95639\n",
      "[57]\ttrain-mlogloss:0.54501\tval-mlogloss:0.95482\n",
      "[58]\ttrain-mlogloss:0.54045\tval-mlogloss:0.95418\n",
      "[59]\ttrain-mlogloss:0.53559\tval-mlogloss:0.95255\n",
      "[60]\ttrain-mlogloss:0.53132\tval-mlogloss:0.95217\n",
      "[61]\ttrain-mlogloss:0.52791\tval-mlogloss:0.95169\n",
      "[62]\ttrain-mlogloss:0.52494\tval-mlogloss:0.95061\n",
      "[63]\ttrain-mlogloss:0.52104\tval-mlogloss:0.95166\n",
      "[64]\ttrain-mlogloss:0.51834\tval-mlogloss:0.95190\n",
      "[65]\ttrain-mlogloss:0.51461\tval-mlogloss:0.95258\n",
      "[66]\ttrain-mlogloss:0.51156\tval-mlogloss:0.95346\n",
      "[67]\ttrain-mlogloss:0.50853\tval-mlogloss:0.95366\n",
      "[68]\ttrain-mlogloss:0.50621\tval-mlogloss:0.95491\n",
      "[69]\ttrain-mlogloss:0.50178\tval-mlogloss:0.95437\n",
      "[70]\ttrain-mlogloss:0.49844\tval-mlogloss:0.95471\n",
      "[71]\ttrain-mlogloss:0.49469\tval-mlogloss:0.95511\n",
      "\n",
      "min_child_weight:7 best_ntree_limit:62\n",
      "\n",
      "[22:57:20] WARNING: ../src/learner.cc:1115: Starting in XGBoost 1.3.0, the default evaluation metric used with the objective 'multi:softmax' was changed from 'merror' to 'mlogloss'. Explicitly set eval_metric if you'd like to restore the old behavior.\n",
      "[0]\ttrain-mlogloss:2.00661\tval-mlogloss:2.02411\n",
      "[1]\ttrain-mlogloss:1.85963\tval-mlogloss:1.89015\n",
      "[2]\ttrain-mlogloss:1.73916\tval-mlogloss:1.78166\n",
      "[3]\ttrain-mlogloss:1.63526\tval-mlogloss:1.69199\n",
      "[4]\ttrain-mlogloss:1.54314\tval-mlogloss:1.61675\n",
      "[5]\ttrain-mlogloss:1.46633\tval-mlogloss:1.55168\n",
      "[6]\ttrain-mlogloss:1.39820\tval-mlogloss:1.49281\n",
      "[7]\ttrain-mlogloss:1.33550\tval-mlogloss:1.44199\n",
      "[8]\ttrain-mlogloss:1.27890\tval-mlogloss:1.39385\n",
      "[9]\ttrain-mlogloss:1.22806\tval-mlogloss:1.35264\n",
      "[10]\ttrain-mlogloss:1.18389\tval-mlogloss:1.31858\n",
      "[11]\ttrain-mlogloss:1.14244\tval-mlogloss:1.28644\n",
      "[12]\ttrain-mlogloss:1.10323\tval-mlogloss:1.25978\n",
      "[13]\ttrain-mlogloss:1.06686\tval-mlogloss:1.23276\n",
      "[14]\ttrain-mlogloss:1.03542\tval-mlogloss:1.20940\n",
      "[15]\ttrain-mlogloss:1.00590\tval-mlogloss:1.18731\n",
      "[16]\ttrain-mlogloss:0.98088\tval-mlogloss:1.16840\n",
      "[17]\ttrain-mlogloss:0.95760\tval-mlogloss:1.14957\n",
      "[18]\ttrain-mlogloss:0.93487\tval-mlogloss:1.13295\n",
      "[19]\ttrain-mlogloss:0.91393\tval-mlogloss:1.11781\n",
      "[20]\ttrain-mlogloss:0.89602\tval-mlogloss:1.10418\n",
      "[21]\ttrain-mlogloss:0.87819\tval-mlogloss:1.09347\n",
      "[22]\ttrain-mlogloss:0.86080\tval-mlogloss:1.08153\n",
      "[23]\ttrain-mlogloss:0.84615\tval-mlogloss:1.07144\n",
      "[24]\ttrain-mlogloss:0.83028\tval-mlogloss:1.06190\n",
      "[25]\ttrain-mlogloss:0.81416\tval-mlogloss:1.05417\n",
      "[26]\ttrain-mlogloss:0.79845\tval-mlogloss:1.04587\n",
      "[27]\ttrain-mlogloss:0.78492\tval-mlogloss:1.03989\n",
      "[28]\ttrain-mlogloss:0.77468\tval-mlogloss:1.03359\n",
      "[29]\ttrain-mlogloss:0.76432\tval-mlogloss:1.02922\n",
      "[30]\ttrain-mlogloss:0.75223\tval-mlogloss:1.02278\n",
      "[31]\ttrain-mlogloss:0.74016\tval-mlogloss:1.01974\n",
      "[32]\ttrain-mlogloss:0.73082\tval-mlogloss:1.01499\n",
      "[33]\ttrain-mlogloss:0.71924\tval-mlogloss:1.00916\n",
      "[34]\ttrain-mlogloss:0.70964\tval-mlogloss:1.00587\n",
      "[35]\ttrain-mlogloss:0.69991\tval-mlogloss:1.00085\n",
      "[36]\ttrain-mlogloss:0.69141\tval-mlogloss:0.99789\n",
      "[37]\ttrain-mlogloss:0.68473\tval-mlogloss:0.99491\n",
      "[38]\ttrain-mlogloss:0.67645\tval-mlogloss:0.98970\n",
      "[39]\ttrain-mlogloss:0.66877\tval-mlogloss:0.98611\n",
      "[40]\ttrain-mlogloss:0.65939\tval-mlogloss:0.98360\n",
      "[41]\ttrain-mlogloss:0.65192\tval-mlogloss:0.98061\n",
      "[42]\ttrain-mlogloss:0.64387\tval-mlogloss:0.97899\n",
      "[43]\ttrain-mlogloss:0.63772\tval-mlogloss:0.97678\n",
      "[44]\ttrain-mlogloss:0.63165\tval-mlogloss:0.97480\n",
      "[45]\ttrain-mlogloss:0.62520\tval-mlogloss:0.97174\n",
      "[46]\ttrain-mlogloss:0.62123\tval-mlogloss:0.97021\n",
      "[47]\ttrain-mlogloss:0.61619\tval-mlogloss:0.96817\n",
      "[48]\ttrain-mlogloss:0.61163\tval-mlogloss:0.96774\n",
      "[49]\ttrain-mlogloss:0.60579\tval-mlogloss:0.96554\n",
      "[50]\ttrain-mlogloss:0.60160\tval-mlogloss:0.96467\n",
      "[51]\ttrain-mlogloss:0.59727\tval-mlogloss:0.96329\n",
      "[52]\ttrain-mlogloss:0.59288\tval-mlogloss:0.96222\n",
      "[53]\ttrain-mlogloss:0.58879\tval-mlogloss:0.96221\n",
      "[54]\ttrain-mlogloss:0.58268\tval-mlogloss:0.96008\n",
      "[55]\ttrain-mlogloss:0.57720\tval-mlogloss:0.95910\n",
      "[56]\ttrain-mlogloss:0.57297\tval-mlogloss:0.95895\n",
      "[57]\ttrain-mlogloss:0.56947\tval-mlogloss:0.95798\n",
      "[58]\ttrain-mlogloss:0.56571\tval-mlogloss:0.95698\n",
      "[59]\ttrain-mlogloss:0.56087\tval-mlogloss:0.95659\n",
      "[60]\ttrain-mlogloss:0.55590\tval-mlogloss:0.95639\n",
      "[61]\ttrain-mlogloss:0.55185\tval-mlogloss:0.95642\n",
      "[62]\ttrain-mlogloss:0.54868\tval-mlogloss:0.95578\n",
      "[63]\ttrain-mlogloss:0.54589\tval-mlogloss:0.95620\n",
      "[64]\ttrain-mlogloss:0.54202\tval-mlogloss:0.95541\n",
      "[65]\ttrain-mlogloss:0.53865\tval-mlogloss:0.95680\n",
      "[66]\ttrain-mlogloss:0.53502\tval-mlogloss:0.95666\n",
      "[67]\ttrain-mlogloss:0.53128\tval-mlogloss:0.95568\n",
      "[68]\ttrain-mlogloss:0.52777\tval-mlogloss:0.95482\n",
      "[69]\ttrain-mlogloss:0.52448\tval-mlogloss:0.95449\n",
      "[70]\ttrain-mlogloss:0.52256\tval-mlogloss:0.95494\n",
      "[71]\ttrain-mlogloss:0.51912\tval-mlogloss:0.95521\n",
      "[72]\ttrain-mlogloss:0.51621\tval-mlogloss:0.95520\n",
      "[73]\ttrain-mlogloss:0.51384\tval-mlogloss:0.95567\n",
      "[74]\ttrain-mlogloss:0.51170\tval-mlogloss:0.95557\n"
     ]
    },
    {
     "name": "stdout",
     "output_type": "stream",
     "text": [
      "[75]\ttrain-mlogloss:0.50913\tval-mlogloss:0.95603\n",
      "[76]\ttrain-mlogloss:0.50521\tval-mlogloss:0.95607\n",
      "[77]\ttrain-mlogloss:0.50170\tval-mlogloss:0.95682\n",
      "[78]\ttrain-mlogloss:0.49887\tval-mlogloss:0.95666\n",
      "\n",
      "min_child_weight:8 best_ntree_limit:69\n",
      "\n",
      "[22:57:24] WARNING: ../src/learner.cc:1115: Starting in XGBoost 1.3.0, the default evaluation metric used with the objective 'multi:softmax' was changed from 'merror' to 'mlogloss'. Explicitly set eval_metric if you'd like to restore the old behavior.\n",
      "[0]\ttrain-mlogloss:2.00829\tval-mlogloss:2.02604\n",
      "[1]\ttrain-mlogloss:1.86242\tval-mlogloss:1.89114\n",
      "[2]\ttrain-mlogloss:1.74285\tval-mlogloss:1.78188\n",
      "[3]\ttrain-mlogloss:1.63879\tval-mlogloss:1.69472\n",
      "[4]\ttrain-mlogloss:1.54825\tval-mlogloss:1.61641\n",
      "[5]\ttrain-mlogloss:1.47045\tval-mlogloss:1.55164\n",
      "[6]\ttrain-mlogloss:1.40231\tval-mlogloss:1.49221\n",
      "[7]\ttrain-mlogloss:1.34001\tval-mlogloss:1.44124\n",
      "[8]\ttrain-mlogloss:1.28379\tval-mlogloss:1.39631\n",
      "[9]\ttrain-mlogloss:1.23375\tval-mlogloss:1.35611\n",
      "[10]\ttrain-mlogloss:1.18955\tval-mlogloss:1.32050\n",
      "[11]\ttrain-mlogloss:1.14710\tval-mlogloss:1.28800\n",
      "[12]\ttrain-mlogloss:1.11053\tval-mlogloss:1.26103\n",
      "[13]\ttrain-mlogloss:1.07559\tval-mlogloss:1.23611\n",
      "[14]\ttrain-mlogloss:1.04298\tval-mlogloss:1.21268\n",
      "[15]\ttrain-mlogloss:1.01327\tval-mlogloss:1.19161\n",
      "[16]\ttrain-mlogloss:0.98720\tval-mlogloss:1.17242\n",
      "[17]\ttrain-mlogloss:0.96109\tval-mlogloss:1.15543\n",
      "[18]\ttrain-mlogloss:0.93821\tval-mlogloss:1.14068\n",
      "[19]\ttrain-mlogloss:0.91788\tval-mlogloss:1.12644\n",
      "[20]\ttrain-mlogloss:0.89963\tval-mlogloss:1.11206\n",
      "[21]\ttrain-mlogloss:0.88116\tval-mlogloss:1.09871\n",
      "[22]\ttrain-mlogloss:0.86474\tval-mlogloss:1.08675\n",
      "[23]\ttrain-mlogloss:0.84996\tval-mlogloss:1.07655\n",
      "[24]\ttrain-mlogloss:0.83472\tval-mlogloss:1.06683\n",
      "[25]\ttrain-mlogloss:0.81932\tval-mlogloss:1.05632\n",
      "[26]\ttrain-mlogloss:0.80578\tval-mlogloss:1.04986\n",
      "[27]\ttrain-mlogloss:0.79317\tval-mlogloss:1.04278\n",
      "[28]\ttrain-mlogloss:0.78129\tval-mlogloss:1.03684\n",
      "[29]\ttrain-mlogloss:0.77104\tval-mlogloss:1.03059\n",
      "[30]\ttrain-mlogloss:0.75934\tval-mlogloss:1.02474\n",
      "[31]\ttrain-mlogloss:0.74988\tval-mlogloss:1.01805\n",
      "[32]\ttrain-mlogloss:0.73964\tval-mlogloss:1.01361\n",
      "[33]\ttrain-mlogloss:0.73140\tval-mlogloss:1.00811\n",
      "[34]\ttrain-mlogloss:0.72366\tval-mlogloss:1.00408\n",
      "[35]\ttrain-mlogloss:0.71531\tval-mlogloss:0.99982\n",
      "[36]\ttrain-mlogloss:0.70832\tval-mlogloss:0.99691\n",
      "[37]\ttrain-mlogloss:0.70078\tval-mlogloss:0.99311\n",
      "[38]\ttrain-mlogloss:0.69473\tval-mlogloss:0.99011\n",
      "[39]\ttrain-mlogloss:0.68852\tval-mlogloss:0.98678\n",
      "[40]\ttrain-mlogloss:0.68166\tval-mlogloss:0.98396\n",
      "[41]\ttrain-mlogloss:0.67492\tval-mlogloss:0.98120\n",
      "[42]\ttrain-mlogloss:0.66697\tval-mlogloss:0.97904\n",
      "[43]\ttrain-mlogloss:0.66174\tval-mlogloss:0.97661\n",
      "[44]\ttrain-mlogloss:0.65602\tval-mlogloss:0.97484\n",
      "[45]\ttrain-mlogloss:0.64890\tval-mlogloss:0.97327\n",
      "[46]\ttrain-mlogloss:0.64224\tval-mlogloss:0.97081\n",
      "[47]\ttrain-mlogloss:0.63809\tval-mlogloss:0.96939\n",
      "[48]\ttrain-mlogloss:0.63244\tval-mlogloss:0.96506\n",
      "[49]\ttrain-mlogloss:0.62592\tval-mlogloss:0.96259\n",
      "[50]\ttrain-mlogloss:0.61930\tval-mlogloss:0.96068\n",
      "[51]\ttrain-mlogloss:0.61442\tval-mlogloss:0.96012\n",
      "[52]\ttrain-mlogloss:0.60911\tval-mlogloss:0.96005\n",
      "[53]\ttrain-mlogloss:0.60312\tval-mlogloss:0.95866\n",
      "[54]\ttrain-mlogloss:0.59848\tval-mlogloss:0.95813\n",
      "[55]\ttrain-mlogloss:0.59363\tval-mlogloss:0.95802\n",
      "[56]\ttrain-mlogloss:0.58986\tval-mlogloss:0.95827\n",
      "[57]\ttrain-mlogloss:0.58725\tval-mlogloss:0.95966\n",
      "[58]\ttrain-mlogloss:0.58324\tval-mlogloss:0.95988\n",
      "[59]\ttrain-mlogloss:0.57907\tval-mlogloss:0.96006\n",
      "[60]\ttrain-mlogloss:0.57525\tval-mlogloss:0.96003\n",
      "[61]\ttrain-mlogloss:0.57178\tval-mlogloss:0.95964\n",
      "[62]\ttrain-mlogloss:0.56839\tval-mlogloss:0.95988\n",
      "[63]\ttrain-mlogloss:0.56528\tval-mlogloss:0.96038\n",
      "[64]\ttrain-mlogloss:0.56151\tval-mlogloss:0.96018\n",
      "[65]\ttrain-mlogloss:0.55893\tval-mlogloss:0.96047\n",
      "\n",
      "min_child_weight:9 best_ntree_limit:55\n",
      "\n",
      "[22:57:27] WARNING: ../src/learner.cc:1115: Starting in XGBoost 1.3.0, the default evaluation metric used with the objective 'multi:softmax' was changed from 'merror' to 'mlogloss'. Explicitly set eval_metric if you'd like to restore the old behavior.\n",
      "[0]\ttrain-mlogloss:2.00996\tval-mlogloss:2.02748\n",
      "[1]\ttrain-mlogloss:1.86536\tval-mlogloss:1.89396\n",
      "[2]\ttrain-mlogloss:1.74663\tval-mlogloss:1.78452\n",
      "[3]\ttrain-mlogloss:1.64261\tval-mlogloss:1.69433\n",
      "[4]\ttrain-mlogloss:1.55334\tval-mlogloss:1.61894\n",
      "[5]\ttrain-mlogloss:1.47587\tval-mlogloss:1.55258\n",
      "[6]\ttrain-mlogloss:1.40641\tval-mlogloss:1.49488\n",
      "[7]\ttrain-mlogloss:1.34463\tval-mlogloss:1.44439\n",
      "[8]\ttrain-mlogloss:1.28927\tval-mlogloss:1.40211\n",
      "[9]\ttrain-mlogloss:1.24005\tval-mlogloss:1.36182\n",
      "[10]\ttrain-mlogloss:1.19550\tval-mlogloss:1.32624\n",
      "[11]\ttrain-mlogloss:1.15557\tval-mlogloss:1.29336\n",
      "[12]\ttrain-mlogloss:1.11922\tval-mlogloss:1.26566\n",
      "[13]\ttrain-mlogloss:1.08410\tval-mlogloss:1.24016\n",
      "[14]\ttrain-mlogloss:1.05201\tval-mlogloss:1.21738\n",
      "[15]\ttrain-mlogloss:1.02232\tval-mlogloss:1.19660\n",
      "[16]\ttrain-mlogloss:0.99681\tval-mlogloss:1.17658\n",
      "[17]\ttrain-mlogloss:0.97297\tval-mlogloss:1.15805\n",
      "[18]\ttrain-mlogloss:0.95051\tval-mlogloss:1.14244\n",
      "[19]\ttrain-mlogloss:0.92930\tval-mlogloss:1.12835\n",
      "[20]\ttrain-mlogloss:0.91065\tval-mlogloss:1.11464\n",
      "[21]\ttrain-mlogloss:0.89338\tval-mlogloss:1.10103\n",
      "[22]\ttrain-mlogloss:0.87706\tval-mlogloss:1.08919\n",
      "[23]\ttrain-mlogloss:0.86119\tval-mlogloss:1.07872\n",
      "[24]\ttrain-mlogloss:0.84734\tval-mlogloss:1.06889\n",
      "[25]\ttrain-mlogloss:0.83409\tval-mlogloss:1.06001\n",
      "[26]\ttrain-mlogloss:0.82180\tval-mlogloss:1.05225\n",
      "[27]\ttrain-mlogloss:0.81026\tval-mlogloss:1.04503\n",
      "[28]\ttrain-mlogloss:0.79789\tval-mlogloss:1.03787\n",
      "[29]\ttrain-mlogloss:0.78743\tval-mlogloss:1.03087\n",
      "[30]\ttrain-mlogloss:0.77812\tval-mlogloss:1.02447\n",
      "[31]\ttrain-mlogloss:0.76876\tval-mlogloss:1.02043\n",
      "[32]\ttrain-mlogloss:0.75973\tval-mlogloss:1.01442\n",
      "[33]\ttrain-mlogloss:0.75089\tval-mlogloss:1.01057\n",
      "[34]\ttrain-mlogloss:0.74178\tval-mlogloss:1.00744\n",
      "[35]\ttrain-mlogloss:0.73358\tval-mlogloss:1.00287\n",
      "[36]\ttrain-mlogloss:0.72521\tval-mlogloss:1.00104\n",
      "[37]\ttrain-mlogloss:0.71834\tval-mlogloss:0.99775\n",
      "[38]\ttrain-mlogloss:0.71102\tval-mlogloss:0.99445\n",
      "[39]\ttrain-mlogloss:0.70367\tval-mlogloss:0.99046\n",
      "[40]\ttrain-mlogloss:0.69604\tval-mlogloss:0.98798\n",
      "[41]\ttrain-mlogloss:0.68922\tval-mlogloss:0.98475\n",
      "[42]\ttrain-mlogloss:0.68088\tval-mlogloss:0.98223\n",
      "[43]\ttrain-mlogloss:0.67492\tval-mlogloss:0.98155\n",
      "[44]\ttrain-mlogloss:0.66746\tval-mlogloss:0.98134\n",
      "[45]\ttrain-mlogloss:0.66195\tval-mlogloss:0.98008\n",
      "[46]\ttrain-mlogloss:0.65540\tval-mlogloss:0.98062\n",
      "[47]\ttrain-mlogloss:0.64781\tval-mlogloss:0.97784\n",
      "[48]\ttrain-mlogloss:0.64213\tval-mlogloss:0.97670\n",
      "[49]\ttrain-mlogloss:0.63688\tval-mlogloss:0.97631\n",
      "[50]\ttrain-mlogloss:0.63275\tval-mlogloss:0.97519\n",
      "[51]\ttrain-mlogloss:0.62691\tval-mlogloss:0.97480\n",
      "[52]\ttrain-mlogloss:0.62104\tval-mlogloss:0.97554\n",
      "[53]\ttrain-mlogloss:0.61700\tval-mlogloss:0.97481\n",
      "[54]\ttrain-mlogloss:0.61155\tval-mlogloss:0.97514\n",
      "[55]\ttrain-mlogloss:0.60767\tval-mlogloss:0.97559\n",
      "[56]\ttrain-mlogloss:0.60286\tval-mlogloss:0.97552\n",
      "[57]\ttrain-mlogloss:0.59940\tval-mlogloss:0.97576\n",
      "[58]\ttrain-mlogloss:0.59545\tval-mlogloss:0.97567\n",
      "[59]\ttrain-mlogloss:0.59190\tval-mlogloss:0.97508\n",
      "[60]\ttrain-mlogloss:0.58879\tval-mlogloss:0.97563\n",
      "\n",
      "min_child_weight:10 best_ntree_limit:51\n",
      "\n",
      "[22:57:31] WARNING: ../src/learner.cc:1115: Starting in XGBoost 1.3.0, the default evaluation metric used with the objective 'multi:softmax' was changed from 'merror' to 'mlogloss'. Explicitly set eval_metric if you'd like to restore the old behavior.\n",
      "[0]\ttrain-mlogloss:2.01776\tval-mlogloss:2.02454\n",
      "[1]\ttrain-mlogloss:1.87914\tval-mlogloss:1.89512\n",
      "[2]\ttrain-mlogloss:1.76349\tval-mlogloss:1.78916\n",
      "[3]\ttrain-mlogloss:1.66361\tval-mlogloss:1.69940\n",
      "[4]\ttrain-mlogloss:1.57969\tval-mlogloss:1.62404\n",
      "[5]\ttrain-mlogloss:1.50585\tval-mlogloss:1.55864\n",
      "[6]\ttrain-mlogloss:1.43810\tval-mlogloss:1.49971\n",
      "[7]\ttrain-mlogloss:1.37885\tval-mlogloss:1.44789\n",
      "[8]\ttrain-mlogloss:1.32672\tval-mlogloss:1.40525\n",
      "[9]\ttrain-mlogloss:1.28027\tval-mlogloss:1.36655\n",
      "[10]\ttrain-mlogloss:1.23560\tval-mlogloss:1.33218\n",
      "[11]\ttrain-mlogloss:1.19699\tval-mlogloss:1.29830\n",
      "[12]\ttrain-mlogloss:1.16086\tval-mlogloss:1.27031\n",
      "[13]\ttrain-mlogloss:1.12824\tval-mlogloss:1.24474\n",
      "[14]\ttrain-mlogloss:1.09874\tval-mlogloss:1.22229\n",
      "[15]\ttrain-mlogloss:1.07054\tval-mlogloss:1.19843\n",
      "[16]\ttrain-mlogloss:1.04534\tval-mlogloss:1.17966\n",
      "[17]\ttrain-mlogloss:1.02125\tval-mlogloss:1.16097\n",
      "[18]\ttrain-mlogloss:1.00014\tval-mlogloss:1.14488\n"
     ]
    },
    {
     "name": "stdout",
     "output_type": "stream",
     "text": [
      "[19]\ttrain-mlogloss:0.98090\tval-mlogloss:1.13176\n",
      "[20]\ttrain-mlogloss:0.96350\tval-mlogloss:1.11793\n",
      "[21]\ttrain-mlogloss:0.94772\tval-mlogloss:1.10598\n",
      "[22]\ttrain-mlogloss:0.93191\tval-mlogloss:1.09462\n",
      "[23]\ttrain-mlogloss:0.91544\tval-mlogloss:1.08697\n",
      "[24]\ttrain-mlogloss:0.90192\tval-mlogloss:1.07739\n",
      "[25]\ttrain-mlogloss:0.88848\tval-mlogloss:1.06869\n",
      "[26]\ttrain-mlogloss:0.87754\tval-mlogloss:1.06086\n",
      "[27]\ttrain-mlogloss:0.86636\tval-mlogloss:1.05295\n",
      "[28]\ttrain-mlogloss:0.85491\tval-mlogloss:1.04551\n",
      "[29]\ttrain-mlogloss:0.84447\tval-mlogloss:1.03807\n",
      "[30]\ttrain-mlogloss:0.83449\tval-mlogloss:1.03221\n",
      "[31]\ttrain-mlogloss:0.82376\tval-mlogloss:1.02774\n",
      "[32]\ttrain-mlogloss:0.81421\tval-mlogloss:1.02365\n",
      "[33]\ttrain-mlogloss:0.80488\tval-mlogloss:1.01893\n",
      "[34]\ttrain-mlogloss:0.79727\tval-mlogloss:1.01497\n",
      "[35]\ttrain-mlogloss:0.78920\tval-mlogloss:1.01181\n",
      "[36]\ttrain-mlogloss:0.78146\tval-mlogloss:1.00865\n",
      "[37]\ttrain-mlogloss:0.77398\tval-mlogloss:1.00594\n",
      "[38]\ttrain-mlogloss:0.76662\tval-mlogloss:1.00405\n",
      "[39]\ttrain-mlogloss:0.76047\tval-mlogloss:1.00162\n",
      "[40]\ttrain-mlogloss:0.75399\tval-mlogloss:0.99902\n",
      "[41]\ttrain-mlogloss:0.74813\tval-mlogloss:0.99649\n",
      "[42]\ttrain-mlogloss:0.74210\tval-mlogloss:0.99577\n",
      "[43]\ttrain-mlogloss:0.73666\tval-mlogloss:0.99464\n",
      "[44]\ttrain-mlogloss:0.73211\tval-mlogloss:0.99379\n",
      "[45]\ttrain-mlogloss:0.72713\tval-mlogloss:0.99359\n",
      "[46]\ttrain-mlogloss:0.72251\tval-mlogloss:0.99177\n",
      "[47]\ttrain-mlogloss:0.71953\tval-mlogloss:0.99161\n",
      "[48]\ttrain-mlogloss:0.71659\tval-mlogloss:0.99116\n",
      "[49]\ttrain-mlogloss:0.71330\tval-mlogloss:0.99141\n",
      "[50]\ttrain-mlogloss:0.70995\tval-mlogloss:0.99172\n",
      "[51]\ttrain-mlogloss:0.70692\tval-mlogloss:0.99138\n",
      "[52]\ttrain-mlogloss:0.70467\tval-mlogloss:0.99168\n",
      "[53]\ttrain-mlogloss:0.70191\tval-mlogloss:0.99237\n",
      "[54]\ttrain-mlogloss:0.69773\tval-mlogloss:0.99248\n",
      "[55]\ttrain-mlogloss:0.69447\tval-mlogloss:0.99190\n",
      "[56]\ttrain-mlogloss:0.69070\tval-mlogloss:0.99135\n",
      "[57]\ttrain-mlogloss:0.68798\tval-mlogloss:0.99151\n",
      "\n",
      "min_child_weight:15 best_ntree_limit:48\n",
      "\n",
      "[22:57:34] WARNING: ../src/learner.cc:1115: Starting in XGBoost 1.3.0, the default evaluation metric used with the objective 'multi:softmax' was changed from 'merror' to 'mlogloss'. Explicitly set eval_metric if you'd like to restore the old behavior.\n",
      "[0]\ttrain-mlogloss:2.01991\tval-mlogloss:2.02833\n",
      "[1]\ttrain-mlogloss:1.88323\tval-mlogloss:1.89997\n",
      "[2]\ttrain-mlogloss:1.77252\tval-mlogloss:1.79772\n",
      "[3]\ttrain-mlogloss:1.67573\tval-mlogloss:1.70973\n",
      "[4]\ttrain-mlogloss:1.59298\tval-mlogloss:1.63389\n",
      "[5]\ttrain-mlogloss:1.52071\tval-mlogloss:1.56619\n",
      "[6]\ttrain-mlogloss:1.45533\tval-mlogloss:1.50719\n",
      "[7]\ttrain-mlogloss:1.39799\tval-mlogloss:1.45508\n",
      "[8]\ttrain-mlogloss:1.34618\tval-mlogloss:1.40949\n",
      "[9]\ttrain-mlogloss:1.29969\tval-mlogloss:1.36862\n",
      "[10]\ttrain-mlogloss:1.25809\tval-mlogloss:1.33191\n",
      "[11]\ttrain-mlogloss:1.21920\tval-mlogloss:1.29944\n",
      "[12]\ttrain-mlogloss:1.18378\tval-mlogloss:1.26976\n",
      "[13]\ttrain-mlogloss:1.15233\tval-mlogloss:1.24419\n",
      "[14]\ttrain-mlogloss:1.12339\tval-mlogloss:1.22149\n",
      "[15]\ttrain-mlogloss:1.09696\tval-mlogloss:1.20132\n",
      "[16]\ttrain-mlogloss:1.07243\tval-mlogloss:1.18254\n",
      "[17]\ttrain-mlogloss:1.04939\tval-mlogloss:1.16838\n",
      "[18]\ttrain-mlogloss:1.02823\tval-mlogloss:1.15274\n",
      "[19]\ttrain-mlogloss:1.00886\tval-mlogloss:1.13938\n",
      "[20]\ttrain-mlogloss:0.99232\tval-mlogloss:1.12643\n",
      "[21]\ttrain-mlogloss:0.97549\tval-mlogloss:1.11411\n",
      "[22]\ttrain-mlogloss:0.96071\tval-mlogloss:1.10257\n",
      "[23]\ttrain-mlogloss:0.94515\tval-mlogloss:1.09282\n",
      "[24]\ttrain-mlogloss:0.93042\tval-mlogloss:1.08262\n",
      "[25]\ttrain-mlogloss:0.91731\tval-mlogloss:1.07505\n",
      "[26]\ttrain-mlogloss:0.90465\tval-mlogloss:1.06777\n",
      "[27]\ttrain-mlogloss:0.89345\tval-mlogloss:1.06128\n",
      "[28]\ttrain-mlogloss:0.88196\tval-mlogloss:1.05459\n",
      "[29]\ttrain-mlogloss:0.87145\tval-mlogloss:1.05083\n",
      "[30]\ttrain-mlogloss:0.86230\tval-mlogloss:1.04483\n",
      "[31]\ttrain-mlogloss:0.85343\tval-mlogloss:1.04042\n",
      "[32]\ttrain-mlogloss:0.84473\tval-mlogloss:1.03529\n",
      "[33]\ttrain-mlogloss:0.83673\tval-mlogloss:1.03152\n",
      "[34]\ttrain-mlogloss:0.82896\tval-mlogloss:1.02721\n",
      "[35]\ttrain-mlogloss:0.82211\tval-mlogloss:1.02367\n",
      "[36]\ttrain-mlogloss:0.81524\tval-mlogloss:1.02168\n",
      "[37]\ttrain-mlogloss:0.80804\tval-mlogloss:1.01872\n",
      "[38]\ttrain-mlogloss:0.80194\tval-mlogloss:1.01582\n",
      "[39]\ttrain-mlogloss:0.79568\tval-mlogloss:1.01320\n",
      "[40]\ttrain-mlogloss:0.79034\tval-mlogloss:1.01026\n",
      "[41]\ttrain-mlogloss:0.78606\tval-mlogloss:1.01048\n",
      "[42]\ttrain-mlogloss:0.78218\tval-mlogloss:1.01001\n",
      "[43]\ttrain-mlogloss:0.77869\tval-mlogloss:1.00927\n",
      "[44]\ttrain-mlogloss:0.77558\tval-mlogloss:1.00828\n",
      "[45]\ttrain-mlogloss:0.77207\tval-mlogloss:1.00784\n",
      "[46]\ttrain-mlogloss:0.76895\tval-mlogloss:1.00692\n",
      "[47]\ttrain-mlogloss:0.76573\tval-mlogloss:1.00632\n",
      "[48]\ttrain-mlogloss:0.76262\tval-mlogloss:1.00623\n",
      "[49]\ttrain-mlogloss:0.75923\tval-mlogloss:1.00699\n",
      "[50]\ttrain-mlogloss:0.75600\tval-mlogloss:1.00750\n",
      "[51]\ttrain-mlogloss:0.75354\tval-mlogloss:1.00724\n",
      "[52]\ttrain-mlogloss:0.75076\tval-mlogloss:1.00711\n",
      "[53]\ttrain-mlogloss:0.74796\tval-mlogloss:1.00898\n",
      "[54]\ttrain-mlogloss:0.74559\tval-mlogloss:1.00921\n",
      "[55]\ttrain-mlogloss:0.74291\tval-mlogloss:1.01041\n",
      "[56]\ttrain-mlogloss:0.74066\tval-mlogloss:1.00965\n",
      "[57]\ttrain-mlogloss:0.73848\tval-mlogloss:1.01035\n",
      "[58]\ttrain-mlogloss:0.73589\tval-mlogloss:1.01078\n",
      "\n",
      "min_child_weight:20 best_ntree_limit:48\n",
      "\n",
      "[22:57:38] WARNING: ../src/learner.cc:1115: Starting in XGBoost 1.3.0, the default evaluation metric used with the objective 'multi:softmax' was changed from 'merror' to 'mlogloss'. Explicitly set eval_metric if you'd like to restore the old behavior.\n",
      "[0]\ttrain-mlogloss:2.02563\tval-mlogloss:2.03511\n",
      "[1]\ttrain-mlogloss:1.89139\tval-mlogloss:1.90717\n",
      "[2]\ttrain-mlogloss:1.77968\tval-mlogloss:1.80403\n",
      "[3]\ttrain-mlogloss:1.68484\tval-mlogloss:1.71284\n",
      "[4]\ttrain-mlogloss:1.60443\tval-mlogloss:1.63720\n",
      "[5]\ttrain-mlogloss:1.53192\tval-mlogloss:1.56939\n",
      "[6]\ttrain-mlogloss:1.46769\tval-mlogloss:1.51270\n",
      "[7]\ttrain-mlogloss:1.40916\tval-mlogloss:1.46110\n",
      "[8]\ttrain-mlogloss:1.35902\tval-mlogloss:1.41513\n",
      "[9]\ttrain-mlogloss:1.31397\tval-mlogloss:1.37459\n",
      "[10]\ttrain-mlogloss:1.27240\tval-mlogloss:1.34061\n",
      "[11]\ttrain-mlogloss:1.23473\tval-mlogloss:1.30836\n",
      "[12]\ttrain-mlogloss:1.19991\tval-mlogloss:1.28047\n",
      "[13]\ttrain-mlogloss:1.16844\tval-mlogloss:1.25477\n",
      "[14]\ttrain-mlogloss:1.13960\tval-mlogloss:1.23205\n",
      "[15]\ttrain-mlogloss:1.11455\tval-mlogloss:1.21030\n",
      "[16]\ttrain-mlogloss:1.09104\tval-mlogloss:1.19153\n",
      "[17]\ttrain-mlogloss:1.06842\tval-mlogloss:1.17346\n",
      "[18]\ttrain-mlogloss:1.04754\tval-mlogloss:1.15753\n",
      "[19]\ttrain-mlogloss:1.02900\tval-mlogloss:1.14240\n",
      "[20]\ttrain-mlogloss:1.01158\tval-mlogloss:1.13057\n",
      "[21]\ttrain-mlogloss:0.99488\tval-mlogloss:1.11776\n",
      "[22]\ttrain-mlogloss:0.97976\tval-mlogloss:1.10644\n",
      "[23]\ttrain-mlogloss:0.96536\tval-mlogloss:1.09734\n",
      "[24]\ttrain-mlogloss:0.95212\tval-mlogloss:1.08942\n",
      "[25]\ttrain-mlogloss:0.93963\tval-mlogloss:1.08081\n",
      "[26]\ttrain-mlogloss:0.92733\tval-mlogloss:1.07436\n",
      "[27]\ttrain-mlogloss:0.91661\tval-mlogloss:1.06722\n",
      "[28]\ttrain-mlogloss:0.90662\tval-mlogloss:1.06186\n",
      "[29]\ttrain-mlogloss:0.89703\tval-mlogloss:1.05726\n",
      "[30]\ttrain-mlogloss:0.88824\tval-mlogloss:1.05296\n",
      "[31]\ttrain-mlogloss:0.87967\tval-mlogloss:1.04790\n",
      "[32]\ttrain-mlogloss:0.87122\tval-mlogloss:1.04359\n",
      "[33]\ttrain-mlogloss:0.86397\tval-mlogloss:1.03918\n",
      "[34]\ttrain-mlogloss:0.85626\tval-mlogloss:1.03539\n",
      "[35]\ttrain-mlogloss:0.85021\tval-mlogloss:1.03237\n",
      "[36]\ttrain-mlogloss:0.84387\tval-mlogloss:1.02836\n",
      "[37]\ttrain-mlogloss:0.83943\tval-mlogloss:1.02783\n",
      "[38]\ttrain-mlogloss:0.83532\tval-mlogloss:1.02608\n",
      "[39]\ttrain-mlogloss:0.83131\tval-mlogloss:1.02385\n",
      "[40]\ttrain-mlogloss:0.82705\tval-mlogloss:1.02410\n",
      "[41]\ttrain-mlogloss:0.82347\tval-mlogloss:1.02349\n",
      "[42]\ttrain-mlogloss:0.81985\tval-mlogloss:1.02319\n",
      "[43]\ttrain-mlogloss:0.81613\tval-mlogloss:1.02268\n",
      "[44]\ttrain-mlogloss:0.81285\tval-mlogloss:1.02197\n",
      "[45]\ttrain-mlogloss:0.80968\tval-mlogloss:1.02144\n",
      "[46]\ttrain-mlogloss:0.80700\tval-mlogloss:1.02089\n",
      "[47]\ttrain-mlogloss:0.80362\tval-mlogloss:1.02210\n",
      "[48]\ttrain-mlogloss:0.80130\tval-mlogloss:1.02211\n",
      "[49]\ttrain-mlogloss:0.79878\tval-mlogloss:1.02207\n",
      "[50]\ttrain-mlogloss:0.79593\tval-mlogloss:1.02262\n",
      "[51]\ttrain-mlogloss:0.79326\tval-mlogloss:1.02318\n",
      "[52]\ttrain-mlogloss:0.79041\tval-mlogloss:1.02331\n",
      "[53]\ttrain-mlogloss:0.78830\tval-mlogloss:1.02317\n",
      "[54]\ttrain-mlogloss:0.78630\tval-mlogloss:1.02336\n",
      "[55]\ttrain-mlogloss:0.78401\tval-mlogloss:1.02384\n",
      "[56]\ttrain-mlogloss:0.78133\tval-mlogloss:1.02366\n",
      "\n",
      "min_child_weight:25 best_ntree_limit:46\n",
      "\n"
     ]
    }
   ],
   "source": [
    "\n",
    "values = [1,2,3,4,5,6,7,8,9,10,15,20,25]\n",
    "xgb_progressbar = xgb_progress(num_rounds*len(values))\n",
    "\n",
    "scores = {}\n",
    "xgb_params['eta'] = 0.1\n",
    "xgb_params['max_depth'] = 7\n",
    "\n",
    "for min_c in values:\n",
    "    \n",
    "    progress = dict()\n",
    "\n",
    "    xgb_params['min_child_weight'] = min_c\n",
    "\n",
    "    xgb_model = xgb.train(\n",
    "        xgb_params, \n",
    "        df_train_xgb, \n",
    "        num_boost_round=num_rounds, \n",
    "        early_stopping_rounds=early_stop,\n",
    "        verbose_eval=1, \n",
    "        evals=watchlist,\n",
    "        callbacks=[xgb_progressbar],\n",
    "        evals_result=progress,\n",
    "    )\n",
    "    \n",
    "    print(f\"\\nmin_child_weight:{min_c} best_ntree_limit:{xgb_model.best_ntree_limit-1}\\n\")\n",
    "    \n",
    "    scores[min_c] = progress['val']['mlogloss']"
   ]
  },
  {
   "cell_type": "code",
   "execution_count": 145,
   "metadata": {},
   "outputs": [
    {
     "data": {
      "text/plain": [
       "<matplotlib.legend.Legend at 0x7f70fb84fac0>"
      ]
     },
     "execution_count": 145,
     "metadata": {},
     "output_type": "execute_result"
    },
    {
     "data": {
      "image/png": "[encoded data removed]",
      "text/plain": [
       "<Figure size 432x288 with 1 Axes>"
      ]
     },
     "metadata": {
      "needs_background": "light"
     },
     "output_type": "display_data"
    }
   ],
   "source": [
    "for k,v in scores.items():\n",
    "    plt.plot(v, label=f\"min_c:{k}\")\n",
    "plt.xlabel(\"Round\")\n",
    "plt.ylabel(\"Log-Loss\")\n",
    "plt.legend()"
   ]
  },
  {
   "cell_type": "code",
   "execution_count": 146,
   "metadata": {
    "scrolled": true
   },
   "outputs": [
    {
     "data": {
      "text/plain": [
       "<matplotlib.legend.Legend at 0x7f70b82c7e80>"
      ]
     },
     "execution_count": 146,
     "metadata": {},
     "output_type": "execute_result"
    },
    {
     "data": {
      "image/png": "[encoded data removed]",
      "text/plain": [
       "<Figure size 432x288 with 1 Axes>"
      ]
     },
     "metadata": {
      "needs_background": "light"
     },
     "output_type": "display_data"
    }
   ],
   "source": [
    "for k,v in scores.items():\n",
    "    plt.plot(v, label=f\"min_c:{k}\")\n",
    "plt.xlabel(\"Round\")\n",
    "plt.ylabel(\"Log-Loss\")\n",
    "plt.ylim(0.9,1.2)\n",
    "plt.legend()"
   ]
  },
  {
   "cell_type": "code",
   "execution_count": 147,
   "metadata": {},
   "outputs": [
    {
     "name": "stdout",
     "output_type": "stream",
     "text": [
      "min_child_weight: 1 - min Log-Loss:0.948695\n",
      "min_child_weight: 2 - min Log-Loss:0.961096\n",
      "min_child_weight: 3 - min Log-Loss:0.957039\n",
      "min_child_weight: 4 - min Log-Loss:0.956367\n",
      "min_child_weight: 5 - min Log-Loss:0.956431\n",
      "min_child_weight: 6 - min Log-Loss:0.957854\n",
      "min_child_weight: 7 - min Log-Loss:0.950615\n",
      "min_child_weight: 8 - min Log-Loss:0.954485\n",
      "min_child_weight: 9 - min Log-Loss:0.958017\n",
      "min_child_weight:10 - min Log-Loss:0.974796\n",
      "min_child_weight:15 - min Log-Loss:0.991155\n",
      "min_child_weight:20 - min Log-Loss:1.00623\n",
      "min_child_weight:25 - min Log-Loss:1.020889\n"
     ]
    }
   ],
   "source": [
    "for k,v in scores.items():\n",
    "    print(f\"min_child_weight:{k:2} - min Log-Loss:{min(v)}\")"
   ]
  },
  {
   "cell_type": "markdown",
   "metadata": {},
   "source": [
    "### **----- TMP RESULT -----**\n",
    "\n",
    "> The best `Log-Loss` for a **XBoost Classification** appears to be around `0.948` with `eta=0.1`, `max_depth=7`, `min_child_weight=1` and a `best_ntree_limit=60`\n",
    "---"
   ]
  },
  {
   "cell_type": "markdown",
   "metadata": {},
   "source": [
    "### Evaluate with `ROC AUC score`  <a class=\"anchor\" id=\"P04_xgboost_rocauc\"></a>"
   ]
  },
  {
   "cell_type": "code",
   "execution_count": 174,
   "metadata": {},
   "outputs": [],
   "source": [
    "xgb_model2 = xgb.XGBClassifier(n_estimators=num_rounds, learning_rate=0.1, max_depth=7, min_child_weight=1, objective='multi:softmax', num_class=max(y_pred)+1, random_state=1)"
   ]
  },
  {
   "cell_type": "code",
   "execution_count": 193,
   "metadata": {},
   "outputs": [],
   "source": [
    "watchlist = [(dt_train_full, y_train_full), (dt_test, y_test)]"
   ]
  },
  {
   "cell_type": "code",
   "execution_count": 194,
   "metadata": {},
   "outputs": [
    {
     "name": "stdout",
     "output_type": "stream",
     "text": [
      "[23:11:32] WARNING: ../src/learner.cc:1115: Starting in XGBoost 1.3.0, the default evaluation metric used with the objective 'multi:softprob' was changed from 'merror' to 'mlogloss'. Explicitly set eval_metric if you'd like to restore the old behavior.\n",
      "[0]\tvalidation_0-mlogloss:1.64500\tvalidation_1-mlogloss:1.68326\n",
      "[1]\tvalidation_0-mlogloss:1.52545\tvalidation_1-mlogloss:1.59504\n"
     ]
    },
    {
     "name": "stderr",
     "output_type": "stream",
     "text": [
      "/home/valkea/.local/lib/python3.8/site-packages/xgboost/sklearn.py:1224: UserWarning: The use of label encoder in XGBClassifier is deprecated and will be removed in a future release. To remove this warning, do the following: 1) Pass option use_label_encoder=False when constructing XGBClassifier object; and 2) Encode your labels (y) as integers starting with 0, i.e. 0, 1, 2, ..., [num_class - 1].\n",
      "  warnings.warn(label_encoder_deprecation_msg, UserWarning)\n"
     ]
    },
    {
     "name": "stdout",
     "output_type": "stream",
     "text": [
      "[2]\tvalidation_0-mlogloss:1.42362\tvalidation_1-mlogloss:1.51950\n",
      "[3]\tvalidation_0-mlogloss:1.33528\tvalidation_1-mlogloss:1.45421\n",
      "[4]\tvalidation_0-mlogloss:1.25650\tvalidation_1-mlogloss:1.39695\n",
      "[5]\tvalidation_0-mlogloss:1.18534\tvalidation_1-mlogloss:1.34817\n",
      "[6]\tvalidation_0-mlogloss:1.12059\tvalidation_1-mlogloss:1.30419\n",
      "[7]\tvalidation_0-mlogloss:1.06390\tvalidation_1-mlogloss:1.26503\n",
      "[8]\tvalidation_0-mlogloss:1.01231\tvalidation_1-mlogloss:1.23137\n",
      "[9]\tvalidation_0-mlogloss:0.96497\tvalidation_1-mlogloss:1.20101\n",
      "[10]\tvalidation_0-mlogloss:0.92299\tvalidation_1-mlogloss:1.17259\n",
      "[11]\tvalidation_0-mlogloss:0.87838\tvalidation_1-mlogloss:1.14184\n",
      "[12]\tvalidation_0-mlogloss:0.84096\tvalidation_1-mlogloss:1.11759\n",
      "[13]\tvalidation_0-mlogloss:0.80833\tvalidation_1-mlogloss:1.09604\n",
      "[14]\tvalidation_0-mlogloss:0.77627\tvalidation_1-mlogloss:1.07624\n",
      "[15]\tvalidation_0-mlogloss:0.74927\tvalidation_1-mlogloss:1.05905\n",
      "[16]\tvalidation_0-mlogloss:0.72214\tvalidation_1-mlogloss:1.04263\n",
      "[17]\tvalidation_0-mlogloss:0.69909\tvalidation_1-mlogloss:1.02801\n",
      "[18]\tvalidation_0-mlogloss:0.67780\tvalidation_1-mlogloss:1.01610\n",
      "[19]\tvalidation_0-mlogloss:0.65428\tvalidation_1-mlogloss:1.00272\n",
      "[20]\tvalidation_0-mlogloss:0.63428\tvalidation_1-mlogloss:0.99255\n",
      "[21]\tvalidation_0-mlogloss:0.61532\tvalidation_1-mlogloss:0.98255\n",
      "[22]\tvalidation_0-mlogloss:0.59856\tvalidation_1-mlogloss:0.97373\n",
      "[23]\tvalidation_0-mlogloss:0.58109\tvalidation_1-mlogloss:0.96391\n",
      "[24]\tvalidation_0-mlogloss:0.56592\tvalidation_1-mlogloss:0.95732\n",
      "[25]\tvalidation_0-mlogloss:0.55168\tvalidation_1-mlogloss:0.94939\n",
      "[26]\tvalidation_0-mlogloss:0.53736\tvalidation_1-mlogloss:0.94250\n",
      "[27]\tvalidation_0-mlogloss:0.52455\tvalidation_1-mlogloss:0.93806\n",
      "[28]\tvalidation_0-mlogloss:0.51359\tvalidation_1-mlogloss:0.93168\n",
      "[29]\tvalidation_0-mlogloss:0.50172\tvalidation_1-mlogloss:0.92704\n",
      "[30]\tvalidation_0-mlogloss:0.48889\tvalidation_1-mlogloss:0.92095\n",
      "[31]\tvalidation_0-mlogloss:0.47997\tvalidation_1-mlogloss:0.91689\n",
      "[32]\tvalidation_0-mlogloss:0.46971\tvalidation_1-mlogloss:0.91459\n",
      "[33]\tvalidation_0-mlogloss:0.45761\tvalidation_1-mlogloss:0.90985\n",
      "[34]\tvalidation_0-mlogloss:0.44879\tvalidation_1-mlogloss:0.90635\n",
      "[35]\tvalidation_0-mlogloss:0.44017\tvalidation_1-mlogloss:0.90288\n",
      "[36]\tvalidation_0-mlogloss:0.43355\tvalidation_1-mlogloss:0.90078\n",
      "[37]\tvalidation_0-mlogloss:0.42689\tvalidation_1-mlogloss:0.89890\n",
      "[38]\tvalidation_0-mlogloss:0.42048\tvalidation_1-mlogloss:0.89584\n",
      "[39]\tvalidation_0-mlogloss:0.41443\tvalidation_1-mlogloss:0.89421\n",
      "[40]\tvalidation_0-mlogloss:0.40719\tvalidation_1-mlogloss:0.89243\n",
      "[41]\tvalidation_0-mlogloss:0.40166\tvalidation_1-mlogloss:0.89094\n",
      "[42]\tvalidation_0-mlogloss:0.39575\tvalidation_1-mlogloss:0.88946\n",
      "[43]\tvalidation_0-mlogloss:0.39039\tvalidation_1-mlogloss:0.88694\n",
      "[44]\tvalidation_0-mlogloss:0.38433\tvalidation_1-mlogloss:0.88510\n",
      "[45]\tvalidation_0-mlogloss:0.37817\tvalidation_1-mlogloss:0.88304\n",
      "[46]\tvalidation_0-mlogloss:0.37290\tvalidation_1-mlogloss:0.88086\n",
      "[47]\tvalidation_0-mlogloss:0.36556\tvalidation_1-mlogloss:0.87949\n",
      "[48]\tvalidation_0-mlogloss:0.36027\tvalidation_1-mlogloss:0.87882\n",
      "[49]\tvalidation_0-mlogloss:0.35473\tvalidation_1-mlogloss:0.87775\n",
      "[50]\tvalidation_0-mlogloss:0.34958\tvalidation_1-mlogloss:0.87677\n",
      "[51]\tvalidation_0-mlogloss:0.34432\tvalidation_1-mlogloss:0.87544\n",
      "[52]\tvalidation_0-mlogloss:0.33863\tvalidation_1-mlogloss:0.87410\n",
      "[53]\tvalidation_0-mlogloss:0.33310\tvalidation_1-mlogloss:0.87347\n",
      "[54]\tvalidation_0-mlogloss:0.32829\tvalidation_1-mlogloss:0.87324\n",
      "[55]\tvalidation_0-mlogloss:0.32356\tvalidation_1-mlogloss:0.87346\n",
      "[56]\tvalidation_0-mlogloss:0.31898\tvalidation_1-mlogloss:0.87316\n",
      "[57]\tvalidation_0-mlogloss:0.31427\tvalidation_1-mlogloss:0.87126\n",
      "[58]\tvalidation_0-mlogloss:0.31029\tvalidation_1-mlogloss:0.87054\n",
      "[59]\tvalidation_0-mlogloss:0.30462\tvalidation_1-mlogloss:0.87004\n",
      "[60]\tvalidation_0-mlogloss:0.30062\tvalidation_1-mlogloss:0.86845\n",
      "[61]\tvalidation_0-mlogloss:0.29576\tvalidation_1-mlogloss:0.86652\n",
      "[62]\tvalidation_0-mlogloss:0.29115\tvalidation_1-mlogloss:0.86533\n",
      "[63]\tvalidation_0-mlogloss:0.28727\tvalidation_1-mlogloss:0.86394\n",
      "[64]\tvalidation_0-mlogloss:0.28353\tvalidation_1-mlogloss:0.86406\n",
      "[65]\tvalidation_0-mlogloss:0.28019\tvalidation_1-mlogloss:0.86339\n",
      "[66]\tvalidation_0-mlogloss:0.27589\tvalidation_1-mlogloss:0.86403\n",
      "[67]\tvalidation_0-mlogloss:0.27311\tvalidation_1-mlogloss:0.86424\n",
      "[68]\tvalidation_0-mlogloss:0.26799\tvalidation_1-mlogloss:0.86374\n",
      "[69]\tvalidation_0-mlogloss:0.26492\tvalidation_1-mlogloss:0.86363\n",
      "[70]\tvalidation_0-mlogloss:0.26042\tvalidation_1-mlogloss:0.86391\n",
      "[71]\tvalidation_0-mlogloss:0.25753\tvalidation_1-mlogloss:0.86428\n",
      "[72]\tvalidation_0-mlogloss:0.25442\tvalidation_1-mlogloss:0.86462\n",
      "[73]\tvalidation_0-mlogloss:0.25105\tvalidation_1-mlogloss:0.86433\n",
      "[74]\tvalidation_0-mlogloss:0.24850\tvalidation_1-mlogloss:0.86332\n",
      "[75]\tvalidation_0-mlogloss:0.24517\tvalidation_1-mlogloss:0.86349\n",
      "[76]\tvalidation_0-mlogloss:0.24141\tvalidation_1-mlogloss:0.86250\n",
      "[77]\tvalidation_0-mlogloss:0.23837\tvalidation_1-mlogloss:0.86191\n",
      "[78]\tvalidation_0-mlogloss:0.23575\tvalidation_1-mlogloss:0.86101\n",
      "[79]\tvalidation_0-mlogloss:0.23307\tvalidation_1-mlogloss:0.86193\n",
      "[80]\tvalidation_0-mlogloss:0.23076\tvalidation_1-mlogloss:0.86328\n",
      "[81]\tvalidation_0-mlogloss:0.22773\tvalidation_1-mlogloss:0.86448\n",
      "[82]\tvalidation_0-mlogloss:0.22472\tvalidation_1-mlogloss:0.86428\n",
      "[83]\tvalidation_0-mlogloss:0.22200\tvalidation_1-mlogloss:0.86463\n",
      "[84]\tvalidation_0-mlogloss:0.21918\tvalidation_1-mlogloss:0.86572\n",
      "[85]\tvalidation_0-mlogloss:0.21578\tvalidation_1-mlogloss:0.86493\n",
      "[86]\tvalidation_0-mlogloss:0.21281\tvalidation_1-mlogloss:0.86393\n",
      "[87]\tvalidation_0-mlogloss:0.20977\tvalidation_1-mlogloss:0.86554\n",
      "[88]\tvalidation_0-mlogloss:0.20658\tvalidation_1-mlogloss:0.86597\n"
     ]
    },
    {
     "data": {
      "text/plain": [
       "XGBClassifier(base_score=0.5, booster='gbtree', colsample_bylevel=1,\n",
       "              colsample_bynode=1, colsample_bytree=1, enable_categorical=False,\n",
       "              gamma=0, gpu_id=-1, importance_type=None,\n",
       "              interaction_constraints='', learning_rate=0.1, max_delta_step=0,\n",
       "              max_depth=7, min_child_weight=1, missing=nan,\n",
       "              monotone_constraints='()', n_estimators=100, n_jobs=8,\n",
       "              num_class=9, num_parallel_tree=1, objective='multi:softprob',\n",
       "              predictor='auto', random_state=1, reg_alpha=0, reg_lambda=1,\n",
       "              scale_pos_weight=None, subsample=1, tree_method='exact',\n",
       "              validate_parameters=1, verbosity=None)"
      ]
     },
     "execution_count": 194,
     "metadata": {},
     "output_type": "execute_result"
    }
   ],
   "source": [
    "xgb_model2.fit(dt_train_full, y_train_full, eval_set=watchlist, early_stopping_rounds=early_stop)"
   ]
  },
  {
   "cell_type": "code",
   "execution_count": 195,
   "metadata": {},
   "outputs": [
    {
     "data": {
      "text/plain": [
       "78"
      ]
     },
     "execution_count": 195,
     "metadata": {},
     "output_type": "execute_result"
    }
   ],
   "source": [
    "xgb_model2.best_ntree_limit-1"
   ]
  },
  {
   "cell_type": "markdown",
   "metadata": {},
   "source": [
    "I evualute the model using the `test` set because the Validation is included in the `training_full` set."
   ]
  },
  {
   "cell_type": "code",
   "execution_count": 202,
   "metadata": {},
   "outputs": [],
   "source": [
    "y_pred = xgb_model2.predict(dt_test)\n",
    "y_pred_proba = xgb_model2.predict_proba(dt_test)"
   ]
  },
  {
   "cell_type": "code",
   "execution_count": 203,
   "metadata": {},
   "outputs": [
    {
     "name": "stdout",
     "output_type": "stream",
     "text": [
      "ROCAUC: 0.791 | F1: 0.642 (precision: 0.631 & recall: 0.656) | Accuracy: 0.656\n"
     ]
    },
    {
     "data": {
      "text/plain": [
       "(0.7906237259835716, 0.6418762716808242)"
      ]
     },
     "execution_count": 203,
     "metadata": {},
     "output_type": "execute_result"
    }
   ],
   "source": [
    "evaluate_classification(y_test, y_pred, y_pred_proba)"
   ]
  },
  {
   "cell_type": "markdown",
   "metadata": {},
   "source": [
    "### **----- FINAL XGBoost RESULT -----**\n",
    "\n",
    "> The best `ROC AUC score` for a **XBoost Classification** appears to be around `0.791` *(on the test set)*\n",
    "---"
   ]
  },
  {
   "cell_type": "markdown",
   "metadata": {},
   "source": [
    "## TO-TEST (later)"
   ]
  },
  {
   "cell_type": "code",
   "execution_count": null,
   "metadata": {},
   "outputs": [],
   "source": [
    "xgb_model.best_ntree_limit"
   ]
  },
  {
   "cell_type": "raw",
   "metadata": {},
   "source": [
    "from sklearn.model_selection import RepeatedKFold"
   ]
  },
  {
   "cell_type": "raw",
   "metadata": {},
   "source": [
    "# define model evaluation method\n",
    "cv = RepeatedKFold(n_splits=10, n_repeats=3, random_state=1)\n",
    "# evaluate model\n",
    "scores = cross_val_score(model, X, y, scoring='neg_mean_absolute_error', cv=cv, n_jobs=-1)"
   ]
  },
  {
   "cell_type": "markdown",
   "metadata": {},
   "source": [
    "## Model results <a class=\"anchor\" id=\"P04_result\"></a>"
   ]
  },
  {
   "cell_type": "markdown",
   "metadata": {},
   "source": [
    "* The best `ROC AUC score` for a basic **Logistic Regression** appears to be around `0.644`\n",
    "* The best `ROC AUC score` for a **Decision Tree** appears to be around `0.791` with `max_depth=5` and `min_samples_leaf=15`\n",
    "* The best `ROC AUC score` for a **Random Forest** appears to be around `0.843` with `n_estimarors=500` and `max_depth=20`\n",
    "* The best `ROC AUC score` for a **XBoost Classification** appears to be around `0.791` *(on the test set)*\n",
    "\n",
    "> The **Random Forest** model appears to be the best model at the moment *(but we could try more models and fine tune more parameters)*.\n",
    "\n",
    "**Let's export the selected model**"
   ]
  },
  {
   "cell_type": "markdown",
   "metadata": {},
   "source": [
    "# 5. Export the selected model <a class=\"anchor\" id=\"P05\"></a>"
   ]
  },
  {
   "cell_type": "markdown",
   "metadata": {},
   "source": [
    "### Train a Random Forest model with the best parameters on the train_full dataset <a class=\"anchor\" id=\"P05_train\"></a>"
   ]
  },
  {
   "cell_type": "code",
   "execution_count": 206,
   "metadata": {},
   "outputs": [
    {
     "name": "stdout",
     "output_type": "stream",
     "text": [
      "ROCAUC: 0.872 | F1: 0.644 (precision: 0.630 & recall: 0.662) | Accuracy: 0.662\n"
     ]
    },
    {
     "data": {
      "text/plain": [
       "(0.8719815805432454, 0.6444622248945622)"
      ]
     },
     "execution_count": 206,
     "metadata": {},
     "output_type": "execute_result"
    }
   ],
   "source": [
    "rforest_model = RandomForestClassifier(n_estimators=500, random_state=1, n_jobs=-1, max_depth=20)\n",
    "rforest_model.fit(dt_train_full, y_train_full)\n",
    "\n",
    "y_pred = rforest_model.predict(dt_test)\n",
    "y_pred_proba = rforest_model.predict_proba(dt_test)\n",
    "\n",
    "evaluate_classification(y_test, y_pred, y_pred_proba)"
   ]
  },
  {
   "cell_type": "markdown",
   "metadata": {},
   "source": [
    "### Save the model <a class=\"anchor\" id=\"P05_export\"></a>"
   ]
  },
  {
   "cell_type": "code",
   "execution_count": 207,
   "metadata": {},
   "outputs": [],
   "source": [
    "import pickle"
   ]
  },
  {
   "cell_type": "code",
   "execution_count": 210,
   "metadata": {},
   "outputs": [],
   "source": [
    "with open('model.bin', 'wb') as f_out:\n",
    "    pickle.dump((rforest_model), f_out)"
   ]
  },
  {
   "cell_type": "code",
   "execution_count": null,
   "metadata": {},
   "outputs": [],
   "source": []
  },
  {
   "cell_type": "code",
   "execution_count": 217,
   "metadata": {},
   "outputs": [
    {
     "data": {
      "text/plain": [
       "(array([11.8   ,  0.51  ,  0.66  ,  0.64  , 15.    ,  0.9973]), 7)"
      ]
     },
     "execution_count": 217,
     "metadata": {},
     "output_type": "execute_result"
    }
   ],
   "source": [
    "dt_test.values[10], y_test.values[10]"
   ]
  },
  {
   "cell_type": "code",
   "execution_count": 218,
   "metadata": {},
   "outputs": [
    {
     "data": {
      "text/plain": [
       "(array([ 9.9    ,  0.88   ,  0.56   ,  0.04   , 20.     ,  0.99636]), 5)"
      ]
     },
     "execution_count": 218,
     "metadata": {},
     "output_type": "execute_result"
    }
   ],
   "source": [
    "dt_test.values[100], y_test.values[100]"
   ]
  },
  {
   "cell_type": "code",
   "execution_count": null,
   "metadata": {},
   "outputs": [],
   "source": []
  }
 ],
 "metadata": {
  "kernelspec": {
   "display_name": "Python 3",
   "language": "python",
   "name": "python3"
  },
  "language_info": {
   "codemirror_mode": {
    "name": "ipython",
    "version": 3
   },
   "file_extension": ".py",
   "mimetype": "text/x-python",
   "name": "python",
   "nbconvert_exporter": "python",
   "pygments_lexer": "ipython3",
   "version": "3.8.10"
  }
 },
 "nbformat": 4,
 "nbformat_minor": 4
}
